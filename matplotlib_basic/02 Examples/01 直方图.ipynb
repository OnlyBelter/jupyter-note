{
 "cells": [
  {
   "cell_type": "code",
   "execution_count": 1,
   "metadata": {},
   "outputs": [],
   "source": [
    "%matplotlib inline\n",
    "import matplotlib.pyplot as plt\n",
    "import seaborn as sns; sns.set()\n",
    "import numpy as np"
   ]
  },
  {
   "cell_type": "code",
   "execution_count": 2,
   "metadata": {},
   "outputs": [],
   "source": [
    "def make_data(N, f=0.3, rseed=1):\n",
    "    rand = np.random.RandomState(rseed)\n",
    "    x = rand.randn(N)\n",
    "    x[int(f * N):] += 5\n",
    "    return x\n",
    "\n",
    "x = make_data(1000)"
   ]
  },
  {
   "cell_type": "code",
   "execution_count": 4,
   "metadata": {},
   "outputs": [
    {
     "data": {
      "image/png": "[encoded data removed]",
      "text/plain": [
       "<Figure size 432x288 with 1 Axes>"
      ]
     },
     "metadata": {},
     "output_type": "display_data"
    }
   ],
   "source": [
    "hist = plt.hist(x, bins=30, density=True)"
   ]
  },
  {
   "cell_type": "code",
   "execution_count": 5,
   "metadata": {},
   "outputs": [
    {
     "data": {
      "text/plain": [
       "array([-2.793085  , -2.40136208, -2.00963915, -1.61791623, -1.22619331,\n",
       "       -0.83447038, -0.44274746, -0.05102454,  0.34069839,  0.73242131,\n",
       "        1.12414423,  1.51586716,  1.90759008,  2.29931301,  2.69103593,\n",
       "        3.08275885,  3.47448178,  3.8662047 ,  4.25792762,  4.64965055,\n",
       "        5.04137347,  5.43309639,  5.82481932,  6.21654224,  6.60826516,\n",
       "        6.99998809,  7.39171101,  7.78343393,  8.17515686,  8.56687978,\n",
       "        8.9586027 ])"
      ]
     },
     "execution_count": 5,
     "metadata": {},
     "output_type": "execute_result"
    }
   ],
   "source": [
    "density, bins, patches = hist\n",
    "bins"
   ]
  },
  {
   "cell_type": "code",
   "execution_count": 6,
   "metadata": {},
   "outputs": [
    {
     "data": {
      "text/plain": [
       "array([ 0.39172292,  0.39172292,  0.39172292,  0.39172292,  0.39172292,\n",
       "        0.39172292,  0.39172292,  0.39172292,  0.39172292,  0.39172292,\n",
       "        0.39172292,  0.39172292,  0.39172292,  0.39172292,  0.39172292,\n",
       "        0.39172292,  0.39172292,  0.39172292,  0.39172292,  0.39172292,\n",
       "        0.39172292,  0.39172292,  0.39172292,  0.39172292,  0.39172292,\n",
       "        0.39172292,  0.39172292,  0.39172292,  0.39172292,  0.39172292])"
      ]
     },
     "execution_count": 6,
     "metadata": {},
     "output_type": "execute_result"
    }
   ],
   "source": [
    "widths = bins[1:] - bins[:-1]\n",
    "widths"
   ]
  },
  {
   "cell_type": "code",
   "execution_count": 7,
   "metadata": {},
   "outputs": [
    {
     "data": {
      "text/plain": [
       "1.0"
      ]
     },
     "execution_count": 7,
     "metadata": {},
     "output_type": "execute_result"
    }
   ],
   "source": [
    "(density * widths).sum()  # 概率密度 x 30个固定宽度的区间，得到概率密度下的面积"
   ]
  },
  {
   "cell_type": "code",
   "execution_count": 8,
   "metadata": {},
   "outputs": [
    {
     "data": {
      "text/plain": [
       "(array([ 0.00510565,  0.00765847,  0.01531695,  0.03829237,  0.06637345,\n",
       "         0.08169039,  0.12764124,  0.13274689,  0.10211299,  0.08679604,\n",
       "         0.04339802,  0.0306339 ,  0.0306339 ,  0.01786977,  0.04595085,\n",
       "         0.04850367,  0.08424322,  0.17614491,  0.24251836,  0.2986805 ,\n",
       "         0.23230706,  0.26038813,  0.19146186,  0.09445452,  0.0612678 ,\n",
       "         0.01786977,  0.00510565,  0.00255282,  0.00255282,  0.00255282]),\n",
       " array([-2.793085  , -2.40136208, -2.00963915, -1.61791623, -1.22619331,\n",
       "        -0.83447038, -0.44274746, -0.05102454,  0.34069839,  0.73242131,\n",
       "         1.12414423,  1.51586716,  1.90759008,  2.29931301,  2.69103593,\n",
       "         3.08275885,  3.47448178,  3.8662047 ,  4.25792762,  4.64965055,\n",
       "         5.04137347,  5.43309639,  5.82481932,  6.21654224,  6.60826516,\n",
       "         6.99998809,  7.39171101,  7.78343393,  8.17515686,  8.56687978,\n",
       "         8.9586027 ]),\n",
       " <a list of 30 Patch objects>)"
      ]
     },
     "execution_count": 8,
     "metadata": {},
     "output_type": "execute_result"
    }
   ],
   "source": [
    "hist"
   ]
  },
  {
   "cell_type": "code",
   "execution_count": null,
   "metadata": {},
   "outputs": [],
   "source": []
  }
 ],
 "metadata": {
  "kernelspec": {
   "display_name": "Python 3",
   "language": "python",
   "name": "python3"
  },
  "language_info": {
   "codemirror_mode": {
    "name": "ipython",
    "version": 3
   },
   "file_extension": ".py",
   "mimetype": "text/x-python",
   "name": "python",
   "nbconvert_exporter": "python",
   "pygments_lexer": "ipython3",
   "version": "3.6.5"
  }
 },
 "nbformat": 4,
 "nbformat_minor": 2
}
