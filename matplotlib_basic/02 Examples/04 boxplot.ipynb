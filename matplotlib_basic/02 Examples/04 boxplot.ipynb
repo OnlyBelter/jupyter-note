{
 "cells": [
  {
   "cell_type": "code",
   "execution_count": 1,
   "metadata": {},
   "outputs": [],
   "source": [
    "import matplotlib.pyplot as plt\n",
    "import numpy as np\n",
    "%matplotlib inline"
   ]
  },
  {
   "cell_type": "code",
   "execution_count": 2,
   "metadata": {},
   "outputs": [
    {
     "data": {
      "text/html": [
       "<img src=\"https://cdn-images-1.medium.com/max/2000/1*2c21SkzJMf3frPXPAR_gZA.png\">\n",
       "<a href=\"https://towardsdatascience.com/understanding-boxplots-5e2df7bcbd51\" target=\"_blank\">src</a>\n"
      ],
      "text/plain": [
       "<IPython.core.display.HTML object>"
      ]
     },
     "metadata": {},
     "output_type": "display_data"
    }
   ],
   "source": [
    "%%HTML\n",
    "<img src=\"https://cdn-images-1.medium.com/max/2000/1*2c21SkzJMf3frPXPAR_gZA.png\">\n",
    "<a href=\"https://towardsdatascience.com/understanding-boxplots-5e2df7bcbd51\" target=\"_blank\">src</a>"
   ]
  },
  {
   "cell_type": "code",
   "execution_count": 3,
   "metadata": {},
   "outputs": [
    {
     "data": {
      "text/plain": [
       "{'whiskers': [<matplotlib.lines.Line2D at 0x7fb6343c0208>,\n",
       "  <matplotlib.lines.Line2D at 0x7fb6343c0588>,\n",
       "  <matplotlib.lines.Line2D at 0x7fb6343d79b0>,\n",
       "  <matplotlib.lines.Line2D at 0x7fb6343d7cf8>],\n",
       " 'caps': [<matplotlib.lines.Line2D at 0x7fb6343c08d0>,\n",
       "  <matplotlib.lines.Line2D at 0x7fb6343c0c18>,\n",
       "  <matplotlib.lines.Line2D at 0x7fb6343e1080>,\n",
       "  <matplotlib.lines.Line2D at 0x7fb6343e13c8>],\n",
       " 'boxes': [<matplotlib.lines.Line2D at 0x7fb6343c00b8>,\n",
       "  <matplotlib.lines.Line2D at 0x7fb6343d7668>],\n",
       " 'medians': [<matplotlib.lines.Line2D at 0x7fb6343c0f60>,\n",
       "  <matplotlib.lines.Line2D at 0x7fb6343e1710>],\n",
       " 'fliers': [<matplotlib.lines.Line2D at 0x7fb6343d72e8>,\n",
       "  <matplotlib.lines.Line2D at 0x7fb6343e1a58>],\n",
       " 'means': []}"
      ]
     },
     "execution_count": 3,
     "metadata": {},
     "output_type": "execute_result"
    },
    {
     "data": {
      "image/png": "[encoded data removed]",
      "text/plain": [
       "<Figure size 280x210 with 1 Axes>"
      ]
     },
     "metadata": {
      "needs_background": "light"
     },
     "output_type": "display_data"
    }
   ],
   "source": [
    "w = 4\n",
    "h = 3\n",
    "d = 70\n",
    "plt.figure(figsize=(w, h), dpi=d)\n",
    "plt.axis([0, 5, 0, 5])\n",
    "y1 = (1, 2, 3)\n",
    "y2 = (4, 3, 1)\n",
    "\n",
    "plt.boxplot([y1, y2])"
   ]
  },
  {
   "cell_type": "markdown",
   "metadata": {},
   "source": [
    "#### calculate percentile"
   ]
  },
  {
   "cell_type": "code",
   "execution_count": 4,
   "metadata": {},
   "outputs": [
    {
     "data": {
      "text/plain": [
       "12.0"
      ]
     },
     "execution_count": 4,
     "metadata": {},
     "output_type": "execute_result"
    }
   ],
   "source": [
    "a = np.array([10,12,23])\n",
    "np.percentile(a, 50) # return 50th percentile, e.g median."
   ]
  },
  {
   "cell_type": "code",
   "execution_count": 5,
   "metadata": {},
   "outputs": [
    {
     "data": {
      "text/plain": [
       "22.78"
      ]
     },
     "execution_count": 5,
     "metadata": {},
     "output_type": "execute_result"
    }
   ],
   "source": [
    "np.percentile(a, 99)"
   ]
  },
  {
   "cell_type": "code",
   "execution_count": 6,
   "metadata": {},
   "outputs": [
    {
     "data": {
      "text/plain": [
       "22.89"
      ]
     },
     "execution_count": 6,
     "metadata": {},
     "output_type": "execute_result"
    }
   ],
   "source": [
    "np.percentile(a, 99.5)"
   ]
  },
  {
   "cell_type": "markdown",
   "metadata": {},
   "source": [
    "#### multiple groups"
   ]
  },
  {
   "cell_type": "code",
   "execution_count": 7,
   "metadata": {},
   "outputs": [],
   "source": [
    "# fake up some data\n",
    "spread = np.random.rand(50) * 100\n",
    "center = np.ones(25) * 50\n",
    "flier_high = np.random.rand(10) * 100 + 100\n",
    "flier_low = np.random.rand(10) * -100\n",
    "data1 = np.concatenate((spread, center, flier_high, flier_low))\n",
    "\n",
    "spread = np.random.rand(50) * 100\n",
    "center = np.ones(25) * 40\n",
    "flier_high = np.random.rand(10) * 100 + 100\n",
    "flier_low = np.random.rand(10) * -100\n",
    "d2 = np.concatenate((spread, center, flier_high, flier_low))\n",
    "data1.shape = (-1, 1)\n",
    "d2.shape = (-1, 1)"
   ]
  },
  {
   "cell_type": "code",
   "execution_count": 8,
   "metadata": {},
   "outputs": [
    {
     "data": {
      "text/plain": [
       "((95,), (48,), (95, 1))"
      ]
     },
     "execution_count": 8,
     "metadata": {},
     "output_type": "execute_result"
    }
   ],
   "source": [
    "data1.flatten().shape, d2[::2,0].shape, d2.shape"
   ]
  },
  {
   "cell_type": "code",
   "execution_count": 9,
   "metadata": {},
   "outputs": [
    {
     "data": {
      "image/png": "[encoded data removed]",
      "text/plain": [
       "<Figure size 432x288 with 1 Axes>"
      ]
     },
     "metadata": {
      "needs_background": "light"
     },
     "output_type": "display_data"
    }
   ],
   "source": [
    "# https://stackoverflow.com/a/54651370/2803344\n",
    "data = [data1.flatten(), d2.flatten(), d2[::2,0]]\n",
    "fig, ax = plt.subplots()\n",
    "ax.set_title('Multiple Samples with Different sizes')\n",
    "ax.boxplot(data)\n",
    "ax.set_xticklabels(['T0', 'T2', 'T3'], fontsize=10)\n",
    "plt.show()"
   ]
  },
  {
   "cell_type": "code",
   "execution_count": null,
   "metadata": {},
   "outputs": [],
   "source": []
  }
 ],
 "metadata": {
  "kernelspec": {
   "display_name": "Python 3",
   "language": "python",
   "name": "python3"
  },
  "language_info": {
   "codemirror_mode": {
    "name": "ipython",
    "version": 3
   },
   "file_extension": ".py",
   "mimetype": "text/x-python",
   "name": "python",
   "nbconvert_exporter": "python",
   "pygments_lexer": "ipython3",
   "version": "3.6.8"
  }
 },
 "nbformat": 4,
 "nbformat_minor": 2
}
