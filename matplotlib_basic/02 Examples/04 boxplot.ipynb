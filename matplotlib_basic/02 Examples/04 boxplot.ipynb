{
 "cells": [
  {
   "cell_type": "code",
   "execution_count": 1,
   "metadata": {},
   "outputs": [],
   "source": [
    "import matplotlib.pyplot as plt\n",
    "import numpy as np\n",
    "%matplotlib inline"
   ]
  },
  {
   "cell_type": "code",
   "execution_count": 5,
   "metadata": {},
   "outputs": [
    {
     "data": {
      "text/html": [
       "<img src=\"https://cdn-images-1.medium.com/max/2000/1*2c21SkzJMf3frPXPAR_gZA.png\">\n",
       "<a href=\"https://towardsdatascience.com/understanding-boxplots-5e2df7bcbd51\" target=\"_blank\">src</a>"
      ],
      "text/plain": [
       "<IPython.core.display.HTML object>"
      ]
     },
     "metadata": {},
     "output_type": "display_data"
    }
   ],
   "source": [
    "%%HTML\n",
    "<img src=\"https://cdn-images-1.medium.com/max/2000/1*2c21SkzJMf3frPXPAR_gZA.png\">\n",
    "<a href=\"https://towardsdatascience.com/understanding-boxplots-5e2df7bcbd51\" target=\"_blank\">src</a>"
   ]
  },
  {
   "cell_type": "code",
   "execution_count": 6,
   "metadata": {},
   "outputs": [
    {
     "data": {
      "text/plain": [
       "{'whiskers': [<matplotlib.lines.Line2D at 0x7f7ea0da2668>,\n",
       "  <matplotlib.lines.Line2D at 0x7f7ea0da2be0>,\n",
       "  <matplotlib.lines.Line2D at 0x7f7ea0dbb630>,\n",
       "  <matplotlib.lines.Line2D at 0x7f7ea0dbba90>],\n",
       " 'caps': [<matplotlib.lines.Line2D at 0x7f7ea0db3048>,\n",
       "  <matplotlib.lines.Line2D at 0x7f7ea0db3470>,\n",
       "  <matplotlib.lines.Line2D at 0x7f7ea0dbbef0>,\n",
       "  <matplotlib.lines.Line2D at 0x7f7ea0dc3390>],\n",
       " 'boxes': [<matplotlib.lines.Line2D at 0x7f7ea0da2518>,\n",
       "  <matplotlib.lines.Line2D at 0x7f7ea0dbb208>],\n",
       " 'medians': [<matplotlib.lines.Line2D at 0x7f7ea0db3898>,\n",
       "  <matplotlib.lines.Line2D at 0x7f7ea0dc37f0>],\n",
       " 'fliers': [<matplotlib.lines.Line2D at 0x7f7ea0db3cf8>,\n",
       "  <matplotlib.lines.Line2D at 0x7f7ea0dc3c50>],\n",
       " 'means': []}"
      ]
     },
     "execution_count": 6,
     "metadata": {},
     "output_type": "execute_result"
    },
    {
     "data": {
      "image/png": "[encoded data removed]",
      "text/plain": [
       "<Figure size 280x210 with 1 Axes>"
      ]
     },
     "metadata": {},
     "output_type": "display_data"
    }
   ],
   "source": [
    "w = 4\n",
    "h = 3\n",
    "d = 70\n",
    "plt.figure(figsize=(w, h), dpi=d)\n",
    "plt.axis([0, 5, 0, 5])\n",
    "y1 = (1, 2, 3)\n",
    "y2 = (4, 3, 1)\n",
    "\n",
    "plt.boxplot([y1, y2])"
   ]
  },
  {
   "cell_type": "markdown",
   "metadata": {},
   "source": [
    "#### calculate percentile"
   ]
  },
  {
   "cell_type": "code",
   "execution_count": 10,
   "metadata": {},
   "outputs": [
    {
     "data": {
      "text/plain": [
       "12.0"
      ]
     },
     "execution_count": 10,
     "metadata": {},
     "output_type": "execute_result"
    }
   ],
   "source": [
    "a = np.array([10,12,23])\n",
    "np.percentile(a, 50) # return 50th percentile, e.g median."
   ]
  },
  {
   "cell_type": "code",
   "execution_count": 11,
   "metadata": {},
   "outputs": [
    {
     "data": {
      "text/plain": [
       "22.780000000000001"
      ]
     },
     "execution_count": 11,
     "metadata": {},
     "output_type": "execute_result"
    }
   ],
   "source": [
    "np.percentile(a, 99)"
   ]
  },
  {
   "cell_type": "code",
   "execution_count": 12,
   "metadata": {},
   "outputs": [
    {
     "data": {
      "text/plain": [
       "22.890000000000001"
      ]
     },
     "execution_count": 12,
     "metadata": {},
     "output_type": "execute_result"
    }
   ],
   "source": [
    "np.percentile(a, 99.5)"
   ]
  },
  {
   "cell_type": "code",
   "execution_count": null,
   "metadata": {},
   "outputs": [],
   "source": []
  }
 ],
 "metadata": {
  "kernelspec": {
   "display_name": "Python 3",
   "language": "python",
   "name": "python3"
  },
  "language_info": {
   "codemirror_mode": {
    "name": "ipython",
    "version": 3
   },
   "file_extension": ".py",
   "mimetype": "text/x-python",
   "name": "python",
   "nbconvert_exporter": "python",
   "pygments_lexer": "ipython3",
   "version": "3.6.5"
  }
 },
 "nbformat": 4,
 "nbformat_minor": 2
}
