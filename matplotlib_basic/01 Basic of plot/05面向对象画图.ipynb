{
 "cells": [
  {
   "cell_type": "markdown",
   "id": "30eb2c1c-a79e-4103-a52d-26f4189e6981",
   "metadata": {},
   "source": [
    "#### 参考我的博客\n",
    "https://www.cnblogs.com/Belter/p/9650433.html"
   ]
  },
  {
   "cell_type": "code",
   "execution_count": null,
   "id": "be2b9665-d1e8-452b-8cb0-d7bb765f7749",
   "metadata": {},
   "outputs": [],
   "source": []
  }
 ],
 "metadata": {
  "kernelspec": {
   "display_name": "Python 3 (ipykernel)",
   "language": "python",
   "name": "python3"
  },
  "language_info": {
   "codemirror_mode": {
    "name": "ipython",
    "version": 3
   },
   "file_extension": ".py",
   "mimetype": "text/x-python",
   "name": "python",
   "nbconvert_exporter": "python",
   "pygments_lexer": "ipython3",
   "version": "3.8.13"
  }
 },
 "nbformat": 4,
 "nbformat_minor": 5
}
