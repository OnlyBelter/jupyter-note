{
 "cells": [
  {
   "cell_type": "markdown",
   "metadata": {},
   "source": [
    "### How to use PubChem REST API\n",
    "- https://pubchemdocs.ncbi.nlm.nih.gov/pug-rest\n",
    "- 支持的格式：XML/JSON/CSV/TXT...\n",
    "\n",
    "### URL的基本格式：\n",
    "- https://pubchem.ncbi.nlm.nih.gov/rest/pug/compound/cid/2244/property/MolecularFormula/JSON\n",
    "- `https://pubchem.ncbi.nlm.nih.gov/rest/pug/<input specification>/<operation specification>/[<output specification>][?<operation_options>]`"
   ]
  },
  {
   "cell_type": "markdown",
   "metadata": {},
   "source": [
    "#### 编码\n",
    "For proper transmission of certain special characters, strings passed e.g. for SMILES input may need to be URL encoded; for example, “smiles=C1C[CH+]1” should be encoded as “smiles=C1C%5BCH%2B%5D1”."
   ]
  },
  {
   "cell_type": "code",
   "execution_count": 32,
   "metadata": {},
   "outputs": [],
   "source": [
    "import os\n",
    "import requests\n",
    "import pandas as pd\n",
    "import numpy as np\n",
    "import json"
   ]
  },
  {
   "cell_type": "code",
   "execution_count": 23,
   "metadata": {},
   "outputs": [
    {
     "data": {
      "text/plain": [
       "'CanonicalSMILES,IsomericSMILES,ExactMass'"
      ]
     },
     "execution_count": 23,
     "metadata": {},
     "output_type": "execute_result"
    }
   ],
   "source": [
    "BASE_URL = r'https://pubchem.ncbi.nlm.nih.gov/rest/pug/compound/{q_from}/{q_value}/property'\n",
    "q_from = 'cid'\n",
    "q_to = ','.join(['CanonicalSMILES', 'IsomericSMILES', 'ExactMass'])\n",
    "q_format = 'JSON'\n",
    "q_to"
   ]
  },
  {
   "cell_type": "code",
   "execution_count": 24,
   "metadata": {},
   "outputs": [
    {
     "data": {
      "text/plain": [
       "'https://pubchem.ncbi.nlm.nih.gov/rest/pug/compound/cid/5282283/property'"
      ]
     },
     "execution_count": 24,
     "metadata": {},
     "output_type": "execute_result"
    }
   ],
   "source": [
    "q_value = '5282283'\n",
    "BASE_URL.format(q_from=q_from, q_value=q_value)"
   ]
  },
  {
   "cell_type": "code",
   "execution_count": 40,
   "metadata": {},
   "outputs": [
    {
     "data": {
      "text/plain": [
       "'https://pubchem.ncbi.nlm.nih.gov/rest/pug/compound/cid/5282283/property/CanonicalSMILES,IsomericSMILES,ExactMass/JSON'"
      ]
     },
     "execution_count": 40,
     "metadata": {},
     "output_type": "execute_result"
    }
   ],
   "source": [
    "query = os.path.join(BASE_URL.format(q_from=q_from, q_value=q_value), q_to, q_format)\n",
    "query"
   ]
  },
  {
   "cell_type": "code",
   "execution_count": 27,
   "metadata": {},
   "outputs": [],
   "source": [
    "r = requests.get(query)"
   ]
  },
  {
   "cell_type": "code",
   "execution_count": 28,
   "metadata": {},
   "outputs": [
    {
     "data": {
      "text/plain": [
       "200"
      ]
     },
     "execution_count": 28,
     "metadata": {},
     "output_type": "execute_result"
    }
   ],
   "source": [
    "r.status_code"
   ]
  },
  {
   "cell_type": "code",
   "execution_count": 34,
   "metadata": {},
   "outputs": [
    {
     "data": {
      "text/plain": [
       "{'PropertyTable': {'Properties': [{'CID': 5282283,\n",
       "    'CanonicalSMILES': 'CCCCCCCCCCCCCCCC(=O)OCC(CO)OC(=O)CCCCCCCC=CCCCCCCCC',\n",
       "    'ExactMass': 594.522,\n",
       "    'IsomericSMILES': 'CCCCCCCCCCCCCCCC(=O)OC[C@H](CO)OC(=O)CCCCCCC/C=C\\\\CCCCCCCC'}]}}"
      ]
     },
     "execution_count": 34,
     "metadata": {},
     "output_type": "execute_result"
    }
   ],
   "source": [
    "q_result = json.loads(str(r.content, 'utf-8'))\n",
    "q_result"
   ]
  },
  {
   "cell_type": "code",
   "execution_count": 39,
   "metadata": {},
   "outputs": [
    {
     "data": {
      "text/plain": [
       "{'CID': 5282283,\n",
       " 'CanonicalSMILES': 'CCCCCCCCCCCCCCCC(=O)OCC(CO)OC(=O)CCCCCCCC=CCCCCCCCC',\n",
       " 'ExactMass': 594.522,\n",
       " 'IsomericSMILES': 'CCCCCCCCCCCCCCCC(=O)OC[C@H](CO)OC(=O)CCCCCCC/C=C\\\\CCCCCCCC'}"
      ]
     },
     "execution_count": 39,
     "metadata": {},
     "output_type": "execute_result"
    }
   ],
   "source": [
    "q_dic = q_result['PropertyTable']['Properties'][0]\n",
    "q_dic"
   ]
  },
  {
   "cell_type": "code",
   "execution_count": 44,
   "metadata": {},
   "outputs": [
    {
     "data": {
      "text/html": [
       "<div>\n",
       "<table border=\"1\" class=\"dataframe\">\n",
       "  <thead>\n",
       "    <tr style=\"text-align: right;\">\n",
       "      <th></th>\n",
       "      <th>0</th>\n",
       "      <th>1</th>\n",
       "    </tr>\n",
       "  </thead>\n",
       "  <tbody>\n",
       "    <tr>\n",
       "      <th>0</th>\n",
       "      <td>DG(34:1)</td>\n",
       "      <td>5282283</td>\n",
       "    </tr>\n",
       "    <tr>\n",
       "      <th>1</th>\n",
       "      <td>DG(34:1)</td>\n",
       "      <td>5283470</td>\n",
       "    </tr>\n",
       "    <tr>\n",
       "      <th>2</th>\n",
       "      <td>DG(34:1)</td>\n",
       "      <td>5283471</td>\n",
       "    </tr>\n",
       "    <tr>\n",
       "      <th>3</th>\n",
       "      <td>DG(34:1)</td>\n",
       "      <td>9543686</td>\n",
       "    </tr>\n",
       "    <tr>\n",
       "      <th>4</th>\n",
       "      <td>DG(34:1)</td>\n",
       "      <td>9543691</td>\n",
       "    </tr>\n",
       "    <tr>\n",
       "      <th>5</th>\n",
       "      <td>DG(34:1)</td>\n",
       "      <td>9543972</td>\n",
       "    </tr>\n",
       "    <tr>\n",
       "      <th>6</th>\n",
       "      <td>DG(34:1)</td>\n",
       "      <td>56936316</td>\n",
       "    </tr>\n",
       "    <tr>\n",
       "      <th>7</th>\n",
       "      <td>DG(34:1)</td>\n",
       "      <td>53477956</td>\n",
       "    </tr>\n",
       "    <tr>\n",
       "      <th>8</th>\n",
       "      <td>DG(34:1)</td>\n",
       "      <td>53477984</td>\n",
       "    </tr>\n",
       "    <tr>\n",
       "      <th>9</th>\n",
       "      <td>DG(34:1)</td>\n",
       "      <td>56936375</td>\n",
       "    </tr>\n",
       "    <tr>\n",
       "      <th>10</th>\n",
       "      <td>DG(34:2)</td>\n",
       "      <td>9543689</td>\n",
       "    </tr>\n",
       "    <tr>\n",
       "      <th>11</th>\n",
       "      <td>DG(34:2)</td>\n",
       "      <td>9543690</td>\n",
       "    </tr>\n",
       "    <tr>\n",
       "      <th>12</th>\n",
       "      <td>DG(34:2)</td>\n",
       "      <td>9543694</td>\n",
       "    </tr>\n",
       "    <tr>\n",
       "      <th>13</th>\n",
       "      <td>DG(34:2)</td>\n",
       "      <td>9543695</td>\n",
       "    </tr>\n",
       "    <tr>\n",
       "      <th>14</th>\n",
       "      <td>DG(34:2)</td>\n",
       "      <td>56936317</td>\n",
       "    </tr>\n",
       "    <tr>\n",
       "      <th>15</th>\n",
       "      <td>DG(34:2)</td>\n",
       "      <td>53477957</td>\n",
       "    </tr>\n",
       "    <tr>\n",
       "      <th>16</th>\n",
       "      <td>DG(34:2)</td>\n",
       "      <td>53477985</td>\n",
       "    </tr>\n",
       "    <tr>\n",
       "      <th>17</th>\n",
       "      <td>DG(38:2)</td>\n",
       "      <td>9543755</td>\n",
       "    </tr>\n",
       "    <tr>\n",
       "      <th>18</th>\n",
       "      <td>DG(38:2)</td>\n",
       "      <td>9543756</td>\n",
       "    </tr>\n",
       "    <tr>\n",
       "      <th>19</th>\n",
       "      <td>DG(38:2)</td>\n",
       "      <td>9543757</td>\n",
       "    </tr>\n",
       "    <tr>\n",
       "      <th>20</th>\n",
       "      <td>DG(38:2)</td>\n",
       "      <td>9543780</td>\n",
       "    </tr>\n",
       "    <tr>\n",
       "      <th>21</th>\n",
       "      <td>DG(38:2)</td>\n",
       "      <td>9543788</td>\n",
       "    </tr>\n",
       "    <tr>\n",
       "      <th>22</th>\n",
       "      <td>DG(38:2)</td>\n",
       "      <td>9543792</td>\n",
       "    </tr>\n",
       "    <tr>\n",
       "      <th>23</th>\n",
       "      <td>DG(38:2)</td>\n",
       "      <td>56936300</td>\n",
       "    </tr>\n",
       "    <tr>\n",
       "      <th>24</th>\n",
       "      <td>DG(40:2)</td>\n",
       "      <td>9543804</td>\n",
       "    </tr>\n",
       "    <tr>\n",
       "      <th>25</th>\n",
       "      <td>DG(40:2)</td>\n",
       "      <td>9543805</td>\n",
       "    </tr>\n",
       "    <tr>\n",
       "      <th>26</th>\n",
       "      <td>DG(40:2)</td>\n",
       "      <td>9543833</td>\n",
       "    </tr>\n",
       "    <tr>\n",
       "      <th>27</th>\n",
       "      <td>DG(40:2)</td>\n",
       "      <td>9543834</td>\n",
       "    </tr>\n",
       "    <tr>\n",
       "      <th>28</th>\n",
       "      <td>DG(40:2)</td>\n",
       "      <td>9543847</td>\n",
       "    </tr>\n",
       "    <tr>\n",
       "      <th>29</th>\n",
       "      <td>DG(42:6)</td>\n",
       "      <td>9543911</td>\n",
       "    </tr>\n",
       "    <tr>\n",
       "      <th>...</th>\n",
       "      <td>...</td>\n",
       "      <td>...</td>\n",
       "    </tr>\n",
       "    <tr>\n",
       "      <th>4218</th>\n",
       "      <td>TG(62:7)</td>\n",
       "      <td>9545998</td>\n",
       "    </tr>\n",
       "    <tr>\n",
       "      <th>4219</th>\n",
       "      <td>TG(62:7)</td>\n",
       "      <td>9546012</td>\n",
       "    </tr>\n",
       "    <tr>\n",
       "      <th>4220</th>\n",
       "      <td>TG(62:7)</td>\n",
       "      <td>9546023</td>\n",
       "    </tr>\n",
       "    <tr>\n",
       "      <th>4221</th>\n",
       "      <td>TG(62:7)</td>\n",
       "      <td>9546024</td>\n",
       "    </tr>\n",
       "    <tr>\n",
       "      <th>4222</th>\n",
       "      <td>TG(62:7)</td>\n",
       "      <td>9546025</td>\n",
       "    </tr>\n",
       "    <tr>\n",
       "      <th>4223</th>\n",
       "      <td>TG(62:7)</td>\n",
       "      <td>9546028</td>\n",
       "    </tr>\n",
       "    <tr>\n",
       "      <th>4224</th>\n",
       "      <td>TG(62:7)</td>\n",
       "      <td>9546076</td>\n",
       "    </tr>\n",
       "    <tr>\n",
       "      <th>4225</th>\n",
       "      <td>TG(62:7)</td>\n",
       "      <td>9546086</td>\n",
       "    </tr>\n",
       "    <tr>\n",
       "      <th>4226</th>\n",
       "      <td>TG(62:7)</td>\n",
       "      <td>9546087</td>\n",
       "    </tr>\n",
       "    <tr>\n",
       "      <th>4227</th>\n",
       "      <td>TG(62:7)</td>\n",
       "      <td>9546096</td>\n",
       "    </tr>\n",
       "    <tr>\n",
       "      <th>4228</th>\n",
       "      <td>TG(62:7)</td>\n",
       "      <td>9546097</td>\n",
       "    </tr>\n",
       "    <tr>\n",
       "      <th>4229</th>\n",
       "      <td>TG(62:7)</td>\n",
       "      <td>9546108</td>\n",
       "    </tr>\n",
       "    <tr>\n",
       "      <th>4230</th>\n",
       "      <td>TG(62:7)</td>\n",
       "      <td>9546109</td>\n",
       "    </tr>\n",
       "    <tr>\n",
       "      <th>4231</th>\n",
       "      <td>TG(62:7)</td>\n",
       "      <td>9546137</td>\n",
       "    </tr>\n",
       "    <tr>\n",
       "      <th>4232</th>\n",
       "      <td>TG(62:7)</td>\n",
       "      <td>9546147</td>\n",
       "    </tr>\n",
       "    <tr>\n",
       "      <th>4233</th>\n",
       "      <td>TG(62:7)</td>\n",
       "      <td>9546178</td>\n",
       "    </tr>\n",
       "    <tr>\n",
       "      <th>4234</th>\n",
       "      <td>TG(62:7)</td>\n",
       "      <td>56936866</td>\n",
       "    </tr>\n",
       "    <tr>\n",
       "      <th>4235</th>\n",
       "      <td>TG(62:7)</td>\n",
       "      <td>56936947</td>\n",
       "    </tr>\n",
       "    <tr>\n",
       "      <th>4236</th>\n",
       "      <td>TG(62:7)</td>\n",
       "      <td>56939997</td>\n",
       "    </tr>\n",
       "    <tr>\n",
       "      <th>4237</th>\n",
       "      <td>TG(62:7)</td>\n",
       "      <td>56940067</td>\n",
       "    </tr>\n",
       "    <tr>\n",
       "      <th>4238</th>\n",
       "      <td>TG(62:7)</td>\n",
       "      <td>56940133</td>\n",
       "    </tr>\n",
       "    <tr>\n",
       "      <th>4239</th>\n",
       "      <td>TG(62:7)</td>\n",
       "      <td>56940136</td>\n",
       "    </tr>\n",
       "    <tr>\n",
       "      <th>4240</th>\n",
       "      <td>TG(62:7)</td>\n",
       "      <td>56940272</td>\n",
       "    </tr>\n",
       "    <tr>\n",
       "      <th>4241</th>\n",
       "      <td>TG(62:7)</td>\n",
       "      <td>56940276</td>\n",
       "    </tr>\n",
       "    <tr>\n",
       "      <th>4242</th>\n",
       "      <td>TG(62:7)</td>\n",
       "      <td>56940331</td>\n",
       "    </tr>\n",
       "    <tr>\n",
       "      <th>4243</th>\n",
       "      <td>TG(62:7)</td>\n",
       "      <td>56940437</td>\n",
       "    </tr>\n",
       "    <tr>\n",
       "      <th>4244</th>\n",
       "      <td>TG(62:7)</td>\n",
       "      <td>56940441</td>\n",
       "    </tr>\n",
       "    <tr>\n",
       "      <th>4245</th>\n",
       "      <td>TG(62:7)</td>\n",
       "      <td>56940553</td>\n",
       "    </tr>\n",
       "    <tr>\n",
       "      <th>4246</th>\n",
       "      <td>TG(62:7)</td>\n",
       "      <td>56940591</td>\n",
       "    </tr>\n",
       "    <tr>\n",
       "      <th>4247</th>\n",
       "      <td>TG(62:7)</td>\n",
       "      <td>56940601</td>\n",
       "    </tr>\n",
       "  </tbody>\n",
       "</table>\n",
       "<p>4248 rows × 2 columns</p>\n",
       "</div>"
      ],
      "text/plain": [
       "             0         1\n",
       "0     DG(34:1)   5282283\n",
       "1     DG(34:1)   5283470\n",
       "2     DG(34:1)   5283471\n",
       "3     DG(34:1)   9543686\n",
       "4     DG(34:1)   9543691\n",
       "5     DG(34:1)   9543972\n",
       "6     DG(34:1)  56936316\n",
       "7     DG(34:1)  53477956\n",
       "8     DG(34:1)  53477984\n",
       "9     DG(34:1)  56936375\n",
       "10    DG(34:2)   9543689\n",
       "11    DG(34:2)   9543690\n",
       "12    DG(34:2)   9543694\n",
       "13    DG(34:2)   9543695\n",
       "14    DG(34:2)  56936317\n",
       "15    DG(34:2)  53477957\n",
       "16    DG(34:2)  53477985\n",
       "17    DG(38:2)   9543755\n",
       "18    DG(38:2)   9543756\n",
       "19    DG(38:2)   9543757\n",
       "20    DG(38:2)   9543780\n",
       "21    DG(38:2)   9543788\n",
       "22    DG(38:2)   9543792\n",
       "23    DG(38:2)  56936300\n",
       "24    DG(40:2)   9543804\n",
       "25    DG(40:2)   9543805\n",
       "26    DG(40:2)   9543833\n",
       "27    DG(40:2)   9543834\n",
       "28    DG(40:2)   9543847\n",
       "29    DG(42:6)   9543911\n",
       "...        ...       ...\n",
       "4218  TG(62:7)   9545998\n",
       "4219  TG(62:7)   9546012\n",
       "4220  TG(62:7)   9546023\n",
       "4221  TG(62:7)   9546024\n",
       "4222  TG(62:7)   9546025\n",
       "4223  TG(62:7)   9546028\n",
       "4224  TG(62:7)   9546076\n",
       "4225  TG(62:7)   9546086\n",
       "4226  TG(62:7)   9546087\n",
       "4227  TG(62:7)   9546096\n",
       "4228  TG(62:7)   9546097\n",
       "4229  TG(62:7)   9546108\n",
       "4230  TG(62:7)   9546109\n",
       "4231  TG(62:7)   9546137\n",
       "4232  TG(62:7)   9546147\n",
       "4233  TG(62:7)   9546178\n",
       "4234  TG(62:7)  56936866\n",
       "4235  TG(62:7)  56936947\n",
       "4236  TG(62:7)  56939997\n",
       "4237  TG(62:7)  56940067\n",
       "4238  TG(62:7)  56940133\n",
       "4239  TG(62:7)  56940136\n",
       "4240  TG(62:7)  56940272\n",
       "4241  TG(62:7)  56940276\n",
       "4242  TG(62:7)  56940331\n",
       "4243  TG(62:7)  56940437\n",
       "4244  TG(62:7)  56940441\n",
       "4245  TG(62:7)  56940553\n",
       "4246  TG(62:7)  56940591\n",
       "4247  TG(62:7)  56940601\n",
       "\n",
       "[4248 rows x 2 columns]"
      ]
     },
     "execution_count": 44,
     "metadata": {},
     "output_type": "execute_result"
    }
   ],
   "source": [
    "raw_data = pd.read_csv('lipid_name2pubchemid.txt', sep='\\t', header=None)\n",
    "raw_data"
   ]
  },
  {
   "cell_type": "code",
   "execution_count": 51,
   "metadata": {},
   "outputs": [
    {
     "data": {
      "text/plain": [
       "True"
      ]
     },
     "execution_count": 51,
     "metadata": {},
     "output_type": "execute_result"
    }
   ],
   "source": [
    "24778900 in np.unique(raw_data[1])"
   ]
  },
  {
   "cell_type": "code",
   "execution_count": null,
   "metadata": {},
   "outputs": [],
   "source": []
  }
 ],
 "metadata": {
  "kernelspec": {
   "display_name": "Python 3",
   "language": "python",
   "name": "python3"
  },
  "language_info": {
   "codemirror_mode": {
    "name": "ipython",
    "version": 3
   },
   "file_extension": ".py",
   "mimetype": "text/x-python",
   "name": "python",
   "nbconvert_exporter": "python",
   "pygments_lexer": "ipython3",
   "version": "3.6.3"
  }
 },
 "nbformat": 4,
 "nbformat_minor": 2
}
