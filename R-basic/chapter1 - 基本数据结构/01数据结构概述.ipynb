{
 "cells": [
  {
   "cell_type": "markdown",
   "metadata": {},
   "source": [
    "## 1. 概述"
   ]
  },
  {
   "cell_type": "markdown",
   "metadata": {},
   "source": [
    "R中的数据结构比较多，主要有向量(vector)、矩阵(matrix)、数组(array)、列表(list)和数据框(data frame)等。\n",
    "\n",
    "在R语言社区拥有广泛而崇高声誉的[Hadley Wickham](http://hadley.nz/)在他所著的《Advanced R》中，从维数和数据的均质性（只允许同一种类型的数据还是多种不同类型的数据）两方面总结了R语言中的数据类型：\n",
    "\n",
    "- 维数：1维的数据类型有`向量`和`列表`; 2维的数据结构有`矩阵`和`数据框`; 更高维度的数据结构有`数组`\n",
    "\n",
    "- 均质性：同质的(homogeneous)数据结构有向量，`矩阵`和`数组`；异质的(heterogeneous)数据结构有`列表`和`数据框`"
   ]
  },
  {
   "cell_type": "markdown",
   "metadata": {},
   "source": [
    "<img src=\"./images/data-structure.jpg\" />"
   ]
  },
  {
   "cell_type": "markdown",
   "metadata": {},
   "source": [
    "## 2. 向量，矩阵和数组的关系\n",
    "\n",
    "在R中，向量，矩阵和数组这三种数据结构的关系非常紧密，非常接近数学中对向量和矩阵的含义，它们三者之间的关系如下：\n",
    "\n",
    "a. 向量可以理解为未经加工的原材料，就是一个有序元素构成的集合，类似于Python中的list;\n",
    "\n",
    "b. 数组是包含维度信息的向量，相当于对向量进行了加工，数组的每一行或每一列都是一个向量。向量的维度可以是从1维到多维，当维度等于2时就是一个矩阵；\n",
    "\n",
    "c. 矩阵是2维数组，当元素均为数字时，等同于数学中的矩阵。可以对矩阵进行转置、求逆、求特征值等矩阵相关的运算。"
   ]
  },
  {
   "cell_type": "code",
   "execution_count": null,
   "metadata": {},
   "outputs": [],
   "source": []
  }
 ],
 "metadata": {
  "kernelspec": {
   "display_name": "R",
   "language": "R",
   "name": "ir"
  },
  "language_info": {
   "codemirror_mode": "r",
   "file_extension": ".r",
   "mimetype": "text/x-r-source",
   "name": "R",
   "pygments_lexer": "r",
   "version": "3.4.3"
  }
 },
 "nbformat": 4,
 "nbformat_minor": 2
}
