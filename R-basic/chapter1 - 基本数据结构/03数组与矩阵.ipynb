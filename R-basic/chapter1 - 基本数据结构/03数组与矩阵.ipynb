{
 "cells": [
  {
   "cell_type": "markdown",
   "metadata": {},
   "source": [
    "## 1. 数组(array)\n",
    "R中的数组使用array进行创建，与向量不同的是，array可以是多维的（可简单理解为拥有dimension的vector(可以是1,2,...,n个维度)）。array中的数据同样是相同类型的。\n",
    "\n",
    "array函数的形式为：\n",
    "array(vector, dimensions, dimnames)，其中vector包含array中的元素，dimensions是一个向量指定array各个维度的大小，dimnames是一个list指定各个维度对应的名称。"
   ]
  },
  {
   "cell_type": "markdown",
   "metadata": {},
   "source": [
    "<img src=\"./images/matrix.png\" />\n",
    "\n",
    "<img src=\"./images/array.png\" />"
   ]
  },
  {
   "cell_type": "markdown",
   "metadata": {},
   "source": [
    "矩阵和数组的结构，图片来源：https://www.neonscience.org/hsi-hdf5-r"
   ]
  },
  {
   "cell_type": "markdown",
   "metadata": {},
   "source": [
    "### 1.1 创建数组及取值"
   ]
  },
  {
   "cell_type": "code",
   "execution_count": 1,
   "metadata": {},
   "outputs": [
    {
     "name": "stdout",
     "output_type": "stream",
     "text": [
      "1 3 4 5 6 7 8 9 3"
     ]
    }
   ],
   "source": [
    "a <- c(1,3,4,5,6,7,8,9,3)\n",
    "cat(a)"
   ]
  },
  {
   "cell_type": "markdown",
   "metadata": {},
   "source": [
    "#### 1.1.1 通过定义dim(维度)将向量变成数组"
   ]
  },
  {
   "cell_type": "code",
   "execution_count": 2,
   "metadata": {},
   "outputs": [],
   "source": [
    "dim(a) <- c(3, 3)  # 2维数组，同矩阵"
   ]
  },
  {
   "cell_type": "code",
   "execution_count": 3,
   "metadata": {},
   "outputs": [
    {
     "data": {
      "text/html": [
       "<table>\n",
       "<tbody>\n",
       "\t<tr><td>1</td><td>5</td><td>8</td></tr>\n",
       "\t<tr><td>3</td><td>6</td><td>9</td></tr>\n",
       "\t<tr><td>4</td><td>7</td><td>3</td></tr>\n",
       "</tbody>\n",
       "</table>\n"
      ],
      "text/latex": [
       "\\begin{tabular}{lll}\n",
       "\t 1 & 5 & 8\\\\\n",
       "\t 3 & 6 & 9\\\\\n",
       "\t 4 & 7 & 3\\\\\n",
       "\\end{tabular}\n"
      ],
      "text/markdown": [
       "\n",
       "| 1 | 5 | 8 | \n",
       "| 3 | 6 | 9 | \n",
       "| 4 | 7 | 3 | \n",
       "\n",
       "\n"
      ],
      "text/plain": [
       "     [,1] [,2] [,3]\n",
       "[1,] 1    5    8   \n",
       "[2,] 3    6    9   \n",
       "[3,] 4    7    3   "
      ]
     },
     "metadata": {},
     "output_type": "display_data"
    }
   ],
   "source": [
    "a"
   ]
  },
  {
   "cell_type": "code",
   "execution_count": 4,
   "metadata": {},
   "outputs": [
    {
     "data": {
      "text/html": [
       "TRUE"
      ],
      "text/latex": [
       "TRUE"
      ],
      "text/markdown": [
       "TRUE"
      ],
      "text/plain": [
       "[1] TRUE"
      ]
     },
     "metadata": {},
     "output_type": "display_data"
    }
   ],
   "source": [
    "is.array(a)"
   ]
  },
  {
   "cell_type": "code",
   "execution_count": 5,
   "metadata": {},
   "outputs": [
    {
     "data": {
      "text/html": [
       "TRUE"
      ],
      "text/latex": [
       "TRUE"
      ],
      "text/markdown": [
       "TRUE"
      ],
      "text/plain": [
       "[1] TRUE"
      ]
     },
     "metadata": {},
     "output_type": "display_data"
    }
   ],
   "source": [
    "is.matrix(a)"
   ]
  },
  {
   "cell_type": "markdown",
   "metadata": {},
   "source": [
    "#### 1.1.2 使用array函数定义数组"
   ]
  },
  {
   "cell_type": "code",
   "execution_count": 6,
   "metadata": {},
   "outputs": [
    {
     "name": "stdout",
     "output_type": "stream",
     "text": [
      "1 2 3 4 5 6 7 8 9"
     ]
    }
   ],
   "source": [
    "v <- 1:9\n",
    "cat(v)"
   ]
  },
  {
   "cell_type": "code",
   "execution_count": 7,
   "metadata": {},
   "outputs": [
    {
     "data": {
      "text/html": [
       "<table>\n",
       "<tbody>\n",
       "\t<tr><td>1</td><td>4</td><td>7</td></tr>\n",
       "\t<tr><td>2</td><td>5</td><td>8</td></tr>\n",
       "\t<tr><td>3</td><td>6</td><td>9</td></tr>\n",
       "</tbody>\n",
       "</table>\n"
      ],
      "text/latex": [
       "\\begin{tabular}{lll}\n",
       "\t 1 & 4 & 7\\\\\n",
       "\t 2 & 5 & 8\\\\\n",
       "\t 3 & 6 & 9\\\\\n",
       "\\end{tabular}\n"
      ],
      "text/markdown": [
       "\n",
       "| 1 | 4 | 7 | \n",
       "| 2 | 5 | 8 | \n",
       "| 3 | 6 | 9 | \n",
       "\n",
       "\n"
      ],
      "text/plain": [
       "     [,1] [,2] [,3]\n",
       "[1,] 1    4    7   \n",
       "[2,] 2    5    8   \n",
       "[3,] 3    6    9   "
      ]
     },
     "metadata": {},
     "output_type": "display_data"
    }
   ],
   "source": [
    "B <- array(data = v, dim = c(3, 3))  # 默认按列创建数组\n",
    "B"
   ]
  },
  {
   "cell_type": "code",
   "execution_count": 8,
   "metadata": {},
   "outputs": [
    {
     "name": "stdout",
     "output_type": "stream",
     "text": [
      "1 2 3 4 5 6 7 8 9 10 11 12 13 14 15 16 17 18"
     ]
    }
   ],
   "source": [
    "v2 <- 1:18\n",
    "cat(v2)"
   ]
  },
  {
   "cell_type": "markdown",
   "metadata": {},
   "source": [
    "创建一个3维数组"
   ]
  },
  {
   "cell_type": "code",
   "execution_count": 9,
   "metadata": {},
   "outputs": [],
   "source": [
    "C <- array(data = v2, dim = c(3, 3, 2), dimnames = list(c('a', 'b', 'c'),\n",
    "                                                        c('d', 'e', 'f'),\n",
    "                                                        c('g', 'h')))"
   ]
  },
  {
   "cell_type": "code",
   "execution_count": 10,
   "metadata": {},
   "outputs": [
    {
     "data": {
      "text/html": [
       "<table>\n",
       "<thead><tr><th></th><th scope=col>d</th><th scope=col>e</th><th scope=col>f</th></tr></thead>\n",
       "<tbody>\n",
       "\t<tr><th scope=row>a</th><td>1</td><td>4</td><td>7</td></tr>\n",
       "\t<tr><th scope=row>b</th><td>2</td><td>5</td><td>8</td></tr>\n",
       "\t<tr><th scope=row>c</th><td>3</td><td>6</td><td>9</td></tr>\n",
       "</tbody>\n",
       "</table>\n"
      ],
      "text/latex": [
       "\\begin{tabular}{r|lll}\n",
       "  & d & e & f\\\\\n",
       "\\hline\n",
       "\ta & 1 & 4 & 7\\\\\n",
       "\tb & 2 & 5 & 8\\\\\n",
       "\tc & 3 & 6 & 9\\\\\n",
       "\\end{tabular}\n"
      ],
      "text/markdown": [
       "\n",
       "| <!--/--> | d | e | f | \n",
       "|---|---|---|\n",
       "| a | 1 | 4 | 7 | \n",
       "| b | 2 | 5 | 8 | \n",
       "| c | 3 | 6 | 9 | \n",
       "\n",
       "\n"
      ],
      "text/plain": [
       "  d e f\n",
       "a 1 4 7\n",
       "b 2 5 8\n",
       "c 3 6 9"
      ]
     },
     "metadata": {},
     "output_type": "display_data"
    }
   ],
   "source": [
    "C[,,1]  # 用整数index取值"
   ]
  },
  {
   "cell_type": "code",
   "execution_count": 11,
   "metadata": {},
   "outputs": [
    {
     "data": {
      "text/html": [
       "<table>\n",
       "<thead><tr><th></th><th scope=col>d</th><th scope=col>e</th><th scope=col>f</th></tr></thead>\n",
       "<tbody>\n",
       "\t<tr><th scope=row>a</th><td>10</td><td>13</td><td>16</td></tr>\n",
       "\t<tr><th scope=row>b</th><td>11</td><td>14</td><td>17</td></tr>\n",
       "\t<tr><th scope=row>c</th><td>12</td><td>15</td><td>18</td></tr>\n",
       "</tbody>\n",
       "</table>\n"
      ],
      "text/latex": [
       "\\begin{tabular}{r|lll}\n",
       "  & d & e & f\\\\\n",
       "\\hline\n",
       "\ta & 10 & 13 & 16\\\\\n",
       "\tb & 11 & 14 & 17\\\\\n",
       "\tc & 12 & 15 & 18\\\\\n",
       "\\end{tabular}\n"
      ],
      "text/markdown": [
       "\n",
       "| <!--/--> | d | e | f | \n",
       "|---|---|---|\n",
       "| a | 10 | 13 | 16 | \n",
       "| b | 11 | 14 | 17 | \n",
       "| c | 12 | 15 | 18 | \n",
       "\n",
       "\n"
      ],
      "text/plain": [
       "  d  e  f \n",
       "a 10 13 16\n",
       "b 11 14 17\n",
       "c 12 15 18"
      ]
     },
     "metadata": {},
     "output_type": "display_data"
    }
   ],
   "source": [
    "C[,,2]  # "
   ]
  },
  {
   "cell_type": "code",
   "execution_count": 12,
   "metadata": {},
   "outputs": [
    {
     "data": {
      "text/html": [
       "3"
      ],
      "text/latex": [
       "3"
      ],
      "text/markdown": [
       "3"
      ],
      "text/plain": [
       "[1] 3"
      ]
     },
     "metadata": {},
     "output_type": "display_data"
    }
   ],
   "source": [
    "C['c','d','g']  # 用维度的名称取值"
   ]
  },
  {
   "cell_type": "code",
   "execution_count": 13,
   "metadata": {},
   "outputs": [
    {
     "data": {
      "text/html": [
       "FALSE"
      ],
      "text/latex": [
       "FALSE"
      ],
      "text/markdown": [
       "FALSE"
      ],
      "text/plain": [
       "[1] FALSE"
      ]
     },
     "metadata": {},
     "output_type": "display_data"
    }
   ],
   "source": [
    "is.matrix(C)"
   ]
  },
  {
   "cell_type": "code",
   "execution_count": 14,
   "metadata": {},
   "outputs": [
    {
     "data": {
      "text/html": [
       "TRUE"
      ],
      "text/latex": [
       "TRUE"
      ],
      "text/markdown": [
       "TRUE"
      ],
      "text/plain": [
       "[1] TRUE"
      ]
     },
     "metadata": {},
     "output_type": "display_data"
    }
   ],
   "source": [
    "is.array(C)"
   ]
  },
  {
   "cell_type": "markdown",
   "metadata": {},
   "source": [
    "### 1.2 数组的属性"
   ]
  },
  {
   "cell_type": "markdown",
   "metadata": {},
   "source": [
    "#### 1.2.1 维度信息"
   ]
  },
  {
   "cell_type": "code",
   "execution_count": 15,
   "metadata": {},
   "outputs": [
    {
     "data": {
      "text/html": [
       "<ol class=list-inline>\n",
       "\t<li>3</li>\n",
       "\t<li>3</li>\n",
       "\t<li>2</li>\n",
       "</ol>\n"
      ],
      "text/latex": [
       "\\begin{enumerate*}\n",
       "\\item 3\n",
       "\\item 3\n",
       "\\item 2\n",
       "\\end{enumerate*}\n"
      ],
      "text/markdown": [
       "1. 3\n",
       "2. 3\n",
       "3. 2\n",
       "\n",
       "\n"
      ],
      "text/plain": [
       "[1] 3 3 2"
      ]
     },
     "metadata": {},
     "output_type": "display_data"
    }
   ],
   "source": [
    "dim(C)"
   ]
  },
  {
   "cell_type": "markdown",
   "metadata": {},
   "source": [
    "#### 1.2.2 元素的个数"
   ]
  },
  {
   "cell_type": "code",
   "execution_count": 16,
   "metadata": {},
   "outputs": [
    {
     "data": {
      "text/html": [
       "18"
      ],
      "text/latex": [
       "18"
      ],
      "text/markdown": [
       "18"
      ],
      "text/plain": [
       "[1] 18"
      ]
     },
     "metadata": {},
     "output_type": "display_data"
    }
   ],
   "source": [
    "length(C)"
   ]
  },
  {
   "cell_type": "markdown",
   "metadata": {},
   "source": [
    "### 1.2.3 元素类型"
   ]
  },
  {
   "cell_type": "code",
   "execution_count": 17,
   "metadata": {},
   "outputs": [
    {
     "data": {
      "text/html": [
       "'numeric'"
      ],
      "text/latex": [
       "'numeric'"
      ],
      "text/markdown": [
       "'numeric'"
      ],
      "text/plain": [
       "[1] \"numeric\""
      ]
     },
     "metadata": {},
     "output_type": "display_data"
    }
   ],
   "source": [
    "mode(C)"
   ]
  },
  {
   "cell_type": "markdown",
   "metadata": {},
   "source": [
    "## 2. 矩阵\n",
    "\n",
    "R语言中的矩阵matrix是一个二维的数组array，因此数组array的一些操作矩阵适用。除此之外，矩阵还具有一些数组没有，矩阵特有的运算。\n",
    "\n",
    "**matrix函数的形式为**：\n",
    "\n",
    "matrix(vector, nrow=number_of_rows, ncol=number_of_columns, byrow=logical_value, dimnames=list(rownames, colnames))，该函数中，vector中为矩阵的元素，nrow表示行数，ncol表示列数，byrow为一个布尔向量表示是否按照行为主进行填充，默认按照列为主，dimnames为可选的制定行和列的名称。"
   ]
  },
  {
   "cell_type": "markdown",
   "metadata": {},
   "source": [
    "### 2.1 创建一个矩阵\n",
    "\n",
    "除了用上面的`array`函数，修改`dim`信息来创建矩阵之外，还可以使用`matrix`来创建矩阵\n",
    "\n",
    "这些方法无一例外都是对向量的变形"
   ]
  },
  {
   "cell_type": "code",
   "execution_count": 18,
   "metadata": {},
   "outputs": [
    {
     "data": {
      "text/html": [
       "<table>\n",
       "<tbody>\n",
       "\t<tr><td>1</td><td>3</td><td>5</td><td>7</td></tr>\n",
       "\t<tr><td>2</td><td>4</td><td>6</td><td>8</td></tr>\n",
       "</tbody>\n",
       "</table>\n"
      ],
      "text/latex": [
       "\\begin{tabular}{llll}\n",
       "\t 1 & 3 & 5 & 7\\\\\n",
       "\t 2 & 4 & 6 & 8\\\\\n",
       "\\end{tabular}\n"
      ],
      "text/markdown": [
       "\n",
       "| 1 | 3 | 5 | 7 | \n",
       "| 2 | 4 | 6 | 8 | \n",
       "\n",
       "\n"
      ],
      "text/plain": [
       "     [,1] [,2] [,3] [,4]\n",
       "[1,] 1    3    5    7   \n",
       "[2,] 2    4    6    8   "
      ]
     },
     "metadata": {},
     "output_type": "display_data"
    }
   ],
   "source": [
    "M1 <- matrix(1:8, nrow = 2, ncol = 4)  # 默认按列创建矩阵\n",
    "M1"
   ]
  },
  {
   "cell_type": "code",
   "execution_count": 19,
   "metadata": {},
   "outputs": [
    {
     "data": {
      "text/html": [
       "<table>\n",
       "<tbody>\n",
       "\t<tr><td>1</td><td>2</td><td>3</td><td>4</td></tr>\n",
       "\t<tr><td>5</td><td>6</td><td>7</td><td>8</td></tr>\n",
       "</tbody>\n",
       "</table>\n"
      ],
      "text/latex": [
       "\\begin{tabular}{llll}\n",
       "\t 1 & 2 & 3 & 4\\\\\n",
       "\t 5 & 6 & 7 & 8\\\\\n",
       "\\end{tabular}\n"
      ],
      "text/markdown": [
       "\n",
       "| 1 | 2 | 3 | 4 | \n",
       "| 5 | 6 | 7 | 8 | \n",
       "\n",
       "\n"
      ],
      "text/plain": [
       "     [,1] [,2] [,3] [,4]\n",
       "[1,] 1    2    3    4   \n",
       "[2,] 5    6    7    8   "
      ]
     },
     "metadata": {},
     "output_type": "display_data"
    }
   ],
   "source": [
    "M2 <- matrix(1:8, nrow = 2, ncol = 4, byrow = T)  # 按行创建矩阵\n",
    "M2"
   ]
  },
  {
   "cell_type": "markdown",
   "metadata": {},
   "source": [
    "### 2.2 矩阵的属性"
   ]
  },
  {
   "cell_type": "markdown",
   "metadata": {},
   "source": [
    "#### 2.2.1 矩阵的维度信息"
   ]
  },
  {
   "cell_type": "code",
   "execution_count": 20,
   "metadata": {},
   "outputs": [
    {
     "data": {
      "text/html": [
       "<ol class=list-inline>\n",
       "\t<li>2</li>\n",
       "\t<li>4</li>\n",
       "</ol>\n"
      ],
      "text/latex": [
       "\\begin{enumerate*}\n",
       "\\item 2\n",
       "\\item 4\n",
       "\\end{enumerate*}\n"
      ],
      "text/markdown": [
       "1. 2\n",
       "2. 4\n",
       "\n",
       "\n"
      ],
      "text/plain": [
       "[1] 2 4"
      ]
     },
     "metadata": {},
     "output_type": "display_data"
    }
   ],
   "source": [
    "dim(M1)"
   ]
  },
  {
   "cell_type": "markdown",
   "metadata": {},
   "source": [
    "#### 2.2.2 矩阵的行名和列名"
   ]
  },
  {
   "cell_type": "code",
   "execution_count": 21,
   "metadata": {},
   "outputs": [
    {
     "data": {
      "text/html": [
       "<table>\n",
       "<thead><tr><th></th><th scope=col>a</th><th scope=col>b</th><th scope=col>c</th><th scope=col>d</th></tr></thead>\n",
       "<tbody>\n",
       "\t<tr><th scope=row>r1</th><td>1</td><td>3</td><td>5</td><td>7</td></tr>\n",
       "\t<tr><th scope=row>r2</th><td>2</td><td>4</td><td>6</td><td>8</td></tr>\n",
       "</tbody>\n",
       "</table>\n"
      ],
      "text/latex": [
       "\\begin{tabular}{r|llll}\n",
       "  & a & b & c & d\\\\\n",
       "\\hline\n",
       "\tr1 & 1 & 3 & 5 & 7\\\\\n",
       "\tr2 & 2 & 4 & 6 & 8\\\\\n",
       "\\end{tabular}\n"
      ],
      "text/markdown": [
       "\n",
       "| <!--/--> | a | b | c | d | \n",
       "|---|---|\n",
       "| r1 | 1 | 3 | 5 | 7 | \n",
       "| r2 | 2 | 4 | 6 | 8 | \n",
       "\n",
       "\n"
      ],
      "text/plain": [
       "   a b c d\n",
       "r1 1 3 5 7\n",
       "r2 2 4 6 8"
      ]
     },
     "metadata": {},
     "output_type": "display_data"
    }
   ],
   "source": [
    "rownames(M1) <- c('r1', 'r2')\n",
    "colnames(M1) <- c('a', 'b', 'c', 'd')\n",
    "M1"
   ]
  },
  {
   "cell_type": "code",
   "execution_count": 22,
   "metadata": {},
   "outputs": [
    {
     "name": "stdout",
     "output_type": "stream",
     "text": [
      "a b c d"
     ]
    }
   ],
   "source": [
    "cat(colnames(M1))"
   ]
  },
  {
   "cell_type": "markdown",
   "metadata": {},
   "source": [
    "### 2.3 apply函数\n",
    "\n",
    "apply(X, MARGIN, FUN)函数可以将函数`FUN`应用到矩阵`X`的行或列\n",
    "\n",
    "参数`MARGIN=1`表示按行进行计算，`MARGIN=2`表示按列进行计算"
   ]
  },
  {
   "cell_type": "code",
   "execution_count": 23,
   "metadata": {},
   "outputs": [
    {
     "data": {
      "text/html": [
       "<dl class=dl-horizontal>\n",
       "\t<dt>r1</dt>\n",
       "\t\t<dd>16</dd>\n",
       "\t<dt>r2</dt>\n",
       "\t\t<dd>20</dd>\n",
       "</dl>\n"
      ],
      "text/latex": [
       "\\begin{description*}\n",
       "\\item[r1] 16\n",
       "\\item[r2] 20\n",
       "\\end{description*}\n"
      ],
      "text/markdown": [
       "r1\n",
       ":   16r2\n",
       ":   20\n",
       "\n"
      ],
      "text/plain": [
       "r1 r2 \n",
       "16 20 "
      ]
     },
     "metadata": {},
     "output_type": "display_data"
    }
   ],
   "source": [
    "apply(X = M1, MARGIN = 1, FUN = sum)"
   ]
  },
  {
   "cell_type": "code",
   "execution_count": 24,
   "metadata": {},
   "outputs": [
    {
     "data": {
      "text/html": [
       "<ol class=list-inline>\n",
       "\t<li>3</li>\n",
       "\t<li>4</li>\n",
       "\t<li>5</li>\n",
       "\t<li>6</li>\n",
       "</ol>\n"
      ],
      "text/latex": [
       "\\begin{enumerate*}\n",
       "\\item 3\n",
       "\\item 4\n",
       "\\item 5\n",
       "\\item 6\n",
       "\\end{enumerate*}\n"
      ],
      "text/markdown": [
       "1. 3\n",
       "2. 4\n",
       "3. 5\n",
       "4. 6\n",
       "\n",
       "\n"
      ],
      "text/plain": [
       "[1] 3 4 5 6"
      ]
     },
     "metadata": {},
     "output_type": "display_data"
    }
   ],
   "source": [
    "apply(X = M2, MARGIN = 2, FUN = mean)"
   ]
  },
  {
   "cell_type": "markdown",
   "metadata": {},
   "source": [
    "### 2.4 两个矩阵的连接"
   ]
  },
  {
   "cell_type": "code",
   "execution_count": 25,
   "metadata": {},
   "outputs": [
    {
     "data": {
      "text/html": [
       "<table>\n",
       "<thead><tr><th></th><th scope=col>a</th><th scope=col>b</th><th scope=col>c</th><th scope=col>d</th></tr></thead>\n",
       "<tbody>\n",
       "\t<tr><th scope=row>r1</th><td>1</td><td>3</td><td>5</td><td>7</td></tr>\n",
       "\t<tr><th scope=row>r2</th><td>2</td><td>4</td><td>6</td><td>8</td></tr>\n",
       "</tbody>\n",
       "</table>\n"
      ],
      "text/latex": [
       "\\begin{tabular}{r|llll}\n",
       "  & a & b & c & d\\\\\n",
       "\\hline\n",
       "\tr1 & 1 & 3 & 5 & 7\\\\\n",
       "\tr2 & 2 & 4 & 6 & 8\\\\\n",
       "\\end{tabular}\n"
      ],
      "text/markdown": [
       "\n",
       "| <!--/--> | a | b | c | d | \n",
       "|---|---|\n",
       "| r1 | 1 | 3 | 5 | 7 | \n",
       "| r2 | 2 | 4 | 6 | 8 | \n",
       "\n",
       "\n"
      ],
      "text/plain": [
       "   a b c d\n",
       "r1 1 3 5 7\n",
       "r2 2 4 6 8"
      ]
     },
     "metadata": {},
     "output_type": "display_data"
    }
   ],
   "source": [
    "M1"
   ]
  },
  {
   "cell_type": "code",
   "execution_count": 26,
   "metadata": {},
   "outputs": [
    {
     "data": {
      "text/html": [
       "<table>\n",
       "<thead><tr><th></th><th scope=col>b</th><th scope=col>a</th><th scope=col>c</th><th scope=col>d</th></tr></thead>\n",
       "<tbody>\n",
       "\t<tr><th scope=row>r3</th><td>1</td><td>2</td><td>3</td><td>4</td></tr>\n",
       "\t<tr><th scope=row>r4</th><td>5</td><td>6</td><td>7</td><td>8</td></tr>\n",
       "</tbody>\n",
       "</table>\n"
      ],
      "text/latex": [
       "\\begin{tabular}{r|llll}\n",
       "  & b & a & c & d\\\\\n",
       "\\hline\n",
       "\tr3 & 1 & 2 & 3 & 4\\\\\n",
       "\tr4 & 5 & 6 & 7 & 8\\\\\n",
       "\\end{tabular}\n"
      ],
      "text/markdown": [
       "\n",
       "| <!--/--> | b | a | c | d | \n",
       "|---|---|\n",
       "| r3 | 1 | 2 | 3 | 4 | \n",
       "| r4 | 5 | 6 | 7 | 8 | \n",
       "\n",
       "\n"
      ],
      "text/plain": [
       "   b a c d\n",
       "r3 1 2 3 4\n",
       "r4 5 6 7 8"
      ]
     },
     "metadata": {},
     "output_type": "display_data"
    }
   ],
   "source": [
    "rownames(M2) <- c('r3', 'r4')\n",
    "colnames(M2) <- letters[c(2, 1, 3, 4)]  # `letters`表示a-z字母列表\n",
    "M2"
   ]
  },
  {
   "cell_type": "code",
   "execution_count": 27,
   "metadata": {},
   "outputs": [
    {
     "data": {
      "text/html": [
       "<table>\n",
       "<thead><tr><th></th><th scope=col>a</th><th scope=col>b</th><th scope=col>c</th><th scope=col>d</th></tr></thead>\n",
       "<tbody>\n",
       "\t<tr><th scope=row>r1</th><td>1</td><td>3</td><td>5</td><td>7</td></tr>\n",
       "\t<tr><th scope=row>r2</th><td>2</td><td>4</td><td>6</td><td>8</td></tr>\n",
       "\t<tr><th scope=row>r3</th><td>1</td><td>2</td><td>3</td><td>4</td></tr>\n",
       "\t<tr><th scope=row>r4</th><td>5</td><td>6</td><td>7</td><td>8</td></tr>\n",
       "</tbody>\n",
       "</table>\n"
      ],
      "text/latex": [
       "\\begin{tabular}{r|llll}\n",
       "  & a & b & c & d\\\\\n",
       "\\hline\n",
       "\tr1 & 1 & 3 & 5 & 7\\\\\n",
       "\tr2 & 2 & 4 & 6 & 8\\\\\n",
       "\tr3 & 1 & 2 & 3 & 4\\\\\n",
       "\tr4 & 5 & 6 & 7 & 8\\\\\n",
       "\\end{tabular}\n"
      ],
      "text/markdown": [
       "\n",
       "| <!--/--> | a | b | c | d | \n",
       "|---|---|---|---|\n",
       "| r1 | 1 | 3 | 5 | 7 | \n",
       "| r2 | 2 | 4 | 6 | 8 | \n",
       "| r3 | 1 | 2 | 3 | 4 | \n",
       "| r4 | 5 | 6 | 7 | 8 | \n",
       "\n",
       "\n"
      ],
      "text/plain": [
       "   a b c d\n",
       "r1 1 3 5 7\n",
       "r2 2 4 6 8\n",
       "r3 1 2 3 4\n",
       "r4 5 6 7 8"
      ]
     },
     "metadata": {},
     "output_type": "display_data"
    }
   ],
   "source": [
    "rbind(M1, M2)  # 按照扩展行的方式连接矩阵，不会参考列名对列进行重排序"
   ]
  },
  {
   "cell_type": "code",
   "execution_count": 28,
   "metadata": {},
   "outputs": [
    {
     "data": {
      "text/html": [
       "<table>\n",
       "<thead><tr><th scope=col>A</th><th scope=col>B</th><th scope=col>C</th></tr></thead>\n",
       "<tbody>\n",
       "\t<tr><td>1 </td><td>5 </td><td> 9</td></tr>\n",
       "\t<tr><td>2 </td><td>6 </td><td>10</td></tr>\n",
       "\t<tr><td>3 </td><td>7 </td><td>11</td></tr>\n",
       "\t<tr><td>4 </td><td>8 </td><td>12</td></tr>\n",
       "</tbody>\n",
       "</table>\n"
      ],
      "text/latex": [
       "\\begin{tabular}{lll}\n",
       " A & B & C\\\\\n",
       "\\hline\n",
       "\t 1  & 5  &  9\\\\\n",
       "\t 2  & 6  & 10\\\\\n",
       "\t 3  & 7  & 11\\\\\n",
       "\t 4  & 8  & 12\\\\\n",
       "\\end{tabular}\n"
      ],
      "text/markdown": [
       "\n",
       "A | B | C | \n",
       "|---|---|---|---|\n",
       "| 1  | 5  |  9 | \n",
       "| 2  | 6  | 10 | \n",
       "| 3  | 7  | 11 | \n",
       "| 4  | 8  | 12 | \n",
       "\n",
       "\n"
      ],
      "text/plain": [
       "     A B C \n",
       "[1,] 1 5  9\n",
       "[2,] 2 6 10\n",
       "[3,] 3 7 11\n",
       "[4,] 4 8 12"
      ]
     },
     "metadata": {},
     "output_type": "display_data"
    }
   ],
   "source": [
    "cbind(A=1:4, B=5:8, C=9:12)  # 按照扩展列的方式连接矩阵"
   ]
  },
  {
   "cell_type": "markdown",
   "metadata": {},
   "source": [
    "### 2.5 与矩阵相关的其他操作\n",
    "\n",
    "转置：t(A)\n",
    "\n",
    "求行列式：det(A)\n",
    "\n",
    "矩阵相乘：x%*%y\n",
    "\n",
    "对角运算：diag(A)\n",
    "\n",
    "求逆：solve(A,b)\n",
    "\n",
    "求特征值和特征向量：eigen(A)\n",
    "\n",
    "奇异值分解：svd(A)"
   ]
  },
  {
   "cell_type": "code",
   "execution_count": 29,
   "metadata": {},
   "outputs": [
    {
     "data": {
      "text/html": [
       "<table>\n",
       "<thead><tr><th></th><th scope=col>r1</th><th scope=col>r2</th></tr></thead>\n",
       "<tbody>\n",
       "\t<tr><th scope=row>a</th><td>1</td><td>2</td></tr>\n",
       "\t<tr><th scope=row>b</th><td>3</td><td>4</td></tr>\n",
       "\t<tr><th scope=row>c</th><td>5</td><td>6</td></tr>\n",
       "\t<tr><th scope=row>d</th><td>7</td><td>8</td></tr>\n",
       "</tbody>\n",
       "</table>\n"
      ],
      "text/latex": [
       "\\begin{tabular}{r|ll}\n",
       "  & r1 & r2\\\\\n",
       "\\hline\n",
       "\ta & 1 & 2\\\\\n",
       "\tb & 3 & 4\\\\\n",
       "\tc & 5 & 6\\\\\n",
       "\td & 7 & 8\\\\\n",
       "\\end{tabular}\n"
      ],
      "text/markdown": [
       "\n",
       "| <!--/--> | r1 | r2 | \n",
       "|---|---|---|---|\n",
       "| a | 1 | 2 | \n",
       "| b | 3 | 4 | \n",
       "| c | 5 | 6 | \n",
       "| d | 7 | 8 | \n",
       "\n",
       "\n"
      ],
      "text/plain": [
       "  r1 r2\n",
       "a 1  2 \n",
       "b 3  4 \n",
       "c 5  6 \n",
       "d 7  8 "
      ]
     },
     "metadata": {},
     "output_type": "display_data"
    }
   ],
   "source": [
    "t(M1)  # 转置"
   ]
  },
  {
   "cell_type": "code",
   "execution_count": null,
   "metadata": {},
   "outputs": [],
   "source": []
  }
 ],
 "metadata": {
  "kernelspec": {
   "display_name": "R",
   "language": "R",
   "name": "ir"
  },
  "language_info": {
   "codemirror_mode": "r",
   "file_extension": ".r",
   "mimetype": "text/x-r-source",
   "name": "R",
   "pygments_lexer": "r",
   "version": "3.4.3"
  }
 },
 "nbformat": 4,
 "nbformat_minor": 2
}
