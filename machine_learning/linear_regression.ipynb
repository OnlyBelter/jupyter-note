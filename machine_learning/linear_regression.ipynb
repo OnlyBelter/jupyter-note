{
 "cells": [
  {
   "cell_type": "markdown",
   "metadata": {},
   "source": [
    "### 1. 生成一些类似线性模型的数据\n",
    "- 添加了随机误差"
   ]
  },
  {
   "cell_type": "code",
   "execution_count": 97,
   "metadata": {},
   "outputs": [
    {
     "data": {
      "image/png": "[encoded data removed]",
      "text/plain": [
       "<matplotlib.figure.Figure at 0x7fee5487d3c8>"
      ]
     },
     "metadata": {},
     "output_type": "display_data"
    },
    {
     "data": {
      "text/plain": [
       "<matplotlib.figure.Figure at 0x7fee54a813c8>"
      ]
     },
     "metadata": {},
     "output_type": "display_data"
    }
   ],
   "source": [
    "import numpy as np\n",
    "import matplotlib.pyplot as plt\n",
    "m = 100  # 样本量\n",
    "X = 2 * np.random.rand(m, 1)  # 取大小在区间(0, 1)上的随机数，构成一个100*1的矩阵\n",
    "y = 5 + 2 * X + np.random.rand(m, 1)\n",
    "plt.plot(X, y, \"b.\")\n",
    "plt.show()\n",
    "plt.savefig(\"linear_regression_raw_data.png\", dpi=200)"
   ]
  },
  {
   "cell_type": "markdown",
   "metadata": {},
   "source": [
    "### 2. 梯度下降的原始实现"
   ]
  },
  {
   "cell_type": "markdown",
   "metadata": {},
   "source": [
    "#### 代价函数的计算"
   ]
  },
  {
   "cell_type": "code",
   "execution_count": 39,
   "metadata": {},
   "outputs": [],
   "source": [
    "def L_theta(theta, X_x0, y):\n",
    "    delta = np.dot(X_x0, theta) - y  # np.dot 表示矩阵乘法\n",
    "    L_theta = np.sum(np.multiply(delta, delta))\n",
    "    return L_theta"
   ]
  },
  {
   "cell_type": "markdown",
   "metadata": {},
   "source": [
    "#### 梯度下降的训练过程"
   ]
  },
  {
   "cell_type": "code",
   "execution_count": 63,
   "metadata": {},
   "outputs": [
    {
     "name": "stdout",
     "output_type": "stream",
     "text": [
      "2318.32226584\n",
      "26.2317675878\n",
      "10.6221201088\n",
      "8.60799768785\n",
      "8.3481142323\n",
      "8.31458131008\n",
      "8.31025453649\n",
      "8.30969625023\n",
      "8.30962421422\n",
      "8.30961491936\n"
     ]
    }
   ],
   "source": [
    "T = 1000  # 迭代次数\n",
    "theta = np.ones((2, 1))  # 参数的初始化\n",
    "alpha = 0.06  # 学习率\n",
    "X_x0 = np.c_[np.ones((100, 1)), X]  # ADD X0 = 1 to each instance\n",
    "\n",
    "# print(np.multiply(delta, delta))\n",
    "\n",
    "# print(L_theta)\n",
    "for i in range(T):\n",
    "    theta_0 = theta[0, 0]\n",
    "    theta_1 = theta[1, 0]\n",
    "    theta_0 -= alpha*(1/m * np.sum(np.dot(X_x0, theta) - y))\n",
    "    theta_1 -= alpha*(1/m * np.sum(np.dot(np.transpose(X), np.dot(X_x0, theta) - y)))\n",
    "    theta[0, 0] = theta_0\n",
    "    theta[1, 0] = theta_1\n",
    "    if i%100==0:\n",
    "        print(L_theta(theta, X_x0, y))"
   ]
  },
  {
   "cell_type": "code",
   "execution_count": 73,
   "metadata": {},
   "outputs": [
    {
     "data": {
      "text/plain": [
       "array([[ 5.48119293],\n",
       "       [ 1.98150554]])"
      ]
     },
     "execution_count": 73,
     "metadata": {},
     "output_type": "execute_result"
    }
   ],
   "source": [
    "theta  # 训练结束后得到的最优参数值"
   ]
  },
  {
   "cell_type": "markdown",
   "metadata": {},
   "source": [
    "#### 训练出来的直线与原始数据的比较"
   ]
  },
  {
   "cell_type": "code",
   "execution_count": 66,
   "metadata": {},
   "outputs": [],
   "source": [
    "h = np.dot(X_x0, theta)"
   ]
  },
  {
   "cell_type": "code",
   "execution_count": 75,
   "metadata": {},
   "outputs": [
    {
     "data": {
      "image/png": "[encoded data removed]",
      "text/plain": [
       "<matplotlib.figure.Figure at 0x7fee54993748>"
      ]
     },
     "metadata": {},
     "output_type": "display_data"
    }
   ],
   "source": [
    "plt.plot(X, h, 'r-')\n",
    "plt.plot(X, y, 'b.')\n",
    "plt.axis([0, 2, 4, 12])\n",
    "# plt.show()\n",
    "plt.savefig(\"linear_regression_compare.png\", dpi=200)"
   ]
  },
  {
   "cell_type": "markdown",
   "metadata": {},
   "source": [
    "#### 有了训练出来的theta值，就可以用来预测新的样本点了"
   ]
  },
  {
   "cell_type": "code",
   "execution_count": 71,
   "metadata": {},
   "outputs": [],
   "source": [
    "X_new = np.array([[0.5], [1.8]])\n",
    "X_new_b = np.c_[np.ones((2, 1)), X_new]  # add x0 = 1 to each instance\n",
    "y_predict = X_new_b.dot(theta)"
   ]
  },
  {
   "cell_type": "code",
   "execution_count": 72,
   "metadata": {},
   "outputs": [
    {
     "name": "stdout",
     "output_type": "stream",
     "text": [
      "[[ 0.5]\n",
      " [ 1.8]]\n",
      "[[ 6.4719457]\n",
      " [ 9.0479029]]\n"
     ]
    }
   ],
   "source": [
    "print(X_new)\n",
    "print(y_predict)"
   ]
  },
  {
   "cell_type": "markdown",
   "metadata": {},
   "source": [
    "### 3. 利用向量化的梯度来实现梯度下降"
   ]
  },
  {
   "cell_type": "code",
   "execution_count": 88,
   "metadata": {},
   "outputs": [
    {
     "name": "stdout",
     "output_type": "stream",
     "text": [
      "1143.69070944\n",
      "8.57809912576\n",
      "8.31015455643\n",
      "8.30961463254\n",
      "8.30961354457\n",
      "8.30961354237\n",
      "8.30961354237\n",
      "8.30961354237\n",
      "8.30961354237\n",
      "8.30961354237\n"
     ]
    }
   ],
   "source": [
    "T = 1000  # 迭代次数\n",
    "theta = np.ones((2, 1))  # 参数的初始化\n",
    "alpha = 0.18  # 学习率\n",
    "X_x0 = np.c_[np.ones((100, 1)), X]  # ADD X0 = 1 to each instance\n",
    "\n",
    "# print(np.multiply(delta, delta))\n",
    "\n",
    "# print(L_theta)\n",
    "for i in range(T):\n",
    "    h = np.dot(X_x0, theta)\n",
    "    theta -= alpha * 1/m * np.dot(X_x0.T, h - y)\n",
    "    if i%100==0:\n",
    "        print(L_theta(theta, X_x0, y))"
   ]
  },
  {
   "cell_type": "code",
   "execution_count": 89,
   "metadata": {},
   "outputs": [
    {
     "data": {
      "text/plain": [
       "array([[ 5.4812737 ],\n",
       "       [ 1.98144106]])"
      ]
     },
     "execution_count": 89,
     "metadata": {},
     "output_type": "execute_result"
    }
   ],
   "source": [
    "theta"
   ]
  },
  {
   "cell_type": "markdown",
   "metadata": {},
   "source": [
    "### 4. 利用sk-learn工具包来实现线性回归"
   ]
  },
  {
   "cell_type": "code",
   "execution_count": 93,
   "metadata": {},
   "outputs": [
    {
     "name": "stdout",
     "output_type": "stream",
     "text": [
      "[ 5.4812737] [[ 1.98144106]]\n"
     ]
    }
   ],
   "source": [
    "from sklearn.linear_model import LinearRegression\n",
    "lin_reg = LinearRegression()\n",
    "lin_reg.fit(X, y)\n",
    "print(lin_reg.intercept_, lin_reg.coef_)"
   ]
  },
  {
   "cell_type": "markdown",
   "metadata": {},
   "source": [
    "- 利用训练的线性模型预测新的样本点"
   ]
  },
  {
   "cell_type": "code",
   "execution_count": 94,
   "metadata": {},
   "outputs": [
    {
     "name": "stdout",
     "output_type": "stream",
     "text": [
      "[[ 6.47199423]\n",
      " [ 9.0478676 ]]\n"
     ]
    }
   ],
   "source": [
    "print(lin_reg.predict(X_new))"
   ]
  },
  {
   "cell_type": "code",
   "execution_count": null,
   "metadata": {},
   "outputs": [],
   "source": []
  }
 ],
 "metadata": {
  "kernelspec": {
   "display_name": "Python 3",
   "language": "python",
   "name": "python3"
  },
  "language_info": {
   "codemirror_mode": {
    "name": "ipython",
    "version": 3
   },
   "file_extension": ".py",
   "mimetype": "text/x-python",
   "name": "python",
   "nbconvert_exporter": "python",
   "pygments_lexer": "ipython3",
   "version": "3.6.3"
  }
 },
 "nbformat": 4,
 "nbformat_minor": 2
}
