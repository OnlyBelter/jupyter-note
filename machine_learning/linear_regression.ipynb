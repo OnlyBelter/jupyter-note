{
 "cells": [
  {
   "cell_type": "markdown",
   "metadata": {},
   "source": [
    "### 1. 生成一些类似线性模型的数据\n",
    "- 添加了随机误差"
   ]
  },
  {
   "cell_type": "code",
   "execution_count": 1,
   "metadata": {},
   "outputs": [
    {
     "data": {
      "text/plain": [
       "<matplotlib.figure.Figure at 0x7efff01f4438>"
      ]
     },
     "metadata": {},
     "output_type": "display_data"
    }
   ],
   "source": [
    "import numpy as np\n",
    "import matplotlib.pyplot as plt\n",
    "m = 100  # 样本量\n",
    "X = 2 * np.random.rand(m, 1)  # 取大小在区间(0, 1)上的随机数，构成一个100*1的矩阵\n",
    "y = 5 + 2 * X + np.random.rand(m, 1)\n",
    "plt.plot(X, y, \"b.\")\n",
    "plt.show()\n",
    "plt.savefig(\"linear_regression_raw_data.png\", dpi=200)"
   ]
  },
  {
   "cell_type": "markdown",
   "metadata": {},
   "source": [
    "### 2. 梯度下降的原始实现"
   ]
  },
  {
   "cell_type": "markdown",
   "metadata": {},
   "source": [
    "#### 代价函数的计算"
   ]
  },
  {
   "cell_type": "code",
   "execution_count": 39,
   "metadata": {},
   "outputs": [],
   "source": [
    "from sklearn.metrics import mean_squared_error\n",
    "def L_theta(theta, X_x0, y):\n",
    "#     delta = np.dot(X_x0, theta) - y  # np.dot 表示矩阵乘法\n",
    "    h = np.dot(X_x0, theta) # np.dot 表示矩阵乘法\n",
    "#     print(np.multiply(delta, delta).shape)\n",
    "#     L_theta = np.sum(np.multiply(delta, delta))\n",
    "#     L_theta = np.sum(np.square(h-y, h-y))\n",
    "#     print(np.sum(np.square(h-y, h-y)))\n",
    "    L_theta = mean_squared_error(h, y)\n",
    "    return L_theta"
   ]
  },
  {
   "cell_type": "markdown",
   "metadata": {},
   "source": [
    "#### 梯度下降的训练过程"
   ]
  },
  {
   "cell_type": "code",
   "execution_count": 40,
   "metadata": {},
   "outputs": [
    {
     "name": "stdout",
     "output_type": "stream",
     "text": [
      "23.5670382122\n",
      "0.271214394197\n",
      "0.11766747926\n",
      "0.0920570135495\n",
      "0.0877853812975\n",
      "0.0870729053002\n",
      "0.086954069685\n",
      "0.0869342488019\n",
      "0.0869309428283\n",
      "0.0869303914169\n"
     ]
    }
   ],
   "source": [
    "T = 1000  # 迭代次数\n",
    "theta = np.ones((2, 1))  # 参数的初始化\n",
    "alpha = 0.06  # 学习率\n",
    "X_x0 = np.c_[np.ones((100, 1)), X]  # ADD X0 = 1 to each instance\n",
    "\n",
    "# print(np.multiply(delta, delta))\n",
    "\n",
    "# print(L_theta)\n",
    "for i in range(T):\n",
    "    theta_0 = theta[0, 0]\n",
    "    theta_1 = theta[1, 0]\n",
    "    theta_0 -= alpha*(1/m * np.sum(np.dot(X_x0, theta) - y))\n",
    "    theta_1 -= alpha*(1/m * np.sum(np.dot(np.transpose(X), np.dot(X_x0, theta) - y)))\n",
    "    theta[0, 0] = theta_0\n",
    "    theta[1, 0] = theta_1\n",
    "    if i%100==0:\n",
    "        print(L_theta(theta, X_x0, y))"
   ]
  },
  {
   "cell_type": "code",
   "execution_count": 4,
   "metadata": {},
   "outputs": [
    {
     "data": {
      "text/plain": [
       "array([[ 5.51734463],\n",
       "       [ 1.99964302]])"
      ]
     },
     "execution_count": 4,
     "metadata": {},
     "output_type": "execute_result"
    }
   ],
   "source": [
    "theta  # 训练结束后得到的最优参数值"
   ]
  },
  {
   "cell_type": "markdown",
   "metadata": {},
   "source": [
    "#### 训练出来的直线与原始数据的比较"
   ]
  },
  {
   "cell_type": "code",
   "execution_count": 19,
   "metadata": {},
   "outputs": [
    {
     "data": {
      "text/plain": [
       "array([ 8.91056735,  7.9056526 ,  8.71803231,  6.24130443,  7.63796979,\n",
       "        7.70100739,  6.39302189,  7.00717122,  8.60789228,  8.47540423,\n",
       "        6.50142199,  7.04469187,  8.41893192,  7.36974235,  7.63468195,\n",
       "        5.63686937,  6.26869273,  7.0314861 ,  9.33410135,  8.89114871,\n",
       "        5.96046035,  7.69933831,  8.6435759 ,  7.16627119,  6.12130508,\n",
       "        8.00503705,  9.16494228,  6.81023193,  8.57565226,  5.71866054,\n",
       "        7.98159823,  6.98101468,  8.37338313,  7.55596996,  6.99002493,\n",
       "        5.54634809,  6.04203265,  5.87685229,  6.85220109,  8.30843187,\n",
       "        8.39744705,  6.60644043,  5.72731171,  7.54434578,  8.42561826,\n",
       "        5.63428094,  6.78707376,  6.77258367,  8.72514256,  8.73268356,\n",
       "        6.72334955,  7.57902096,  6.55434587,  7.82968751,  8.6797761 ,\n",
       "        9.07016639,  8.31611854,  7.99010376,  9.42288958,  8.45366392,\n",
       "        7.01107314,  6.04370191,  7.00890141,  7.81430079,  6.9446639 ,\n",
       "        5.53843246,  6.93514619,  7.22024832,  8.49309806,  5.52668029,\n",
       "        7.37598142,  9.22257989,  7.84001902,  7.1708248 ,  8.9542583 ,\n",
       "        8.18129989,  5.82222619,  8.00298712,  7.77983552,  7.67920807,\n",
       "        9.40400419,  7.75786384,  9.51353726,  5.58570783,  5.53717319,\n",
       "        7.58096501,  7.73572547,  6.72111601,  5.94470115,  6.10206611,\n",
       "        9.38428911,  8.11382684,  6.10953063,  6.81509144,  9.17304934,\n",
       "        6.61803662,  8.38771302,  8.6030128 ,  6.72470352,  8.88588663])"
      ]
     },
     "execution_count": 19,
     "metadata": {},
     "output_type": "execute_result"
    }
   ],
   "source": [
    "h = np.dot(X_x0, theta)\n",
    "h[:, 0]"
   ]
  },
  {
   "cell_type": "code",
   "execution_count": 20,
   "metadata": {},
   "outputs": [
    {
     "data": {
      "image/png": "[encoded data removed]",
      "text/plain": [
       "<matplotlib.figure.Figure at 0x7eff8827d898>"
      ]
     },
     "metadata": {},
     "output_type": "display_data"
    }
   ],
   "source": [
    "plt.plot(X, h[:, 0], 'r-')\n",
    "plt.plot(X, y, 'b.')\n",
    "plt.axis([0, 2, 4, 12])\n",
    "# plt.show()\n",
    "plt.savefig(\"linear_regression_compare.png\", dpi=200)"
   ]
  },
  {
   "cell_type": "markdown",
   "metadata": {},
   "source": [
    "#### 有了训练出来的theta值，就可以用来预测新的样本点了"
   ]
  },
  {
   "cell_type": "code",
   "execution_count": 7,
   "metadata": {},
   "outputs": [],
   "source": [
    "X_new = np.array([[0.5], [1.8]])\n",
    "X_new_b = np.c_[np.ones((2, 1)), X_new]  # add x0 = 1 to each instance\n",
    "y_predict = X_new_b.dot(theta)"
   ]
  },
  {
   "cell_type": "code",
   "execution_count": 8,
   "metadata": {},
   "outputs": [
    {
     "name": "stdout",
     "output_type": "stream",
     "text": [
      "[[ 0.5]\n",
      " [ 1.8]]\n",
      "[[ 6.51716614]\n",
      " [ 9.11670206]]\n"
     ]
    }
   ],
   "source": [
    "print(X_new)\n",
    "print(y_predict)"
   ]
  },
  {
   "cell_type": "markdown",
   "metadata": {},
   "source": [
    "### 3. 利用向量化的梯度来实现梯度下降"
   ]
  },
  {
   "cell_type": "code",
   "execution_count": 9,
   "metadata": {},
   "outputs": [
    {
     "name": "stdout",
     "output_type": "stream",
     "text": [
      "1236.59090091\n",
      "9.16385213713\n",
      "8.69510863518\n",
      "8.69303729717\n",
      "8.6930281441\n",
      "8.69302810365\n",
      "8.69302810347\n",
      "8.69302810347\n",
      "8.69302810347\n",
      "8.69302810347\n"
     ]
    }
   ],
   "source": [
    "T = 1000  # 迭代次数\n",
    "theta = np.ones((2, 1))  # 参数的初始化\n",
    "alpha = 0.18  # 学习率\n",
    "X_x0 = np.c_[np.ones((100, 1)), X]  # ADD X0 = 1 to each instance\n",
    "\n",
    "# print(np.multiply(delta, delta))\n",
    "\n",
    "# print(L_theta)\n",
    "for i in range(T):\n",
    "    h = np.dot(X_x0, theta)\n",
    "    theta -= alpha * 1/m * np.dot(X_x0.T, h - y)\n",
    "    if i%100==0:\n",
    "        print(L_theta(theta, X_x0, y))"
   ]
  },
  {
   "cell_type": "code",
   "execution_count": 10,
   "metadata": {},
   "outputs": [
    {
     "data": {
      "text/plain": [
       "array([[ 5.51761253],\n",
       "       [ 1.99940983]])"
      ]
     },
     "execution_count": 10,
     "metadata": {},
     "output_type": "execute_result"
    }
   ],
   "source": [
    "theta"
   ]
  },
  {
   "cell_type": "markdown",
   "metadata": {},
   "source": [
    "### 4. 利用sk-learn工具包来实现线性回归"
   ]
  },
  {
   "cell_type": "code",
   "execution_count": 11,
   "metadata": {},
   "outputs": [
    {
     "name": "stdout",
     "output_type": "stream",
     "text": [
      "[ 5.51761253] [[ 1.99940983]]\n"
     ]
    }
   ],
   "source": [
    "from sklearn.linear_model import LinearRegression\n",
    "lin_reg = LinearRegression()\n",
    "lin_reg.fit(X, y)\n",
    "print(lin_reg.intercept_, lin_reg.coef_)"
   ]
  },
  {
   "cell_type": "markdown",
   "metadata": {},
   "source": [
    "- 利用训练的线性模型预测新的样本点"
   ]
  },
  {
   "cell_type": "code",
   "execution_count": 12,
   "metadata": {},
   "outputs": [
    {
     "name": "stdout",
     "output_type": "stream",
     "text": [
      "[[ 6.51731745]\n",
      " [ 9.11655023]]\n"
     ]
    }
   ],
   "source": [
    "print(lin_reg.predict(X_new))"
   ]
  },
  {
   "cell_type": "code",
   "execution_count": null,
   "metadata": {},
   "outputs": [],
   "source": []
  }
 ],
 "metadata": {
  "kernelspec": {
   "display_name": "Python 3",
   "language": "python",
   "name": "python3"
  },
  "language_info": {
   "codemirror_mode": {
    "name": "ipython",
    "version": 3
   },
   "file_extension": ".py",
   "mimetype": "text/x-python",
   "name": "python",
   "nbconvert_exporter": "python",
   "pygments_lexer": "ipython3",
   "version": "3.6.5"
  }
 },
 "nbformat": 4,
 "nbformat_minor": 2
}
