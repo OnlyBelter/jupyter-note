{
 "cells": [
  {
   "cell_type": "markdown",
   "metadata": {},
   "source": [
    "Source: http://stamfordresearch.com/scikit-learn-perceptron/\n",
    "- http://scikit-learn.org/stable/modules/generated/sklearn.linear_model.Perceptron.html#sklearn.linear_model.Perceptron\n",
    "- http://scikit-learn.org/stable/modules/linear_model.html#perceptron"
   ]
  },
  {
   "cell_type": "markdown",
   "metadata": {},
   "source": [
    "The Perceptron is another simple algorithm suitable for large scale learning. By default:\n",
    "\n",
    "1. It does not require a learning rate.\n",
    "2. It is not regularized (penalized).\n",
    "3. It updates its model only on mistakes.\n",
    "The last characteristic implies that the Perceptron is slightly faster to train than SGD with the hinge loss and that the resulting models are sparser."
   ]
  },
  {
   "cell_type": "code",
   "execution_count": 9,
   "metadata": {},
   "outputs": [],
   "source": [
    "import numpy as np\n",
    "import matplotlib.pyplot as plt\n",
    "from sklearn.linear_model import perceptron\n",
    "\n",
    "# Accuracy classification score\n",
    "from sklearn.metrics import accuracy_score\n",
    "\n",
    "# needed to show the plots inline\n",
    "%matplotlib inline"
   ]
  },
  {
   "cell_type": "code",
   "execution_count": 32,
   "metadata": {},
   "outputs": [],
   "source": [
    "# Data\n",
    "X = np.array([\n",
    "    [2, 1, 2, 5, 7, 2, 3, 6, 1, 2, 5, 4, 6, 5],\n",
    "    [2, 3, 3, 3, 3, 4, 4, 4, 5, 5, 5, 6, 6, 7]\n",
    "]).T\n",
    "\n",
    "# Labels\n",
    "y = np.array([0, 0, 0, 1, 1, 0, 0, 1, 0, 0, 1, 1, 1, 1])"
   ]
  },
  {
   "cell_type": "code",
   "execution_count": 33,
   "metadata": {},
   "outputs": [
    {
     "data": {
      "text/plain": [
       "((14, 2), (14,))"
      ]
     },
     "execution_count": 33,
     "metadata": {},
     "output_type": "execute_result"
    }
   ],
   "source": [
    "X.shape, y.shape"
   ]
  },
  {
   "cell_type": "code",
   "execution_count": 34,
   "metadata": {},
   "outputs": [
    {
     "data": {
      "text/plain": [
       "<matplotlib.collections.PathCollection at 0x7f6837f685f8>"
      ]
     },
     "execution_count": 34,
     "metadata": {},
     "output_type": "execute_result"
    },
    {
     "data": {
      "image/png": "[encoded data removed]",
      "text/plain": [
       "<matplotlib.figure.Figure at 0x7f6837f03dd8>"
      ]
     },
     "metadata": {},
     "output_type": "display_data"
    }
   ],
   "source": [
    "colormap = np.array(['r', 'k'])\n",
    "plt.scatter(X[:, 0], X[:, 1], c=colormap[y], s=40)"
   ]
  },
  {
   "cell_type": "markdown",
   "metadata": {},
   "source": [
    "#### Work some magic"
   ]
  },
  {
   "cell_type": "code",
   "execution_count": 14,
   "metadata": {},
   "outputs": [
    {
     "data": {
      "text/plain": [
       "Perceptron(alpha=0.0001, class_weight=None, eta0=0.002, fit_intercept=True,\n",
       "      max_iter=None, n_iter=100, n_jobs=1, penalty=None, random_state=None,\n",
       "      shuffle=True, tol=None, verbose=0, warm_start=False)"
      ]
     },
     "execution_count": 14,
     "metadata": {},
     "output_type": "execute_result"
    }
   ],
   "source": [
    "# Create the model\n",
    "clf = perceptron.Perceptron(n_iter=100, verbose=0, random_state=None, fit_intercept=True, eta0=0.002)\n",
    "clf.fit(X, y)"
   ]
  },
  {
   "cell_type": "code",
   "execution_count": 18,
   "metadata": {},
   "outputs": [
    {
     "name": "stdout",
     "output_type": "stream",
     "text": [
      "Prediction[0 0 0 1 1 0 0 1 0 0 1 1 1 1]\n",
      "Actual    [0 0 0 1 1 0 0 1 0 0 1 1 1 1]\n",
      "Accuracy  1.0\n"
     ]
    }
   ],
   "source": [
    "# print the results\n",
    "print('Prediction' + str(clf.predict(X)))\n",
    "print('Actual    ' + str(y))\n",
    "print('Accuracy  ' + str(accuracy_score(y_true=clf.predict(X), y_pred=y)))"
   ]
  },
  {
   "cell_type": "markdown",
   "metadata": {},
   "source": [
    "#### Plot the Decision Boundary\n",
    "- `w·x + b = 0`"
   ]
  },
  {
   "cell_type": "code",
   "execution_count": 21,
   "metadata": {},
   "outputs": [
    {
     "name": "stdout",
     "output_type": "stream",
     "text": [
      "Coefficient [[ 0.034 -0.014]]\n",
      "Bias        [-0.048]\n"
     ]
    }
   ],
   "source": [
    "# learned parameters\n",
    "print('Coefficient ' + str(clf.coef_))\n",
    "print('Bias        ' + str(clf.intercept_))"
   ]
  },
  {
   "cell_type": "code",
   "execution_count": 43,
   "metadata": {},
   "outputs": [
    {
     "name": "stdout",
     "output_type": "stream",
     "text": [
      "0.689610198847 7.31038980115\n"
     ]
    },
    {
     "data": {
      "image/png": "[encoded data removed]",
      "text/plain": [
       "<matplotlib.figure.Figure at 0x7f6837b1c208>"
      ]
     },
     "metadata": {},
     "output_type": "display_data"
    }
   ],
   "source": [
    "# Plot the original data\n",
    "def plot_decision_boundary(X, y, w, b):\n",
    "    plt.scatter(X[:, 0], X[:, 1], c=colormap[y], s=40)\n",
    "    xmin, xmax = plt.xlim()\n",
    "    print(xmin, xmax)\n",
    "    w = w\n",
    "    b = b\n",
    "    a = -w[0]/w[1]  # slope of decision boundary line\n",
    "    x_plot = np.linspace(xmin, xmax)\n",
    "    y_plot = a * x_plot - b/w[1]\n",
    "    \n",
    "    # Plot the line\n",
    "    plt.plot(x_plot, y_plot, 'k-')\n",
    "plot_decision_boundary(X=X, y=y, w=clf.coef_[0], b=clf.intercept_[0])"
   ]
  },
  {
   "cell_type": "markdown",
   "metadata": {},
   "source": [
    "#### Perceptron from the scratch\n",
    "- 参考UCSanDiegoX - DSE220x Machine Learning Fundamentals, week6"
   ]
  },
  {
   "cell_type": "code",
   "execution_count": 162,
   "metadata": {},
   "outputs": [],
   "source": [
    "def perceptron_self(X, y, n_iter, a=0.2):\n",
    "    m, n = X.shape\n",
    "    w = np.zeros([1, n])\n",
    "    b = 0\n",
    "    y_class = np.unique(y)  # two classes, eg 0 or 1\n",
    "    for j in np.arange(n_iter):\n",
    "        for i in np.arange(m):\n",
    "#             print(i)\n",
    "            h_value = np.dot(w, X[i].T) + b\n",
    "#             print(h_value)\n",
    "            if y[i] == y_class[0]:  # set all y belongs to the first class to 1\n",
    "                y_temp  = 1\n",
    "            else:\n",
    "                y_temp = -1  # set all y belongs to the second class to -1\n",
    "            if h_value >= 0:  # if predicted value >= 0, h = 1\n",
    "                h = 1\n",
    "            else:\n",
    "                h = -1    # if predicted value < 0, h = -1\n",
    "            if h*y_temp <= 0:  # if point misclassified, update w and b\n",
    "                w += a * y_temp * X[i]  #  get this from the derivation of loss function, loss = -y(w·x + b)\n",
    "                b += a * y_temp\n",
    "    return w, b"
   ]
  },
  {
   "cell_type": "code",
   "execution_count": 163,
   "metadata": {},
   "outputs": [],
   "source": [
    "w_new, b_new = perceptron_self(X, y, n_iter=17, a=1)"
   ]
  },
  {
   "cell_type": "code",
   "execution_count": 164,
   "metadata": {},
   "outputs": [
    {
     "data": {
      "text/plain": [
       "(array([[-12.,   5.]]), 17)"
      ]
     },
     "execution_count": 164,
     "metadata": {},
     "output_type": "execute_result"
    }
   ],
   "source": [
    "w_new, b_new"
   ]
  },
  {
   "cell_type": "code",
   "execution_count": 165,
   "metadata": {},
   "outputs": [
    {
     "name": "stdout",
     "output_type": "stream",
     "text": [
      "0.689610198847 7.31038980115\n"
     ]
    },
    {
     "data": {
      "image/png": "[encoded data removed]",
      "text/plain": [
       "<matplotlib.figure.Figure at 0x7f6837728be0>"
      ]
     },
     "metadata": {},
     "output_type": "display_data"
    }
   ],
   "source": [
    "plot_decision_boundary(X=X, y=y, w=w_new[0], b=b_new)"
   ]
  },
  {
   "cell_type": "code",
   "execution_count": 37,
   "metadata": {},
   "outputs": [
    {
     "data": {
      "text/plain": [
       "array([0, 0, 0, 1, 1, 0, 0, 1, 0, 0, 1, 1, 1, 1])"
      ]
     },
     "execution_count": 37,
     "metadata": {},
     "output_type": "execute_result"
    }
   ],
   "source": [
    "y"
   ]
  },
  {
   "cell_type": "code",
   "execution_count": 64,
   "metadata": {},
   "outputs": [
    {
     "data": {
      "text/plain": [
       "0"
      ]
     },
     "execution_count": 64,
     "metadata": {},
     "output_type": "execute_result"
    }
   ],
   "source": [
    "np.unique(y)[0]"
   ]
  },
  {
   "cell_type": "code",
   "execution_count": null,
   "metadata": {},
   "outputs": [],
   "source": []
  }
 ],
 "metadata": {
  "kernelspec": {
   "display_name": "Python 3",
   "language": "python",
   "name": "python3"
  },
  "language_info": {
   "codemirror_mode": {
    "name": "ipython",
    "version": 3
   },
   "file_extension": ".py",
   "mimetype": "text/x-python",
   "name": "python",
   "nbconvert_exporter": "python",
   "pygments_lexer": "ipython3",
   "version": "3.6.5"
  }
 },
 "nbformat": 4,
 "nbformat_minor": 2
}
