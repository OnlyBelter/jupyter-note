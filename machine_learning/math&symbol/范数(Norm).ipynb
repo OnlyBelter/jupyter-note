{
 "cells": [
  {
   "cell_type": "markdown",
   "metadata": {},
   "source": [
    "## n维空间中的距离\n",
    "- 向量的长度\n",
    "- 两点之间距离的度量 - 范数距离\n",
    "\n",
    "20180303"
   ]
  },
  {
   "cell_type": "markdown",
   "metadata": {},
   "source": [
    "### 1. 简介"
   ]
  },
  {
   "cell_type": "markdown",
   "metadata": {},
   "source": [
    "- wiki\n",
    "\n",
    "In linear algebra, functional analysis, and related areas of mathematics, a **norm** is a function that assigns a strictly positive length or size to each vector in a vector space(向量空间)—save for the zero vector, which is assigned a length of zero. A **seminorm(半范数)**, on the other hand, is allowed to assign zero length to some non-zero vectors (in addition to the zero vector).\n",
    "\n",
    "A norm must also satisfy certain properties pertaining to scalability and additivity which are given in the formal definition below.\n",
    "\n",
    "A simple example is two dimensional Euclidean space $R^2$ equipped with the \"Euclidean norm\" (see below) Elements in this vector space (e.g., (3, 7)) are usually drawn as arrows in a 2-dimensional cartesian coordinate(笛卡尔坐标系) system starting at the origin (0, 0). The Euclidean norm assigns to each vector the length of its arrow. Because of this, the Euclidean norm is often known as the magnitude.\n",
    "\n",
    "A vector space on which a norm is defined is called a normed vector space(赋范线性空间). Similarly, a vector space with a seminorm is called a seminormed vector space. It is often possible to supply a norm for a given vector space in more than one way.\n",
    "\n",
    "- 补充\n",
    "\n",
    "我们知道距离的定义是一个宽泛的概念，只要满足非负、自反、三角不等式就可以称之为距离。范数是一种强化了的距离概念，它在定义上比距离多了一条数乘的运算法则。有时候为了便于理解，我们可以把范数当作距离来理解。\n",
    "\n",
    "在数学上，范数包括向量范数和矩阵范数，向量范数表征向量空间中向量的大小，矩阵范数表征矩阵引起变化的大小。一种非严密的解释就是，对应向量范数，向量空间中的向量都是有大小的，这个大小如何度量，就是用范数来度量的，不同的范数都可以来度量这个大小，就好比米和尺都可以来度量远近一样；对于矩阵范数，学过线性代数，我们知道，通过运算AX=B，可以将向量X变化为B，矩阵范数就是来度量这个变化大小的。"
   ]
  },
  {
   "cell_type": "markdown",
   "metadata": {},
   "source": [
    "### 2. 定义"
   ]
  },
  {
   "cell_type": "markdown",
   "metadata": {},
   "source": [
    "Given a vector space $V$ over a subfield $F$ of the complex numbers, a norm on V is a function $p: V \\to \\mathbb{ R }$(该向量空间中所有向量到实数的映射) with the following properties:\n",
    "\n",
    "For all a ∈ F and all u, v ∈ V,\n",
    "\n",
    "1. p(av) = |a| p(v) (being absolutely homogeneous(绝对均匀) or absolutely scalable).\n",
    "2. p(u + v) ≤ p(u) + p(v) (being subadditive or satisfying the triangle inequality(三角不等式)).\n",
    "3. p(v) ≥ 0 (being positive or more precisely non-negative(非负性)).\n",
    "4. If p(v) = 0 then v=0 is the zero vector (being definite or being point-separating).\n"
   ]
  },
  {
   "cell_type": "markdown",
   "metadata": {},
   "source": [
    "### 3. Lp 范数"
   ]
  },
  {
   "cell_type": "markdown",
   "metadata": {},
   "source": [
    "- 在$n$维空间中的所有分量的p次方求和，再开p次方根\n",
    "\n",
    "${\\displaystyle \\left\\|x\\right\\|_{p}=\\left(|x_{1}|^{p}+|x_{2}|^{p}+\\dotsb +|x_{n}|^{p}\\right)^{\\frac {1}{p}}.} $\n"
   ]
  },
  {
   "cell_type": "markdown",
   "metadata": {},
   "source": [
    "### 4. L2范数(欧几里得范数)"
   ]
  },
  {
   "cell_type": "markdown",
   "metadata": {},
   "source": [
    "这是我们在机器学习中使用的最多的范数，就是我们常说的欧氏距离，n维空间中的L2范数计算方法如下：\n",
    "\n",
    "${\\displaystyle \\left\\|x\\right\\|_{2}=\\left({x_{1}}^{2}+{x_{2}}^{2}+\\dotsb +{x_{n}}^{2}\\right)^{\\frac {1}{2}} = \\sqrt{\\sum_{i=1}^{n}{x_i^2}}} $\n",
    "\n",
    "根据L2范数的定义，常见的代价函数均方误差函数(MSE)也可以写成下面的形式：\n",
    "\n",
    "$L(\\theta) = MSE(\\theta) = \\frac{1}{m}\\sum_{i=1}^{m}{(\\hat{y}^{(i)} - y^{(i)})^2} = \\frac{1}{m} \\sum_{i=1}^{m} {(\\theta^T \\cdot x^{(i)} - y^{(i)})^2} = \\frac{1}{m} ||X \\cdot \\theta - y||_2^2$\n",
    "\n",
    "- m表示训练集中样本的数量"
   ]
  },
  {
   "cell_type": "markdown",
   "metadata": {},
   "source": [
    "上面的式子不仅仅是简化了MSE函数的表示形式，也是从另一个不同的角度来看待预测值与实际值之间的误差的方式。如果训练集中有m个样本点，那么等式中最右边的式子表示整个预测值(可以看做m维向量)与全部真实观察值(也就是训练集中的标签，同样是一个m维的向量)之间的L2范数的平方，再除以m。这样就**把全部预测值和全部观察值当做了m维向量空间中的两个点**了。\n",
    "\n",
    "- 太有意思了，这是2018年以来的最大发现了！三维空间中的1个点可以用二维平面上的三个点来表示；二维平面上的m个点，可以用m维空间中的一个点来表示！"
   ]
  },
  {
   "cell_type": "markdown",
   "metadata": {},
   "source": [
    "### 5.二维空间下的不同范数单位圆"
   ]
  },
  {
   "cell_type": "markdown",
   "metadata": {},
   "source": [
    "- 可以在这里自己画：https://www.geogebra.org/graphing\n",
    "  - $l_{2/3}-norm$ 单位圆: `nroot(x^(2 / 3) + y^(2 / 3),2 / 3) = 1` \n",
    "\n",
    "- from wiki\n",
    "\n",
    "![](https://upload.wikimedia.org/wikipedia/commons/d/d4/Vector-p-Norms_qtl1.svg)"
   ]
  },
  {
   "cell_type": "markdown",
   "metadata": {},
   "source": [
    "### Reference\n",
    "\n",
    "https://zh.wikipedia.org/wiki/%E8%8C%83%E6%95%B0\n",
    "\n",
    "https://en.wikipedia.org/wiki/Norm_(mathematics)\n",
    "\n",
    "http://blog.csdn.net/shijing_0214/article/details/51757564\n"
   ]
  },
  {
   "cell_type": "code",
   "execution_count": null,
   "metadata": {},
   "outputs": [],
   "source": []
  }
 ],
 "metadata": {
  "kernelspec": {
   "display_name": "Python 3",
   "language": "python",
   "name": "python3"
  },
  "language_info": {
   "codemirror_mode": {
    "name": "ipython",
    "version": 3
   },
   "file_extension": ".py",
   "mimetype": "text/x-python",
   "name": "python",
   "nbconvert_exporter": "python",
   "pygments_lexer": "ipython3",
   "version": "3.6.3"
  }
 },
 "nbformat": 4,
 "nbformat_minor": 2
}
