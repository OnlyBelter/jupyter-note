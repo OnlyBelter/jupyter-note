{
 "cells": [
  {
   "cell_type": "markdown",
   "metadata": {},
   "source": [
    "## 3. 正则化\n",
    "- 正则化项不包括截距项\n",
    "- 降低了模型的variance(降低方差，可预测性增加了)，但是增加了bias(增加bias，训练集中的误差增加了)\n",
    "- 最好先对数据进行缩放，然后再分析，[StandardScaler](http://scikit-learn.org/stable/modules/generated/sklearn.preprocessing.StandardScaler.html)"
   ]
  },
  {
   "cell_type": "code",
   "execution_count": 64,
   "metadata": {},
   "outputs": [],
   "source": [
    "import numpy as np\n",
    "import matplotlib.pyplot as plt\n",
    "from sklearn.preprocessing import PolynomialFeatures\n",
    "from sklearn.metrics import mean_squared_error\n",
    "from sklearn.model_selection import LeaveOneOut"
   ]
  },
  {
   "cell_type": "code",
   "execution_count": 8,
   "metadata": {},
   "outputs": [],
   "source": [
    "data = np.array([[ -2.95507616,  10.94533252],\n",
    "       [ -0.44226119,   2.96705822],\n",
    "       [ -2.13294087,   6.57336839],\n",
    "       [  1.84990823,   5.44244467],\n",
    "       [  0.35139795,   2.83533936],\n",
    "       [ -1.77443098,   5.6800407 ],\n",
    "       [ -1.8657203 ,   6.34470814],\n",
    "       [  1.61526823,   4.77833358],\n",
    "       [ -2.38043687,   8.51887713],\n",
    "       [ -1.40513866,   4.18262786]])\n",
    "m = data.shape[0]  # 样本大小\n",
    "X = data[:, 0].reshape(-1, 1)  # 将array转换成矩阵\n",
    "y = data[:, 1].reshape(-1, 1)"
   ]
  },
  {
   "cell_type": "markdown",
   "metadata": {},
   "source": [
    "### 3.1 手动添加正则化项L2(Ridge Regression)"
   ]
  },
  {
   "cell_type": "code",
   "execution_count": 30,
   "metadata": {},
   "outputs": [],
   "source": [
    "# 代价函数\n",
    "def L_theta(theta, X_x0, y, lamb):\n",
    "    \"\"\"\n",
    "    lamb: lambda, the parameter of regularization\n",
    "    theta: (n+1)·1 matrix, contains the parameter of x0=1\n",
    "    X_x0: m·(n+1) matrix, plus x0\n",
    "    \"\"\"\n",
    "    h = np.dot(X_x0, theta)  # np.dot 表示矩阵乘法\n",
    "    theta_without_t0 = theta[1:]\n",
    "    L_theta = 0.5 * mean_squared_error(h, y) + 0.5 * lamb * np.sum(np.square(theta_without_t0))\n",
    "    return L_theta"
   ]
  },
  {
   "cell_type": "code",
   "execution_count": 31,
   "metadata": {},
   "outputs": [],
   "source": [
    "# 梯度下降\n",
    "def GD(lamb, X_x0, theta, y, alpha):\n",
    "    \"\"\"\n",
    "    lamb: lambda, the parameter of regularization\n",
    "    alpha: learning rate\n",
    "    X_x0: m·(n+1), plus x0\n",
    "    theta: (n+1)·1 matrix, contains the parameter of x0=1\n",
    "    \"\"\"\n",
    "    for i in range(T):\n",
    "        h = np.dot(X_x0, theta) # predict\n",
    "        theta_with_t0_0 = np.r_[np.zeros([1, 1]), theta[1:]]  # set theta[0] = 0\n",
    "        theta -= (alpha * 1/m * np.dot(X_x0.T, h - y) + lamb*(theta_with_t0_0))  # add the gradient of regularization term\n",
    "        if i%50000==0:\n",
    "            print(L_theta(theta, X_x0, y, lamb))\n",
    "    return theta"
   ]
  },
  {
   "cell_type": "markdown",
   "metadata": {},
   "source": [
    "#### 设置参数\n",
    "- 迭代次数：T\n",
    "- 学习率：alpha\n",
    "- 正则化项参数：lamb"
   ]
  },
  {
   "cell_type": "code",
   "execution_count": 32,
   "metadata": {},
   "outputs": [
    {
     "name": "stdout",
     "output_type": "stream",
     "text": [
      "185842996.998\n",
      "3.38656920581\n",
      "3.60036328489\n",
      "3.60215580937\n",
      "3.60203080711\n",
      "3.60189636222\n",
      "3.60176186746\n",
      "3.60162737788\n",
      "3.60149289383\n",
      "3.60135841531\n",
      "3.60122394233\n",
      "3.60108947488\n",
      "3.60095501296\n",
      "3.60082055658\n",
      "3.60068610573\n",
      "3.60055166041\n",
      "3.60041722062\n",
      "3.60028278637\n",
      "3.60014835764\n",
      "3.60001393445\n",
      "3.59987951679\n",
      "3.59974510466\n",
      "3.59961069806\n",
      "3.59947629699\n"
     ]
    }
   ],
   "source": [
    "T = 1200000  # 迭代次数\n",
    "degree = 11\n",
    "theta = np.ones((degree + 1, 1))  # 参数的初始化，degree = 11，一个12个参数\n",
    "alpha = 0.0000000006 # 学习率\n",
    "# alpha = 0.003  # 学习率\n",
    "lamb = 0.0001\n",
    "# lamb = 0\n",
    "poly_features_d = PolynomialFeatures(degree=degree, include_bias=False)\n",
    "X_poly_d = poly_features_d.fit_transform(X)\n",
    "X_x0 = np.c_[np.ones((m, 1)), X_poly_d]  # ADD X0 = 1 to each instance\n",
    "theta = GD(lamb=lamb, X_x0=X_x0, theta=theta, y=y, alpha=alpha)"
   ]
  },
  {
   "cell_type": "code",
   "execution_count": 33,
   "metadata": {},
   "outputs": [
    {
     "name": "stdout",
     "output_type": "stream",
     "text": [
      "[[  1.00078848e+00]\n",
      " [ -1.03862735e-05]\n",
      " [  3.85144400e-05]\n",
      " [ -3.77233288e-05]\n",
      " [  1.28959318e-04]\n",
      " [ -1.42449160e-04]\n",
      " [  4.42760996e-04]\n",
      " [ -5.11518471e-04]\n",
      " [  1.42533716e-03]\n",
      " [ -1.40265037e-03]\n",
      " [  3.13638870e-03]\n",
      " [  1.21862016e-03]]\n",
      "3.59934190413\n"
     ]
    }
   ],
   "source": [
    "print(theta)\n",
    "print(L_theta(theta, X_x0, y, lamb))"
   ]
  },
  {
   "cell_type": "code",
   "execution_count": 34,
   "metadata": {},
   "outputs": [
    {
     "data": {
      "image/png": "[encoded data removed]",
      "text/plain": [
       "<matplotlib.figure.Figure at 0x7f1f6174bcf8>"
      ]
     },
     "metadata": {},
     "output_type": "display_data"
    }
   ],
   "source": [
    "X_plot = np.linspace(-2.99, 1.9, 1000).reshape(-1, 1)\n",
    "poly_features_d_with_bias = PolynomialFeatures(degree=degree, include_bias=True)\n",
    "X_plot_poly = poly_features_d_with_bias.fit_transform(X_plot)\n",
    "y_plot = np.dot(X_plot_poly, theta)\n",
    "plt.plot(X_plot, y_plot, 'r-')\n",
    "plt.plot(X, y, 'b.')\n",
    "plt.xlabel('x')\n",
    "plt.ylabel('y')\n",
    "plt.savefig('regu-3.1.png', dpi=200)\n",
    "# plt.show()"
   ]
  },
  {
   "cell_type": "markdown",
   "metadata": {},
   "source": [
    "添加正则化项后，模型变简单了。此时拟合训练集的效果不是太好，但是鉴于我们的原始数据来源于一个2次方程，因此可预测性提高了很多。"
   ]
  },
  {
   "cell_type": "markdown",
   "metadata": {},
   "source": [
    "### 3.2 正规方程求解"
   ]
  },
  {
   "cell_type": "code",
   "execution_count": 35,
   "metadata": {},
   "outputs": [
    {
     "name": "stdout",
     "output_type": "stream",
     "text": [
      "[[ 0.56502653]\n",
      " [-0.12459546]\n",
      " [ 0.26772443]\n",
      " [-0.15642405]\n",
      " [ 0.29249514]\n",
      " [-0.10084392]\n",
      " [ 0.22791769]\n",
      " [ 0.1648667 ]\n",
      " [-0.05686718]\n",
      " [-0.03906615]\n",
      " [-0.00111673]\n",
      " [ 0.00101724]]\n",
      "0.604428719639\n"
     ]
    }
   ],
   "source": [
    "theta2 = np.linalg.inv(np.dot(X_x0.T, X_x0) + 10*np.identity(X_x0.shape[1])).dot(X_x0.T).dot(y)\n",
    "print(theta2)\n",
    "print(L_theta(theta2, X_x0, y, lamb))"
   ]
  },
  {
   "cell_type": "code",
   "execution_count": 37,
   "metadata": {},
   "outputs": [
    {
     "data": {
      "image/png": "[encoded data removed]",
      "text/plain": [
       "<matplotlib.figure.Figure at 0x7f1f6150d358>"
      ]
     },
     "metadata": {},
     "output_type": "display_data"
    }
   ],
   "source": [
    "X_plot = np.linspace(-3, 2, 1000).reshape(-1, 1)\n",
    "poly_features_d_with_bias = PolynomialFeatures(degree=degree, include_bias=True)\n",
    "X_plot_poly = poly_features_d_with_bias.fit_transform(X_plot)\n",
    "y_plot = np.dot(X_plot_poly, theta2)\n",
    "plt.plot(X_plot, y_plot, 'r-')\n",
    "plt.plot(X, y, 'b.')\n",
    "plt.xlabel('x')\n",
    "plt.ylabel('y')\n",
    "plt.savefig('regu-3.2.png', dpi=200)\n",
    "# plt.show()"
   ]
  },
  {
   "cell_type": "markdown",
   "metadata": {},
   "source": [
    "### 3.3 手动添加正则化项L1(Lasso Regression)"
   ]
  },
  {
   "cell_type": "code",
   "execution_count": 876,
   "metadata": {},
   "outputs": [],
   "source": [
    "# 代价函数\n",
    "def L_theta(theta, X_x0, y, lamb):\n",
    "    \"\"\"\n",
    "    lamb: lambda, the parameter of regularization\n",
    "    theta: (n+1)·1 matrix, contains the parameter of x0=1\n",
    "    X_x0: m·(n+1) matrix, plus x0\n",
    "    \"\"\"\n",
    "    h = np.dot(X_x0, theta) # np.dot 表示矩阵乘法\n",
    "    theta_without_t0 = theta[1:]\n",
    "    L_theta = mean_squared_error(h, y) + lamb * np.sum(np.abs(theta_without_t0))\n",
    "    return L_theta"
   ]
  },
  {
   "cell_type": "code",
   "execution_count": 877,
   "metadata": {},
   "outputs": [],
   "source": [
    "# 梯度下降\n",
    "def GD(lamb, X_x0, theta, h, y, alpha):\n",
    "    \"\"\"\n",
    "    lamb: lambda, the parameter of regularization\n",
    "    alpha: learning rate\n",
    "    X_x0: m·(n+1), plus x0\n",
    "    theta: (n+1)·1 matrix, contains the parameter of x0=1\n",
    "    \"\"\"\n",
    "    for i in range(T):\n",
    "        h = np.dot(X_x0, theta)\n",
    "        theta_with_t0_0 = np.r_[np.zeros([1, 1]), theta[1:]]  # set theta[0] = 0\n",
    "        theta -= (alpha * 1/m * np.dot(X_x0.T, h - y) + 2*lamb*(np.sign(theta_with_t0_0)))  # add the gradient of regularization term\n",
    "        if i%1000==0:\n",
    "            print(L_theta(theta, X_x0, y, lamb))\n",
    "    return theta"
   ]
  },
  {
   "cell_type": "code",
   "execution_count": 929,
   "metadata": {},
   "outputs": [],
   "source": [
    "T = 10000  # 迭代次数\n",
    "degree = 11\n",
    "theta = np.ones((degree + 1, 1))  # 参数的初始化，degree = 11，一个12个参数\n",
    "alpha = 0.00000000009  # 学习率\n",
    "# alpha = 0.00006  # 学习率\n",
    "lamb = 0.00009\n",
    "poly_features_d = PolynomialFeatures(degree=degree, include_bias=False)\n",
    "X_poly_d = poly_features_d.fit_transform(X)\n",
    "# lamb = 0\n",
    "X_x0 = np.c_[np.ones((m, 1)), X_poly_d]  # ADD X0 = 1 to each instance"
   ]
  },
  {
   "cell_type": "code",
   "execution_count": 930,
   "metadata": {},
   "outputs": [
    {
     "name": "stdout",
     "output_type": "stream",
     "text": [
      "749348967.791\n",
      "205317.994438\n",
      "118395.995939\n",
      "56407.4911963\n",
      "17971.8244177\n",
      "1788.27567206\n",
      "22.8504300638\n",
      "55.2227452403\n",
      "33.1061171937\n",
      "68.7172587622\n",
      "[[  9.99926898e-01]\n",
      " [ -9.02603623e-05]\n",
      " [ -3.94988704e-06]\n",
      " [ -1.70848639e-05]\n",
      " [ -1.26466490e-04]\n",
      " [  1.41393831e-04]\n",
      " [ -1.24488885e-04]\n",
      " [  1.42423825e-04]\n",
      " [ -1.36769090e-04]\n",
      " [ -1.58975955e-04]\n",
      " [ -1.40245800e-04]\n",
      " [ -1.82004406e-04]]\n"
     ]
    }
   ],
   "source": [
    "theta = GD(lamb=lamb, X_x0=X_x0, theta=theta, h=h, y=y, alpha=alpha)\n",
    "print(theta)"
   ]
  },
  {
   "cell_type": "code",
   "execution_count": 932,
   "metadata": {},
   "outputs": [
    {
     "data": {
      "image/png": "[encoded data removed]",
      "text/plain": [
       "<matplotlib.figure.Figure at 0x7f5950b557b8>"
      ]
     },
     "metadata": {},
     "output_type": "display_data"
    }
   ],
   "source": [
    "X_plot = np.linspace(-3, 2, 1000).reshape(-1, 1)\n",
    "poly_features_d_with_bias = PolynomialFeatures(degree=degree, include_bias=True)\n",
    "X_plot_poly = poly_features_d_with_bias.fit_transform(X_plot)\n",
    "h = np.dot(X_plot_poly, theta)\n",
    "plt.plot(X_plot, h, 'r-')\n",
    "plt.plot(X, y, 'b.')\n",
    "# plt.axis([0, 2, 4, 12])\n",
    "plt.savefig('regu-5.png', dpi=200)"
   ]
  },
  {
   "cell_type": "markdown",
   "metadata": {},
   "source": [
    "相对于L2，L1得到的模型更简单，例如从[-1, 1]，模型几乎为一条直线"
   ]
  },
  {
   "cell_type": "markdown",
   "metadata": {},
   "source": [
    "### 3.4 使用scikit-learn"
   ]
  },
  {
   "cell_type": "markdown",
   "metadata": {},
   "source": [
    "#### 3.4.1 Ridge"
   ]
  },
  {
   "cell_type": "code",
   "execution_count": 38,
   "metadata": {},
   "outputs": [],
   "source": [
    "from sklearn.linear_model import Ridge\n",
    "from sklearn.linear_model import Lasso"
   ]
  },
  {
   "cell_type": "code",
   "execution_count": 93,
   "metadata": {},
   "outputs": [],
   "source": [
    "# 代价函数\n",
    "def L_theta_ridge(intercept, coef, X, y, lamb):\n",
    "    \"\"\"\n",
    "    lamb: lambda, the parameter of regularization\n",
    "    theta: (n+1)·1 matrix, contains the parameter of x0=1\n",
    "    X_x0: m·(n+1) matrix, plus x0\n",
    "    \"\"\"\n",
    "    h = np.dot(X, coef) + intercept  # np.dot 表示矩阵乘法\n",
    "    L_theta = 0.5 * mean_squared_error(h, y) + 0.5 * lamb * np.sum(np.square(coef))\n",
    "    return L_theta"
   ]
  },
  {
   "cell_type": "code",
   "execution_count": 50,
   "metadata": {},
   "outputs": [
    {
     "name": "stdout",
     "output_type": "stream",
     "text": [
      "[ 3.03698398] [[ -2.95619849e-02   6.09137803e-02  -4.93919290e-02   1.10593684e-01\n",
      "   -4.65660197e-02   1.06387336e-01   5.14340826e-02  -2.29460359e-02\n",
      "   -1.12705709e-02  -1.73925386e-05   2.79198986e-04]]\n",
      "0.213877232488\n"
     ]
    }
   ],
   "source": [
    "lamb = 10\n",
    "ridge_reg = Ridge(alpha=lamb, solver=\"cholesky\")\n",
    "ridge_reg.fit(X_poly_d, y)\n",
    "print(ridge_reg.intercept_, ridge_reg.coef_)\n",
    "print(L_theta_new(intercept=ridge_reg.intercept_, coef=ridge_reg.coef_.T, X=X_poly_d, y=y, lamb=lamb))"
   ]
  },
  {
   "cell_type": "code",
   "execution_count": 52,
   "metadata": {},
   "outputs": [
    {
     "data": {
      "text/plain": [
       "0.98783701716852146"
      ]
     },
     "execution_count": 52,
     "metadata": {},
     "output_type": "execute_result"
    }
   ],
   "source": [
    "ridge_reg.score(X_poly_d, y)  # R^2"
   ]
  },
  {
   "cell_type": "code",
   "execution_count": 53,
   "metadata": {},
   "outputs": [
    {
     "data": {
      "image/png": "[encoded data removed]",
      "text/plain": [
       "<matplotlib.figure.Figure at 0x7f1f5f20be80>"
      ]
     },
     "metadata": {},
     "output_type": "display_data"
    }
   ],
   "source": [
    "X_plot = np.linspace(-3, 2, 1000).reshape(-1, 1)\n",
    "X_plot_poly = poly_features_d.fit_transform(X_plot)\n",
    "h = np.dot(X_plot_poly, ridge_reg.coef_.T) + ridge_reg.intercept_\n",
    "plt.plot(X_plot, h, 'r-')\n",
    "plt.plot(X, y, 'b.')\n",
    "# plt.show()\n",
    "plt.savefig('regu-3.4-1.png', dpi=200)"
   ]
  },
  {
   "cell_type": "markdown",
   "metadata": {},
   "source": [
    "#### 3.4.2 Lasso"
   ]
  },
  {
   "cell_type": "code",
   "execution_count": 96,
   "metadata": {},
   "outputs": [],
   "source": [
    "# 代价函数\n",
    "def L_theta_lasso(intercept, coef, X, y, lamb):\n",
    "    \"\"\"\n",
    "    lamb: lambda, the parameter of regularization\n",
    "    theta: (n+1)·1 matrix, contains the parameter of x0=1\n",
    "    X_x0: m·(n+1) matrix, plus x0\n",
    "    \"\"\"\n",
    "    h = np.dot(X, coef) + intercept  # np.dot 表示矩阵乘法\n",
    "    L_theta = 0.5 * mean_squared_error(h, y) + lamb * np.sum(np.abs(coef))\n",
    "    return L_theta"
   ]
  },
  {
   "cell_type": "code",
   "execution_count": 97,
   "metadata": {},
   "outputs": [
    {
     "name": "stdout",
     "output_type": "stream",
     "text": [
      "[ 2.86435179] [ -0.00000000e+00   5.29099723e-01  -3.61182017e-02   9.75614738e-02\n",
      "   1.61971116e-03  -3.42711766e-03   2.78782527e-04  -1.63421713e-04\n",
      "  -5.64291215e-06  -1.38933655e-05   1.02036898e-06]\n",
      "0.0451291096773\n"
     ]
    },
    {
     "name": "stderr",
     "output_type": "stream",
     "text": [
      "/opt/conda/lib/python3.6/site-packages/sklearn/linear_model/coordinate_descent.py:491: ConvergenceWarning: Objective did not converge. You might want to increase the number of iterations. Fitting data with very small alpha may cause precision problems.\n",
      "  ConvergenceWarning)\n"
     ]
    }
   ],
   "source": [
    "lamb = 0.025\n",
    "lasso_reg = Lasso(alpha=lamb)\n",
    "lasso_reg.fit(X_poly_d, y)\n",
    "print(lasso_reg.intercept_, lasso_reg.coef_)\n",
    "print(L_theta_lasso(intercept=lasso_reg.intercept_, coef=lasso_reg.coef_.T, X=X_poly_d, y=y, lamb=lamb))"
   ]
  },
  {
   "cell_type": "code",
   "execution_count": 57,
   "metadata": {},
   "outputs": [
    {
     "data": {
      "image/png": "[encoded data removed]",
      "text/plain": [
       "<matplotlib.figure.Figure at 0x7f1f5f2f5940>"
      ]
     },
     "metadata": {},
     "output_type": "display_data"
    }
   ],
   "source": [
    "X_plot = np.linspace(-3, 2, 1000).reshape(-1, 1)\n",
    "X_plot_poly = poly_features_d.fit_transform(X_plot)\n",
    "h = np.dot(X_plot_poly, lasso_reg.coef_.T) + lasso_reg.intercept_\n",
    "plt.plot(X_plot, h, 'r-')\n",
    "plt.plot(X, y, 'b.')\n",
    "# plt.show()\n",
    "plt.savefig('regu-3.4-2.png', dpi=200)"
   ]
  },
  {
   "cell_type": "markdown",
   "metadata": {},
   "source": [
    "#### 3.4.3 Elastic Net"
   ]
  },
  {
   "cell_type": "code",
   "execution_count": 98,
   "metadata": {},
   "outputs": [],
   "source": [
    "# 代价函数\n",
    "def L_theta_ee(intercept, coef, X, y, lamb, r):\n",
    "    \"\"\"\n",
    "    lamb: lambda, the parameter of regularization\n",
    "    theta: (n+1)·1 matrix, contains the parameter of x0=1\n",
    "    X_x0: m·(n+1) matrix, plus x0\n",
    "    \"\"\"\n",
    "    h = np.dot(X, coef) + intercept  # np.dot 表示矩阵乘法\n",
    "    L_theta = 0.5 * mean_squared_error(h, y) + r * lamb * np.sum(np.abs(coef)) + 0.5 * (1-r) * lamb * np.sum(np.square(coef))\n",
    "    return L_theta"
   ]
  },
  {
   "cell_type": "code",
   "execution_count": 99,
   "metadata": {},
   "outputs": [],
   "source": [
    "from sklearn.linear_model import ElasticNet"
   ]
  },
  {
   "cell_type": "code",
   "execution_count": 106,
   "metadata": {},
   "outputs": [
    {
     "name": "stdout",
     "output_type": "stream",
     "text": [
      "[ 3.31466833] [ -0.00000000e+00   0.00000000e+00  -0.00000000e+00   1.99874040e-01\n",
      "  -1.21830209e-02   2.58040545e-04   3.01117857e-03  -8.54952421e-04\n",
      "   4.35227606e-05  -2.84995639e-06  -8.36248799e-06]\n",
      "0.0807738447192\n"
     ]
    },
    {
     "name": "stderr",
     "output_type": "stream",
     "text": [
      "/opt/conda/lib/python3.6/site-packages/sklearn/linear_model/coordinate_descent.py:491: ConvergenceWarning: Objective did not converge. You might want to increase the number of iterations. Fitting data with very small alpha may cause precision problems.\n",
      "  ConvergenceWarning)\n"
     ]
    }
   ],
   "source": [
    "elastic_net = ElasticNet(alpha=0.5, l1_ratio=0.8)\n",
    "elastic_net.fit(X_poly_d, y)\n",
    "print(elastic_net.intercept_, elastic_net.coef_)\n",
    "print(L_theta_ee(intercept=elastic_net.intercept_, coef=elastic_net.coef_.T, X=X_poly_d, y=y, lamb=0.1, r=0.8))"
   ]
  },
  {
   "cell_type": "code",
   "execution_count": 107,
   "metadata": {},
   "outputs": [
    {
     "data": {
      "image/png": "[encoded data removed]",
      "text/plain": [
       "<matplotlib.figure.Figure at 0x7f1f5edb0dd8>"
      ]
     },
     "metadata": {},
     "output_type": "display_data"
    }
   ],
   "source": [
    "X_plot = np.linspace(-3, 2, 1000).reshape(-1, 1)\n",
    "X_plot_poly = poly_features_d.fit_transform(X_plot)\n",
    "h = np.dot(X_plot_poly, elastic_net.coef_.T) + elastic_net.intercept_\n",
    "plt.plot(X_plot, h, 'r-')\n",
    "plt.plot(X, y, 'b.')\n",
    "# plt.show()\n",
    "plt.savefig('regu-3.4-3.png', dpi=200)"
   ]
  },
  {
   "cell_type": "markdown",
   "metadata": {},
   "source": [
    "### 4. 使用交叉验证选择正则化的参数\n",
    "- 使用Leave One Out进行交叉验证"
   ]
  },
  {
   "cell_type": "markdown",
   "metadata": {},
   "source": [
    "#### 4.1 挑选L2正则化参数"
   ]
  },
  {
   "cell_type": "code",
   "execution_count": 902,
   "metadata": {},
   "outputs": [],
   "source": [
    "def get_total_loss(X, y, lamb, degree):\n",
    "    loo = LeaveOneOut()\n",
    "    loss = []\n",
    "    poly_features = PolynomialFeatures(degree=degree, include_bias=False)\n",
    "    train_poly = poly_features.fit_transform(X)\n",
    "    for train, test in loo.split(X):  # 利用LOO拆分训练样本和测试样本\n",
    "#         print(\"%s %s\" % (train, test))\n",
    "        ridge_reg = Ridge(alpha=lamb, solver=\"cholesky\")\n",
    "        ridge_reg.fit(train_poly[train], y[train])  # ridge regression training\n",
    "        loss.append(ridge_reg.predict(train_poly[test]) - y[test])  # save all loss for each test\n",
    "    return 1/(len(loss)) * np.sum(np.square(np.array(loss)))  # use MSE function to return the total loss"
   ]
  },
  {
   "cell_type": "code",
   "execution_count": 903,
   "metadata": {},
   "outputs": [
    {
     "data": {
      "text/plain": [
       "0.20734111419908241"
      ]
     },
     "execution_count": 903,
     "metadata": {},
     "output_type": "execute_result"
    }
   ],
   "source": [
    "get_total_loss(X, y, 10, 6)"
   ]
  },
  {
   "cell_type": "code",
   "execution_count": 904,
   "metadata": {},
   "outputs": [
    {
     "data": {
      "text/plain": [
       "array([  1.00000000e-06,   1.00000000e-05,   1.00000000e-04,\n",
       "         1.00000000e-03,   1.00000000e-02,   1.00000000e-01,\n",
       "         1.00000000e+00,   1.00000000e+01,   1.00000000e+02,\n",
       "         1.00000000e+03])"
      ]
     },
     "execution_count": 904,
     "metadata": {},
     "output_type": "execute_result"
    }
   ],
   "source": [
    "lamb_range = np.geomspace(1e-6, 1e4, 10, endpoint=False)\n",
    "lamb_range"
   ]
  },
  {
   "cell_type": "code",
   "execution_count": 905,
   "metadata": {},
   "outputs": [
    {
     "data": {
      "text/plain": [
       "[1.5183585550198837,\n",
       " 1.5174863694989424,\n",
       " 1.5088751387170132,\n",
       " 1.432389199452542,\n",
       " 1.0566184322679464,\n",
       " 0.38337321838953636,\n",
       " 0.38431055801814185,\n",
       " 0.20734111419908241,\n",
       " 6.2808412958114737,\n",
       " 11.94121193348386]"
      ]
     },
     "execution_count": 905,
     "metadata": {},
     "output_type": "execute_result"
    }
   ],
   "source": [
    "loss_score = []\n",
    "for lamb in lamb_range:\n",
    "    loss = get_total_loss(X, y, lamb, 6)\n",
    "    loss_score.append(loss)\n",
    "loss_score"
   ]
  },
  {
   "cell_type": "code",
   "execution_count": 906,
   "metadata": {},
   "outputs": [
    {
     "data": {
      "text/plain": [
       "7"
      ]
     },
     "execution_count": 906,
     "metadata": {},
     "output_type": "execute_result"
    }
   ],
   "source": [
    "np.argmin(np.array(loss_score))"
   ]
  },
  {
   "cell_type": "markdown",
   "metadata": {},
   "source": [
    "#### 精选"
   ]
  },
  {
   "cell_type": "code",
   "execution_count": 690,
   "metadata": {},
   "outputs": [
    {
     "data": {
      "text/plain": [
       "array([ 1.  ,  1.05,  1.1 ,  1.15,  1.2 ,  1.25,  1.3 ,  1.35,  1.4 ,\n",
       "        1.45,  1.5 ,  1.55,  1.6 ,  1.65,  1.7 ,  1.75,  1.8 ,  1.85,\n",
       "        1.9 ,  1.95])"
      ]
     },
     "execution_count": 690,
     "metadata": {},
     "output_type": "execute_result"
    }
   ],
   "source": [
    "lamb_range = np.linspace(1, 2, 20, endpoint=False)\n",
    "lamb_range"
   ]
  },
  {
   "cell_type": "code",
   "execution_count": 691,
   "metadata": {},
   "outputs": [
    {
     "data": {
      "text/plain": [
       "[2.2905174737627618,\n",
       " 1.934283047610694,\n",
       " 1.6304663747425003,\n",
       " 1.3718151129634721,\n",
       " 1.1522541593829139,\n",
       " 0.9666635430804954,\n",
       " 0.81070395425828501,\n",
       " 0.68067850765112392,\n",
       " 0.57342234048114071,\n",
       " 0.48621378764122547,\n",
       " 0.41670242492888532,\n",
       " 0.36285040236193611,\n",
       " 0.32288432524091998,\n",
       " 0.29525556373908429,\n",
       " 0.27860734080268107,\n",
       " 0.27174730412942932,\n",
       " 0.27362456030731847,\n",
       " 0.28331035911669888,\n",
       " 0.29998177891211963,\n",
       " 0.32290789129722297]"
      ]
     },
     "execution_count": 691,
     "metadata": {},
     "output_type": "execute_result"
    }
   ],
   "source": [
    "loss_score = []\n",
    "for lamb in lamb_range:\n",
    "    loss = get_total_loss(X, y, lamb, 6)\n",
    "    loss_score.append(loss)\n",
    "loss_score"
   ]
  },
  {
   "cell_type": "markdown",
   "metadata": {},
   "source": [
    "#### 4.2 挑选L1的参数"
   ]
  },
  {
   "cell_type": "code",
   "execution_count": 916,
   "metadata": {},
   "outputs": [],
   "source": [
    "def get_total_loss_l1(X, y, lamb, degree):\n",
    "    loo = LeaveOneOut()\n",
    "    loss = []\n",
    "    poly_features = PolynomialFeatures(degree=degree, include_bias=False)\n",
    "    train_poly = poly_features.fit_transform(X)\n",
    "    for train, test in loo.split(X):  # 利用LOO拆分训练样本和测试样本\n",
    "#         print(\"%s %s\" % (train, test))\n",
    "        lasso_reg = Lasso(alpha=lamb)\n",
    "        lasso_reg.fit(train_poly[train], y[train])  # ridge regression training\n",
    "        loss.append(lasso_reg.predict(train_poly[test]) - y[test])  # save all loss for each test\n",
    "    return 1/(len(loss)) * np.sum(np.square(np.array(loss)))  # use MSE function to return the total loss"
   ]
  },
  {
   "cell_type": "code",
   "execution_count": 917,
   "metadata": {},
   "outputs": [
    {
     "data": {
      "text/plain": [
       "array([  1.00000000e-06,   1.00000000e-05,   1.00000000e-04,\n",
       "         1.00000000e-03,   1.00000000e-02,   1.00000000e-01,\n",
       "         1.00000000e+00,   1.00000000e+01,   1.00000000e+02,\n",
       "         1.00000000e+03])"
      ]
     },
     "execution_count": 917,
     "metadata": {},
     "output_type": "execute_result"
    }
   ],
   "source": [
    "lamb_range = np.geomspace(1e-6, 1e4, 10, endpoint=False)\n",
    "lamb_range"
   ]
  },
  {
   "cell_type": "code",
   "execution_count": 918,
   "metadata": {},
   "outputs": [
    {
     "name": "stderr",
     "output_type": "stream",
     "text": [
      "/opt/conda/lib/python3.6/site-packages/sklearn/linear_model/coordinate_descent.py:491: ConvergenceWarning: Objective did not converge. You might want to increase the number of iterations. Fitting data with very small alpha may cause precision problems.\n",
      "  ConvergenceWarning)\n"
     ]
    },
    {
     "data": {
      "text/plain": [
       "[0.67931591680858827,\n",
       " 0.67828075296154455,\n",
       " 0.66781265655340516,\n",
       " 0.59322280603933908,\n",
       " 0.32091856131286489,\n",
       " 0.75478492986359247,\n",
       " 3.9600861112079779,\n",
       " 10.821291876957668,\n",
       " 5.2700232844772898,\n",
       " 6.8359331621592165]"
      ]
     },
     "execution_count": 918,
     "metadata": {},
     "output_type": "execute_result"
    }
   ],
   "source": [
    "loss_score = []\n",
    "for lamb in lamb_range:\n",
    "    loss = get_total_loss_l1(X, y, lamb, 6)\n",
    "    loss_score.append(loss)\n",
    "loss_score"
   ]
  },
  {
   "cell_type": "code",
   "execution_count": 919,
   "metadata": {},
   "outputs": [
    {
     "data": {
      "text/plain": [
       "array([ 0.01      ,  0.01258925,  0.01584893,  0.01995262,  0.02511886,\n",
       "        0.03162278,  0.03981072,  0.05011872,  0.06309573,  0.07943282,\n",
       "        0.1       ,  0.12589254,  0.15848932,  0.19952623,  0.25118864,\n",
       "        0.31622777,  0.39810717,  0.50118723,  0.63095734,  0.79432823])"
      ]
     },
     "execution_count": 919,
     "metadata": {},
     "output_type": "execute_result"
    }
   ],
   "source": [
    "lamb_range = np.geomspace(1e-2, 1, 20, endpoint=False)\n",
    "lamb_range"
   ]
  },
  {
   "cell_type": "code",
   "execution_count": 920,
   "metadata": {},
   "outputs": [
    {
     "name": "stderr",
     "output_type": "stream",
     "text": [
      "/opt/conda/lib/python3.6/site-packages/sklearn/linear_model/coordinate_descent.py:491: ConvergenceWarning: Objective did not converge. You might want to increase the number of iterations. Fitting data with very small alpha may cause precision problems.\n",
      "  ConvergenceWarning)\n"
     ]
    },
    {
     "data": {
      "text/plain": [
       "[0.32091856131286489,\n",
       " 0.26712344354262701,\n",
       " 0.2148091515283114,\n",
       " 0.17164748026659149,\n",
       " 0.15411982575240529,\n",
       " 0.19180815393858577,\n",
       " 0.33453165853241357,\n",
       " 0.66714524605167158,\n",
       " 1.0269416556179658,\n",
       " 0.90840916385077319,\n",
       " 0.75478492986359247,\n",
       " 0.56562881062750736,\n",
       " 0.37517017160528787,\n",
       " 0.22598188066724614,\n",
       " 0.17847367378053763,\n",
       " 0.31471733247887235,\n",
       " 0.79947447220327261,\n",
       " 1.6364238206440611,\n",
       " 2.6640736861565006,\n",
       " 2.588707556527523]"
      ]
     },
     "execution_count": 920,
     "metadata": {},
     "output_type": "execute_result"
    }
   ],
   "source": [
    "loss_score = []\n",
    "for lamb in lamb_range:\n",
    "    loss = get_total_loss_l1(X, y, lamb, 6)\n",
    "    loss_score.append(loss)\n",
    "loss_score"
   ]
  },
  {
   "cell_type": "code",
   "execution_count": 921,
   "metadata": {},
   "outputs": [
    {
     "data": {
      "text/plain": [
       "4"
      ]
     },
     "execution_count": 921,
     "metadata": {},
     "output_type": "execute_result"
    }
   ],
   "source": [
    "np.argmin(loss_score)"
   ]
  },
  {
   "cell_type": "markdown",
   "metadata": {},
   "source": [
    "#### 4.3 挑选ElasticNet的参数"
   ]
  },
  {
   "cell_type": "code",
   "execution_count": 70,
   "metadata": {},
   "outputs": [],
   "source": [
    "def get_total_loss_elasticnet(X, y, lamb, degree, l1_ratio):\n",
    "    loo = LeaveOneOut()\n",
    "    loss = []\n",
    "    poly_features = PolynomialFeatures(degree=degree, include_bias=False)\n",
    "    train_poly = poly_features.fit_transform(X)\n",
    "    for train, test in loo.split(X):  # 利用LOO拆分训练样本和测试样本\n",
    "#         print(\"%s %s\" % (train, test))\n",
    "        ee_reg = ElasticNet(alpha=lamb, l1_ratio=l1_ratio)\n",
    "        ee_reg.fit(train_poly[train], y[train])  # ridge regression training\n",
    "        loss.append(ee_reg.predict(train_poly[test]) - y[test])  # save all loss for each test\n",
    "    return 1/(len(loss)) * np.sum(np.square(np.array(loss)))  # use MSE function to return the total loss"
   ]
  },
  {
   "cell_type": "code",
   "execution_count": 71,
   "metadata": {},
   "outputs": [
    {
     "data": {
      "text/plain": [
       "array([  1.00000000e-06,   1.00000000e-05,   1.00000000e-04,\n",
       "         1.00000000e-03,   1.00000000e-02,   1.00000000e-01,\n",
       "         1.00000000e+00,   1.00000000e+01,   1.00000000e+02,\n",
       "         1.00000000e+03,   1.00000000e+04,   1.00000000e+05])"
      ]
     },
     "execution_count": 71,
     "metadata": {},
     "output_type": "execute_result"
    }
   ],
   "source": [
    "lamb_range = np.geomspace(1e-6, 1e6, 12, endpoint=False)\n",
    "lamb_range"
   ]
  },
  {
   "cell_type": "code",
   "execution_count": 75,
   "metadata": {},
   "outputs": [
    {
     "name": "stderr",
     "output_type": "stream",
     "text": [
      "/opt/conda/lib/python3.6/site-packages/sklearn/linear_model/coordinate_descent.py:491: ConvergenceWarning: Objective did not converge. You might want to increase the number of iterations. Fitting data with very small alpha may cause precision problems.\n",
      "  ConvergenceWarning)\n"
     ]
    },
    {
     "data": {
      "text/plain": [
       "[52.396354655999268,\n",
       " 52.396309979336287,\n",
       " 52.396265302788734,\n",
       " 52.39622062635614,\n",
       " 52.396175950035435,\n",
       " 52.3961312738262,\n",
       " 52.396086597731795,\n",
       " 52.396041921754865,\n",
       " 52.395997245893483,\n",
       " 52.395952570142349,\n",
       " 52.408222078577921,\n",
       " 52.407774162516802,\n",
       " 52.40732625396214,\n",
       " 52.406878358656108,\n",
       " 52.406430467189381,\n",
       " 52.405982589138574,\n",
       " 52.405534623975555,\n",
       " 52.405086750646696,\n",
       " 52.404638884597595,\n",
       " 52.404191027318873,\n",
       " 52.526675700588875,\n",
       " 52.522068316216668,\n",
       " 52.51745479769167,\n",
       " 52.51288480410733,\n",
       " 52.508287943190012,\n",
       " 52.503687966992892,\n",
       " 52.499094045592031,\n",
       " 52.494501331037512,\n",
       " 52.490013152127837,\n",
       " 52.485434534369531,\n",
       " 53.689298926242863,\n",
       " 53.624750995960291,\n",
       " 53.563011401770098,\n",
       " 53.513473234005886,\n",
       " 53.464109668468886,\n",
       " 53.416424287959984,\n",
       " 53.367215240997524,\n",
       " 53.318892300384029,\n",
       " 53.270557429335874,\n",
       " 53.222425416870806,\n",
       " 63.29624303417944,\n",
       " 62.832563914491203,\n",
       " 62.358406767113991,\n",
       " 61.885362479642794,\n",
       " 61.418607640254493,\n",
       " 60.966175522707083,\n",
       " 60.530613498752899,\n",
       " 60.065417735355766,\n",
       " 59.723169517822569,\n",
       " 59.368042639156869,\n",
       " 80.956196967309992,\n",
       " 82.29456255749183,\n",
       " 83.440869335265418,\n",
       " 85.147315321183726,\n",
       " 87.510249110820737,\n",
       " 87.85166120135932,\n",
       " 86.163165279224714,\n",
       " 83.398062921622,\n",
       " 80.059669630201768,\n",
       " 76.405072314163746,\n",
       " 70.989889958802578,\n",
       " 43.296192980779992,\n",
       " 18.974929005344233,\n",
       " 4.7640864234947014,\n",
       " 0.34712648686573572,\n",
       " 1.426229603274511,\n",
       " 3.5652634612927301,\n",
       " 7.7669316430078128,\n",
       " 13.128517917640265,\n",
       " 18.040044116053533,\n",
       " 3.3266015289010564,\n",
       " 62.442607657333873,\n",
       " 189.16114296455478,\n",
       " 204.51936293713163,\n",
       " 224.11428657568806,\n",
       " 234.76121176315971,\n",
       " 224.35203543118428,\n",
       " 192.25019255366456,\n",
       " 164.84000797802616,\n",
       " 138.72888850029102,\n",
       " 72.812815055711241,\n",
       " 122.47597617773081,\n",
       " 16.971849955053202,\n",
       " 28.497984655568509,\n",
       " 57.82256227549464,\n",
       " 70.534682953759557,\n",
       " 84.556670062550779,\n",
       " 99.334281987222553,\n",
       " 99.540110136474269,\n",
       " 98.764305501352538,\n",
       " 301.41179037959131,\n",
       " 97.948873384968607,\n",
       " 110.65119837258567,\n",
       " 133.08757538151477,\n",
       " 127.66625848310014,\n",
       " 122.33144741981476,\n",
       " 117.13795314130034,\n",
       " 112.0680552756596,\n",
       " 107.07846611642566,\n",
       " 102.2082088714504,\n",
       " 21.414043157133122,\n",
       " 97.350371353515413,\n",
       " 56.260772494705236,\n",
       " 26.810466355542953,\n",
       " 9.0030550446106705,\n",
       " 2.8421417851977417,\n",
       " 6.076940409308305,\n",
       " 6.0823890510020435,\n",
       " 6.0879495876271683,\n",
       " 6.093622019492213,\n",
       " 64.030973322870608,\n",
       " 6.0994229600635173,\n",
       " 6.1634212574177605,\n",
       " 6.2386085234607656,\n",
       " 6.3249850667063257,\n",
       " 6.4225511956767534,\n",
       " 6.5313072189028576,\n",
       " 6.6512534449239586,\n",
       " 6.7823901822878883,\n",
       " 6.83885543164478]"
      ]
     },
     "execution_count": 75,
     "metadata": {},
     "output_type": "execute_result"
    }
   ],
   "source": [
    "loss_score = []\n",
    "l1_ration = np.linspace(0, 1, 10, endpoint=False)\n",
    "for lamb in lamb_range:\n",
    "    for l1_r in l1_ration:\n",
    "        loss = get_total_loss_elasticnet(X, y, lamb, 11, l1_r)\n",
    "        loss_score.append(loss)\n",
    "loss_score"
   ]
  },
  {
   "cell_type": "code",
   "execution_count": 76,
   "metadata": {},
   "outputs": [
    {
     "data": {
      "text/plain": [
       "64"
      ]
     },
     "execution_count": 76,
     "metadata": {},
     "output_type": "execute_result"
    }
   ],
   "source": [
    "np.argmin(loss_score)"
   ]
  },
  {
   "cell_type": "code",
   "execution_count": 77,
   "metadata": {},
   "outputs": [
    {
     "data": {
      "text/plain": [
       "0.34712648686573572"
      ]
     },
     "execution_count": 77,
     "metadata": {},
     "output_type": "execute_result"
    }
   ],
   "source": [
    "loss_score[64]"
   ]
  },
  {
   "cell_type": "markdown",
   "metadata": {},
   "source": [
    "### Reference"
   ]
  },
  {
   "cell_type": "markdown",
   "metadata": {},
   "source": [
    "- http://enhancedatascience.com/2017/07/04/machine-learning-explained-regularization/\n",
    "- https://www.youtube.com/watch?v=TmzzQoO8mr4 (cost函数的作用，L1与L2的解，L1的解不稳定)"
   ]
  }
 ],
 "metadata": {
  "kernelspec": {
   "display_name": "Python 3",
   "language": "python",
   "name": "python3"
  },
  "language_info": {
   "codemirror_mode": {
    "name": "ipython",
    "version": 3
   },
   "file_extension": ".py",
   "mimetype": "text/x-python",
   "name": "python",
   "nbconvert_exporter": "python",
   "pygments_lexer": "ipython3",
   "version": "3.6.3"
  }
 },
 "nbformat": 4,
 "nbformat_minor": 2
}
