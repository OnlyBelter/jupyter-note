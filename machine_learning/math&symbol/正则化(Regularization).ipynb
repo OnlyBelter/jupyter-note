{
 "cells": [
  {
   "cell_type": "markdown",
   "metadata": {},
   "source": [
    "### 线性回归的正则化\n",
    "- The L1 regularization (also called Lasso)\n",
    "- The L2 regularization (also called Ridge)\n",
    "- The L1/L2 regularization (also called Elastic net)"
   ]
  },
  {
   "cell_type": "code",
   "execution_count": 726,
   "metadata": {},
   "outputs": [],
   "source": [
    "import numpy as np\n",
    "from scipy import stats\n",
    "import matplotlib.pyplot as plt\n",
    "from sklearn.preprocessing import PolynomialFeatures\n",
    "from sklearn.linear_model import LinearRegression\n",
    "from sklearn.metrics import mean_squared_error\n",
    "from sklearn.preprocessing import StandardScaler\n",
    "from sklearn.model_selection import LeaveOneOut"
   ]
  },
  {
   "cell_type": "markdown",
   "metadata": {},
   "source": [
    "#### 生成原始数据"
   ]
  },
  {
   "cell_type": "code",
   "execution_count": 718,
   "metadata": {},
   "outputs": [
    {
     "data": {
      "image/png": "[encoded data removed]",
      "text/plain": [
       "<matplotlib.figure.Figure at 0x7f595083ecc0>"
      ]
     },
     "metadata": {},
     "output_type": "display_data"
    }
   ],
   "source": [
    "m = 10\n",
    "X = 6 * np.random.rand(m, 1) - 3 # x的取值范围\n",
    "X_square = np.square(X)\n",
    "y = X_square + np.random.rand(m, 1) + 2  #y = x^2 + 2 \n",
    "plt.plot(X, y, \"b.\")\n",
    "plt.xlabel('X')\n",
    "plt.ylabel('y')\n"
   ]
  },
  {
   "cell_type": "code",
   "execution_count": 710,
   "metadata": {},
   "outputs": [],
   "source": [
    "data = np.array([[ -2.95507616,  10.94533252],\n",
    "       [ -0.44226119,   2.96705822],\n",
    "       [ -2.13294087,   6.57336839],\n",
    "       [  1.84990823,   5.44244467],\n",
    "       [  0.35139795,   2.83533936],\n",
    "       [ -1.77443098,   5.6800407 ],\n",
    "       [ -1.8657203 ,   6.34470814],\n",
    "       [  1.61526823,   4.77833358],\n",
    "       [ -2.38043687,   8.51887713],\n",
    "       [ -1.40513866,   4.18262786]])"
   ]
  },
  {
   "cell_type": "code",
   "execution_count": 739,
   "metadata": {},
   "outputs": [
    {
     "data": {
      "image/png": "[encoded data removed]",
      "text/plain": [
       "<matplotlib.figure.Figure at 0x7f5950aca7b8>"
      ]
     },
     "metadata": {},
     "output_type": "display_data"
    }
   ],
   "source": [
    "m = data.shape[0]\n",
    "X = data[:, 0].reshape(-1, 1)  # 将array转换成矩阵\n",
    "y = data[:, 1].reshape(-1, 1)\n",
    "plt.plot(X, y, \"b.\")\n",
    "plt.xlabel('X')\n",
    "plt.ylabel('y')\n",
    "plt.savefig('regularization-1.png', dpi=200)"
   ]
  },
  {
   "cell_type": "markdown",
   "metadata": {},
   "source": [
    "### 1. 多项式回归"
   ]
  },
  {
   "cell_type": "markdown",
   "metadata": {},
   "source": [
    "#### 添加特征的平方或其他高次方作为训练集中的新特征(现在的模型中只有一个特征)"
   ]
  },
  {
   "cell_type": "markdown",
   "metadata": {},
   "source": [
    "#### 1.1 拟合直线方程"
   ]
  },
  {
   "cell_type": "code",
   "execution_count": 736,
   "metadata": {},
   "outputs": [
    {
     "name": "stdout",
     "output_type": "stream",
     "text": [
      "[ 4.97857827] [[-0.92810463]]\n"
     ]
    }
   ],
   "source": [
    "lin_reg = LinearRegression()\n",
    "lin_reg.fit(X, y)\n",
    "print(lin_reg.intercept_, lin_reg.coef_)"
   ]
  },
  {
   "cell_type": "code",
   "execution_count": 737,
   "metadata": {},
   "outputs": [
    {
     "data": {
      "image/png": "[encoded data removed]",
      "text/plain": [
       "<matplotlib.figure.Figure at 0x7f5950d01f98>"
      ]
     },
     "metadata": {},
     "output_type": "display_data"
    }
   ],
   "source": [
    "X_plot = np.linspace(-3, 3, 1000).reshape(-1, 1)\n",
    "y_plot = np.dot(X_plot, lin_reg.coef_.T) + lin_reg.intercept_\n",
    "plt.plot(X_plot, y_plot, 'r-')\n",
    "plt.plot(X, y, 'b.')\n",
    "plt.xlabel('X')\n",
    "plt.ylabel('y')\n",
    "# plt.axis([0, 2, 4, 12])\n",
    "plt.savefig('regu-2.png', dpi=200)"
   ]
  },
  {
   "cell_type": "code",
   "execution_count": 738,
   "metadata": {},
   "outputs": [
    {
     "name": "stdout",
     "output_type": "stream",
     "text": [
      "3.33630763328\n"
     ]
    }
   ],
   "source": [
    "h = np.dot(X, lin_reg.coef_.T) + lin_reg.intercept_\n",
    "loss = 1/m * np.sum(np.square(h - y))\n",
    "print(loss)"
   ]
  },
  {
   "cell_type": "code",
   "execution_count": 734,
   "metadata": {},
   "outputs": [
    {
     "data": {
      "text/plain": [
       "array([-2.95507616, -0.44226119, -2.13294087,  1.84990823,  0.35139795,\n",
       "       -1.77443098, -1.8657203 ,  1.61526823, -2.38043687, -1.40513866])"
      ]
     },
     "execution_count": 734,
     "metadata": {},
     "output_type": "execute_result"
    }
   ],
   "source": [
    "X"
   ]
  },
  {
   "cell_type": "code",
   "execution_count": 727,
   "metadata": {},
   "outputs": [
    {
     "data": {
      "text/plain": [
       "3.3363076332788486"
      ]
     },
     "execution_count": 727,
     "metadata": {},
     "output_type": "execute_result"
    }
   ],
   "source": [
    "mean_squared_error(h, y)"
   ]
  },
  {
   "cell_type": "markdown",
   "metadata": {},
   "source": [
    "#### 拟合线性方程，得到方程的参数"
   ]
  },
  {
   "cell_type": "code",
   "execution_count": 775,
   "metadata": {},
   "outputs": [
    {
     "name": "stdout",
     "output_type": "stream",
     "text": [
      "[[-2.95507616  8.73247511]\n",
      " [-0.44226119  0.19559496]\n",
      " [-2.13294087  4.54943675]\n",
      " [ 1.84990823  3.42216046]\n",
      " [ 0.35139795  0.12348052]\n",
      " [-1.77443098  3.1486053 ]\n",
      " [-1.8657203   3.48091224]\n",
      " [ 1.61526823  2.60909145]\n",
      " [-2.38043687  5.66647969]\n",
      " [-1.40513866  1.97441465]]\n"
     ]
    }
   ],
   "source": [
    "poly_features = PolynomialFeatures(degree=2, include_bias=False)\n",
    "X_poly = poly_features.fit_transform(X)\n",
    "print(X_poly)"
   ]
  },
  {
   "cell_type": "code",
   "execution_count": 776,
   "metadata": {},
   "outputs": [
    {
     "name": "stdout",
     "output_type": "stream",
     "text": [
      "[ 2.60996757] [[-0.12759678  0.9144504 ]]\n"
     ]
    }
   ],
   "source": [
    "lin_reg = LinearRegression()\n",
    "lin_reg.fit(X_poly, y)\n",
    "print(lin_reg.intercept_, lin_reg.coef_)"
   ]
  },
  {
   "cell_type": "code",
   "execution_count": 777,
   "metadata": {},
   "outputs": [
    {
     "data": {
      "text/plain": [
       "array([[-0.12759678],\n",
       "       [ 0.9144504 ]])"
      ]
     },
     "execution_count": 777,
     "metadata": {},
     "output_type": "execute_result"
    }
   ],
   "source": [
    "lin_reg.coef_.T  # 参数的次序与X中特征的次序对应"
   ]
  },
  {
   "cell_type": "code",
   "execution_count": 781,
   "metadata": {},
   "outputs": [
    {
     "data": {
      "image/png": "[encoded data removed]",
      "text/plain": [
       "<matplotlib.figure.Figure at 0x7f59514361d0>"
      ]
     },
     "metadata": {},
     "output_type": "display_data"
    }
   ],
   "source": [
    "X_plot = np.linspace(-3, 3, 1000).reshape(-1, 1)\n",
    "X_plot_poly = poly_features.fit_transform(X_plot)\n",
    "y_plot = np.dot(X_plot_poly, lin_reg.coef_.T) + lin_reg.intercept_\n",
    "plt.plot(X_plot, y_plot, 'r-')\n",
    "plt.plot(X, y, 'b.')\n",
    "plt.xlabel('X')\n",
    "plt.ylabel('y')\n",
    "plt.savefig('regu-3.png', dpi=200)\n",
    "# plt.show()"
   ]
  },
  {
   "cell_type": "code",
   "execution_count": 779,
   "metadata": {},
   "outputs": [
    {
     "data": {
      "text/plain": [
       "0.071285627890853312"
      ]
     },
     "execution_count": 779,
     "metadata": {},
     "output_type": "execute_result"
    }
   ],
   "source": [
    "h = np.dot(X_poly, lin_reg.coef_.T) + lin_reg.intercept_\n",
    "loss = mean_squared_error(h, y)\n",
    "loss"
   ]
  },
  {
   "cell_type": "markdown",
   "metadata": {},
   "source": [
    "### 2. 过拟合的情况"
   ]
  },
  {
   "cell_type": "markdown",
   "metadata": {},
   "source": [
    "- 增加自由度，可以增加模型对训练集的拟合度，减小训练误差。但是也会使得模型过于复杂，而降低了泛化能力(没有找到主要特征，过多的考虑了训练集中的特殊样本)"
   ]
  },
  {
   "cell_type": "code",
   "execution_count": 793,
   "metadata": {},
   "outputs": [],
   "source": [
    "# test different degree and return loss\n",
    "def try_degree(degree, X, y):\n",
    "    poly_features_d = PolynomialFeatures(degree=degree, include_bias=False)\n",
    "    X_poly_d = poly_features_d.fit_transform(X)\n",
    "    lin_reg_d = LinearRegression()\n",
    "    lin_reg_d.fit(X_poly_d, y)\n",
    "    return {'X_poly': X_poly_d, 'intercept': lin_reg_d.intercept_, 'coef': lin_reg_d.coef_}"
   ]
  },
  {
   "cell_type": "code",
   "execution_count": 796,
   "metadata": {},
   "outputs": [
    {
     "data": {
      "text/plain": [
       "[{'coef': array([[-0.12759678,  0.9144504 ]]),\n",
       "  'd': 2,\n",
       "  'intercept': array([ 2.60996757]),\n",
       "  'loss': 0.071285627890853312},\n",
       " {'coef': array([[-0.04617889,  0.87150599, -0.024364  ]]),\n",
       "  'd': 3,\n",
       "  'intercept': array([ 2.69998678]),\n",
       "  'loss': 0.06740483518108531},\n",
       " {'coef': array([[ 0.16202617,  0.95155089, -0.09202611, -0.02453635]]),\n",
       "  'd': 4,\n",
       "  'intercept': array([ 2.68377591]),\n",
       "  'loss': 0.063691676188497998},\n",
       " {'coef': array([[ 0.17611322,  0.66897657, -0.17015995,  0.05332395,  0.02479577]]),\n",
       "  'd': 5,\n",
       "  'intercept': array([ 2.77647113]),\n",
       "  'loss': 0.056610761171091525},\n",
       " {'coef': array([[-0.02889934,  0.61410552,  0.00647098,  0.10165042, -0.00924119,\n",
       "          -0.01043156]]),\n",
       "  'd': 6,\n",
       "  'intercept': array([ 2.78455089]),\n",
       "  'loss': 0.054742684505909064},\n",
       " {'coef': array([[-0.06281954,  0.43769404, -0.0029409 ,  0.20892074,  0.0115497 ,\n",
       "          -0.02725681, -0.00451347]]),\n",
       "  'd': 7,\n",
       "  'intercept': array([ 2.81132697]),\n",
       "  'loss': 0.054604054190623752},\n",
       " {'coef': array([[  0.46754242, -19.46546914, -14.49271341,  10.1799492 ,\n",
       "            9.56281691,  -0.29653723,  -1.57268731,  -0.2950674 ]]),\n",
       "  'd': 8,\n",
       "  'intercept': array([ 5.49847631]),\n",
       "  'loss': 0.01226847263147867},\n",
       " {'coef': array([[ -23.84159497,  218.34540088,  288.64171444,  -19.69660309,\n",
       "          -170.19348099,  -57.02305742,   19.37794674,   13.13592729,\n",
       "             1.84023797]]),\n",
       "  'd': 9,\n",
       "  'intercept': array([-26.96903007]),\n",
       "  'loss': 1.1708138500015587e-20},\n",
       " {'coef': array([[   4.25188075,   68.20222691,   -0.75211431, -110.16941899,\n",
       "           -39.05022805,   46.40595146,   26.01278464,   -3.48210413,\n",
       "            -4.28065389,   -0.66972354]]),\n",
       "  'd': 10,\n",
       "  'intercept': array([-5.26214787]),\n",
       "  'loss': 2.4830133845424784e-20},\n",
       " {'coef': array([[  0.7900162 ,  26.72083627,   4.33062978,  -7.65908434,\n",
       "           24.62696711,  12.33754429, -15.72302536,  -9.54076366,\n",
       "            1.42221981,   1.74521649,   0.27877112]]),\n",
       "  'd': 11,\n",
       "  'intercept': array([-0.95562816]),\n",
       "  'loss': 3.1080267005676934e-23},\n",
       " {'coef': array([[ 1.17159189,  8.60674192, -4.91798703, -4.18378115,  3.79426131,\n",
       "          -8.56026107, -6.94465715,  5.03891035,  4.08870088, -0.30369348,\n",
       "          -0.6635493 , -0.11314395]]),\n",
       "  'd': 12,\n",
       "  'intercept': array([ 1.63695924]),\n",
       "  'loss': 1.4774078801073514e-22},\n",
       " {'coef': array([[ 0.37444873,  3.55687397, -1.66339693,  0.97445295,  2.3125017 ,\n",
       "          -1.51618642,  2.63085094,  2.78565018, -1.88806677, -1.69359534,\n",
       "           0.11174765,  0.28237455,  0.04923694]]),\n",
       "  'd': 13,\n",
       "  'intercept': array([ 2.31014932]),\n",
       "  'loss': 4.5443122035857941e-23},\n",
       " {'coef': array([[ 0.14659842,  1.27861246, -1.15717952,  0.52076174, -0.1049295 ,\n",
       "          -1.10099946,  0.60845014, -0.98263321, -1.2822786 ,  0.72920254,\n",
       "           0.74987827, -0.03142607, -0.12180867, -0.02186554]]),\n",
       "  'd': 14,\n",
       "  'intercept': array([ 2.67074946]),\n",
       "  'loss': 6.2679000925566409e-22},\n",
       " {'coef': array([[-0.01847073,  0.57177983, -0.49702352,  0.48426242, -0.12216024,\n",
       "          -0.02325847,  0.51688814, -0.24914072,  0.39226139,  0.59401309,\n",
       "          -0.29836001, -0.34054467,  0.00850898,  0.05434344,  0.00996789]]),\n",
       "  'd': 15,\n",
       "  'intercept': array([ 2.7857781]),\n",
       "  'loss': 3.0890291708101528e-22},\n",
       " {'coef': array([[-0.08566604,  0.24392006, -0.27808631,  0.24677921, -0.20653356,\n",
       "           0.04205802,  0.02731139, -0.24342721,  0.11855557, -0.17108318,\n",
       "          -0.27263732,  0.14522959,  0.1623581 , -0.0054885 , -0.02673047,\n",
       "          -0.00488196]]),\n",
       "  'd': 16,\n",
       "  'intercept': array([ 2.84468969]),\n",
       "  'loss': 1.22651013796907e-20},\n",
       " {'coef': array([[-0.12129458,  0.12764151, -0.14875727,  0.15498212, -0.12733252,\n",
       "           0.1048776 , -0.01686775, -0.0157766 ,  0.12956279, -0.05750522,\n",
       "           0.09066855,  0.14809836, -0.06723531, -0.08261412,  0.00095404,\n",
       "           0.01285963,  0.00239274]]),\n",
       "  'd': 17,\n",
       "  'intercept': array([ 2.86678175]),\n",
       "  'loss': 7.8186299508966106e-19},\n",
       " {'coef': array([[-0.13861006,  0.06905868, -0.09310929,  0.08595053, -0.09070688,\n",
       "           0.07350319, -0.06018576,  0.01252684,  0.00848808, -0.06919692,\n",
       "           0.03595837, -0.04899305, -0.07421104,  0.04279746,  0.04479041,\n",
       "          -0.00213492, -0.00751296, -0.0013494 ]]),\n",
       "  'd': 18,\n",
       "  'intercept': array([ 2.8786345]),\n",
       "  'loss': 4.3689254172363286e-19},\n",
       " {'coef': array([[-0.14770736,  0.04459087, -0.06304224,  0.05441717, -0.0573554 ,\n",
       "           0.05756016, -0.04727963,  0.03888161, -0.00802462, -0.00442205,\n",
       "           0.0445782 , -0.02146703,  0.03306183,  0.04890217, -0.02349794,\n",
       "          -0.02673941,  0.00056449,  0.00412069,  0.00075085]]),\n",
       "  'd': 19,\n",
       "  'intercept': array([ 2.88386457]),\n",
       "  'loss': 6.274312542018394e-17}]"
      ]
     },
     "execution_count": 796,
     "metadata": {},
     "output_type": "execute_result"
    }
   ],
   "source": [
    "degree2loss_paras = []\n",
    "for i in range(2, 20):\n",
    "    paras = try_degree(i, X, y)\n",
    "    h = np.dot(paras['X_poly'], paras['coef'].T) + paras['intercept']\n",
    "    _loss = mean_squared_error(h, y)\n",
    "    degree2loss_paras.append({'d': i, 'loss': _loss, 'coef': paras['coef'], 'intercept': paras['intercept']})\n",
    "degree2loss_paras"
   ]
  },
  {
   "cell_type": "code",
   "execution_count": 797,
   "metadata": {},
   "outputs": [],
   "source": [
    "min_index = np.argmin(np.array([i['loss'] for i in degree2loss_paras]))"
   ]
  },
  {
   "cell_type": "code",
   "execution_count": 801,
   "metadata": {},
   "outputs": [
    {
     "data": {
      "text/plain": [
       "{'coef': array([[  0.7900162 ,  26.72083627,   4.33062978,  -7.65908434,\n",
       "          24.62696711,  12.33754429, -15.72302536,  -9.54076366,\n",
       "           1.42221981,   1.74521649,   0.27877112]]),\n",
       " 'd': 11,\n",
       " 'intercept': array([-0.95562816]),\n",
       " 'loss': 3.1080267005676934e-23}"
      ]
     },
     "execution_count": 801,
     "metadata": {},
     "output_type": "execute_result"
    }
   ],
   "source": [
    "min_loss_para = degree2loss_paras[min_index]\n",
    "min_loss_para"
   ]
  },
  {
   "cell_type": "code",
   "execution_count": 810,
   "metadata": {},
   "outputs": [
    {
     "data": {
      "image/png": "[encoded data removed]",
      "text/plain": [
       "<matplotlib.figure.Figure at 0x7f594f7907f0>"
      ]
     },
     "metadata": {},
     "output_type": "display_data"
    }
   ],
   "source": [
    "X_plot = np.linspace(-3, 1.9, 1000).reshape(-1, 1)\n",
    "poly_features_d = PolynomialFeatures(degree=min_loss_para['d'], include_bias=False)\n",
    "X_plot_poly = poly_features_d.fit_transform(X_plot)\n",
    "y_plot = np.dot(X_plot_poly, min_loss_para['coef'].T) + min_loss_para['intercept']\n",
    "fig, ax = plt.subplots(1, 1)\n",
    "ax.plot(X_plot, y_plot, 'r-', label='degree=11')\n",
    "ax.plot(X, y, 'b.', label='X')\n",
    "plt.xlabel('X')\n",
    "plt.ylabel('y')\n",
    "ax.legend(loc='best', frameon=False)\n",
    "plt.savefig('regu-4-overfitting.png', dpi=200)"
   ]
  },
  {
   "cell_type": "markdown",
   "metadata": {},
   "source": [
    "### 3. 正则化\n",
    "- 正则化项不包括截距项\n",
    "- 降低了模型的variance(降低方差，可预测性增加了)，但是增加了bias(增加bias，训练集中的误差增加了)\n",
    "- 最好先对数据进行缩放，然后再分析，[StandardScaler](http://scikit-learn.org/stable/modules/generated/sklearn.preprocessing.StandardScaler.html)"
   ]
  },
  {
   "cell_type": "markdown",
   "metadata": {},
   "source": [
    "#### 3.1 手动添加正则化项L2(Ridge Regression)"
   ]
  },
  {
   "cell_type": "code",
   "execution_count": 304,
   "metadata": {},
   "outputs": [],
   "source": [
    "# 代价函数\n",
    "def L_theta(theta, X_x0, y, lamb):\n",
    "    \"\"\"\n",
    "    lamb: lambda, the parameter of regularization\n",
    "    theta: (n+1)·1 matrix, contains the parameter of x0=1\n",
    "    X_x0: m·(n+1) matrix, plus x0\n",
    "    \"\"\"\n",
    "    delta = np.dot(X_x0, theta) - y  # np.dot 表示矩阵乘法\n",
    "    theta_without_t0 = theta[1:]\n",
    "    L_theta = np.sum(np.multiply(delta, delta)) + lamb * np.sum(np.square(theta_without_t0))\n",
    "    return L_theta"
   ]
  },
  {
   "cell_type": "code",
   "execution_count": 492,
   "metadata": {},
   "outputs": [],
   "source": [
    "# 梯度下降\n",
    "def GD(lamb, X_x0, theta, h, y, alpha):\n",
    "    \"\"\"\n",
    "    lamb: lambda, the parameter of regularization\n",
    "    alpha: learning rate\n",
    "    X_x0: m·(n+1), plus x0\n",
    "    theta: (n+1)·1 matrix, contains the parameter of x0=1\n",
    "    \"\"\"\n",
    "    for i in range(T):\n",
    "        h = np.dot(X_x0, theta)\n",
    "        theta_with_t0_0 = np.r_[np.zeros([1, 1]), theta[1:]]  # set theta[0] = 0\n",
    "        theta -= (alpha * 1/m * np.dot(X_x0.T, h - y) + 2*lamb*(theta_with_t0_0))  # add the gradient of regularization term\n",
    "        if i%1000==0:\n",
    "            print(L_theta(theta, X_x0, y, lamb))\n",
    "    return theta"
   ]
  },
  {
   "cell_type": "markdown",
   "metadata": {},
   "source": [
    "#### 设置参数\n",
    "- 迭代次数：T\n",
    "- 学习率：alpha\n",
    "- 正则化项参数：lamb"
   ]
  },
  {
   "cell_type": "code",
   "execution_count": 533,
   "metadata": {},
   "outputs": [],
   "source": [
    "T = 20000  # 迭代次数\n",
    "theta = np.ones((7, 1))  # 参数的初始化，degree = 6，一个7个参数\n",
    "alpha = 0.00001  # 学习率\n",
    "# alpha = 0.3  # 学习率\n",
    "lamb = 0.0001\n",
    "X_x0 = np.c_[np.ones((m, 1)), X_poly_d]  # ADD X0 = 1 to each instance\n",
    "scaler = StandardScaler()  # 在这里效果不好\n",
    "scaler.fit(X_x0)\n",
    "X_x0_scaled = scaler.transform(X_x0)"
   ]
  },
  {
   "cell_type": "code",
   "execution_count": 534,
   "metadata": {},
   "outputs": [
    {
     "name": "stdout",
     "output_type": "stream",
     "text": [
      "302896.207267\n",
      "83.0872223391\n",
      "41.2038138597\n",
      "25.2992480929\n",
      "19.5063944372\n",
      "18.1712074381\n",
      "18.616782411\n",
      "19.6131900927\n",
      "20.6326452052\n",
      "21.4788253406\n",
      "22.1045389173\n",
      "22.5239511702\n",
      "22.7717772726\n",
      "22.8854189847\n",
      "22.8980226895\n",
      "22.8365198491\n",
      "22.7217730267\n",
      "22.5694764751\n",
      "22.3912092588\n",
      "22.1953980686\n"
     ]
    }
   ],
   "source": [
    "theta = GD(lamb=lamb, X_x0=X_x0, theta=theta, h=h, y=y, alpha=alpha)"
   ]
  },
  {
   "cell_type": "code",
   "execution_count": 532,
   "metadata": {},
   "outputs": [
    {
     "data": {
      "image/png": "[encoded data removed]",
      "text/plain": [
       "<matplotlib.figure.Figure at 0x7f5950fc7e48>"
      ]
     },
     "metadata": {},
     "output_type": "display_data"
    }
   ],
   "source": [
    "X_plot = np.linspace(-2, 3, 1000).reshape(-1, 1)\n",
    "poly_features_d_with_bias = PolynomialFeatures(degree=degree, include_bias=True)\n",
    "X_plot_poly = poly_features_d_with_bias.fit_transform(X_plot)\n",
    "h = np.dot(X_plot_poly, theta)\n",
    "plt.plot(X_plot, h, 'r-')\n",
    "plt.plot(X, y, 'b.')\n",
    "# plt.axis([0, 2, 4, 12])\n",
    "plt.show()"
   ]
  },
  {
   "cell_type": "markdown",
   "metadata": {},
   "source": [
    "添加正则化项后，模型变简单了。此时拟合训练集的效果不是太好，但是鉴于我们的原始数据来源于一个2次方程，因此可预测性提高了很多。"
   ]
  },
  {
   "cell_type": "markdown",
   "metadata": {},
   "source": [
    "#### 3.2 手动添加正则化项L1(Lasso Regression)"
   ]
  },
  {
   "cell_type": "code",
   "execution_count": 371,
   "metadata": {},
   "outputs": [],
   "source": [
    "# 代价函数\n",
    "def L_theta(theta, X_x0, y, lamb):\n",
    "    \"\"\"\n",
    "    lamb: lambda, the parameter of regularization\n",
    "    theta: (n+1)·1 matrix, contains the parameter of x0=1\n",
    "    X_x0: m·(n+1) matrix, plus x0\n",
    "    \"\"\"\n",
    "    delta = np.dot(X_x0, theta) - y  # np.dot 表示矩阵乘法\n",
    "    theta_without_t0 = theta[1:]\n",
    "    L_theta = np.sum(np.multiply(delta, delta)) + lamb * np.sum(np.abs(theta_without_t0))\n",
    "    return L_theta"
   ]
  },
  {
   "cell_type": "code",
   "execution_count": 466,
   "metadata": {},
   "outputs": [],
   "source": [
    "# 梯度下降\n",
    "def GD(lamb, X_x0, theta, h, y, alpha):\n",
    "    \"\"\"\n",
    "    lamb: lambda, the parameter of regularization\n",
    "    alpha: learning rate\n",
    "    X_x0: m·(n+1), plus x0\n",
    "    theta: (n+1)·1 matrix, contains the parameter of x0=1\n",
    "    \"\"\"\n",
    "    for i in range(T):\n",
    "        h = np.dot(X_x0, theta)\n",
    "        theta_with_t0_0 = np.r_[np.zeros([1, 1]), theta[1:]]  # set theta[0] = 0\n",
    "        theta -= (alpha * 1/m * np.dot(X_x0.T, h - y) + 2*lamb*(np.sign(theta_with_t0_0)))  # add the gradient of regularization term\n",
    "        if i%500==0:\n",
    "            print(L_theta(theta, X_x0, y, lamb))\n",
    "    return theta"
   ]
  },
  {
   "cell_type": "code",
   "execution_count": 467,
   "metadata": {},
   "outputs": [],
   "source": [
    "T = 5000  # 迭代次数\n",
    "theta = np.ones((7, 1))  # 参数的初始化，degree = 6，一个7个参数\n",
    "alpha = 0.000009  # 学习率\n",
    "# alpha = 0.00006  # 学习率\n",
    "lamb = 0.0005\n",
    "# lamb = 0\n",
    "X_x0 = np.c_[np.ones((m, 1)), X_poly_d]  # ADD X0 = 1 to each instance"
   ]
  },
  {
   "cell_type": "code",
   "execution_count": 468,
   "metadata": {},
   "outputs": [
    {
     "name": "stdout",
     "output_type": "stream",
     "text": [
      "328512.352864\n",
      "72.981947636\n",
      "76.3312236883\n",
      "76.8537752732\n",
      "75.8975279013\n",
      "75.3005161114\n",
      "75.1893445166\n",
      "74.6921237772\n",
      "74.2004573087\n",
      "73.3798500707\n"
     ]
    }
   ],
   "source": [
    "theta = GD(lamb=lamb, X_x0=X_x0, theta=theta, h=h, y=y, alpha=alpha)"
   ]
  },
  {
   "cell_type": "code",
   "execution_count": 470,
   "metadata": {},
   "outputs": [
    {
     "data": {
      "image/png": "[encoded data removed]",
      "text/plain": [
       "<matplotlib.figure.Figure at 0x7f5951151470>"
      ]
     },
     "metadata": {},
     "output_type": "display_data"
    }
   ],
   "source": [
    "X_plot = np.linspace(-2, 3, 1000).reshape(-1, 1)\n",
    "poly_features_d_with_bias = PolynomialFeatures(degree=degree, include_bias=True)\n",
    "X_plot_poly = poly_features_d_with_bias.fit_transform(X_plot)\n",
    "h = np.dot(X_plot_poly, theta)\n",
    "plt.plot(X_plot, h, 'r-')\n",
    "plt.plot(X, y, 'b.')\n",
    "# plt.axis([0, 2, 4, 12])\n",
    "plt.show()"
   ]
  },
  {
   "cell_type": "markdown",
   "metadata": {},
   "source": [
    "相对于L2，L1得到的模型更简单，例如从[-1, 1]，模型几乎为一条直线"
   ]
  },
  {
   "cell_type": "markdown",
   "metadata": {},
   "source": [
    "#### 3.3 使用scikit-learn"
   ]
  },
  {
   "cell_type": "code",
   "execution_count": 535,
   "metadata": {},
   "outputs": [],
   "source": [
    "from sklearn.linear_model import Ridge\n",
    "from sklearn.linear_model import Lasso"
   ]
  },
  {
   "cell_type": "code",
   "execution_count": 686,
   "metadata": {},
   "outputs": [
    {
     "name": "stdout",
     "output_type": "stream",
     "text": [
      "[ 2.59478672] [[-0.04902659  0.26042036 -0.23702338  0.29897876  0.05311254 -0.03453569]]\n"
     ]
    }
   ],
   "source": [
    "lamb = 1.6\n",
    "ridge_reg = Ridge(alpha=lamb, solver=\"cholesky\")\n",
    "ridge_reg.fit(X_poly_d, y)\n",
    "print(ridge_reg.intercept_, ridge_reg.coef_)"
   ]
  },
  {
   "cell_type": "code",
   "execution_count": 693,
   "metadata": {},
   "outputs": [
    {
     "data": {
      "image/png": "[encoded data removed]",
      "text/plain": [
       "<matplotlib.figure.Figure at 0x7f59508cbd68>"
      ]
     },
     "metadata": {},
     "output_type": "display_data"
    }
   ],
   "source": [
    "X_plot = np.linspace(-2, 3, 1000).reshape(-1, 1)\n",
    "X_plot_poly = poly_features_d.fit_transform(X_plot)\n",
    "h = np.dot(X_plot_poly, ridge_reg.coef_.T) + ridge_reg.intercept_\n",
    "plt.plot(X_plot, h, 'r-')\n",
    "plt.plot(X, y, 'b.')\n",
    "# plt.axis([0, 2, 4, 12])\n",
    "plt.show()"
   ]
  },
  {
   "cell_type": "code",
   "execution_count": 702,
   "metadata": {},
   "outputs": [
    {
     "name": "stdout",
     "output_type": "stream",
     "text": [
      "[ 2.55781484] [ -0.00000000e+00   6.96484351e-01  -6.09526869e-04   8.04357638e-02\n",
      "  -1.02238538e-02  -2.19458372e-03]\n"
     ]
    },
    {
     "name": "stderr",
     "output_type": "stream",
     "text": [
      "/opt/conda/lib/python3.6/site-packages/sklearn/linear_model/coordinate_descent.py:491: ConvergenceWarning: Objective did not converge. You might want to increase the number of iterations. Fitting data with very small alpha may cause precision problems.\n",
      "  ConvergenceWarning)\n"
     ]
    }
   ],
   "source": [
    "lamb = 0.05\n",
    "lasso_reg = Lasso(alpha=lamb)\n",
    "lasso_reg.fit(X_poly_d, y)\n",
    "print(lasso_reg.intercept_, lasso_reg.coef_)"
   ]
  },
  {
   "cell_type": "code",
   "execution_count": 705,
   "metadata": {},
   "outputs": [
    {
     "data": {
      "image/png": "[encoded data removed]",
      "text/plain": [
       "<matplotlib.figure.Figure at 0x7f5950fdb4e0>"
      ]
     },
     "metadata": {},
     "output_type": "display_data"
    }
   ],
   "source": [
    "X_plot = np.linspace(-2, 3, 1000).reshape(-1, 1)\n",
    "X_plot_poly = poly_features_d.fit_transform(X_plot)\n",
    "h = np.dot(X_plot_poly, lasso_reg.coef_.T) + lasso_reg.intercept_\n",
    "plt.plot(X_plot, h, 'r-')\n",
    "plt.plot(X, y, 'b.')\n",
    "# plt.axis([0, 2, 4, 12])\n",
    "plt.show()"
   ]
  },
  {
   "cell_type": "markdown",
   "metadata": {},
   "source": [
    "### 4. 使用交叉验证选择正则化的参数\n",
    "- 使用Leave One Out进行交叉验证"
   ]
  },
  {
   "cell_type": "markdown",
   "metadata": {},
   "source": [
    "#### 4.1 挑选L2正则化参数"
   ]
  },
  {
   "cell_type": "code",
   "execution_count": 650,
   "metadata": {},
   "outputs": [],
   "source": [
    "def get_total_loss(X, y, lamb, degree):\n",
    "    loo = LeaveOneOut()\n",
    "    loss = []\n",
    "    poly_features = PolynomialFeatures(degree=degree, include_bias=False)\n",
    "    train_poly = poly_features.fit_transform(X)\n",
    "    for train, test in loo.split(X):  # 利用LOO拆分训练样本和测试样本\n",
    "#         print(\"%s %s\" % (train, test))\n",
    "        ridge_reg = Ridge(alpha=lamb, solver=\"cholesky\")\n",
    "        ridge_reg.fit(train_poly[train], y[train])  # ridge regression training\n",
    "        loss.append(ridge_reg.predict(train_poly[test]) - y[test])  # save all loss for each test\n",
    "    return 1/(len(loss)) * np.sum(np.square(np.array(loss)))  # use MSE function to return the total loss"
   ]
  },
  {
   "cell_type": "code",
   "execution_count": 651,
   "metadata": {},
   "outputs": [
    {
     "data": {
      "text/plain": [
       "8.6488904041042289"
      ]
     },
     "execution_count": 651,
     "metadata": {},
     "output_type": "execute_result"
    }
   ],
   "source": [
    "get_total_loss(X, y, 10, 6)"
   ]
  },
  {
   "cell_type": "code",
   "execution_count": 670,
   "metadata": {},
   "outputs": [
    {
     "data": {
      "text/plain": [
       "array([  1.00000000e-06,   1.00000000e-05,   1.00000000e-04,\n",
       "         1.00000000e-03,   1.00000000e-02,   1.00000000e-01,\n",
       "         1.00000000e+00,   1.00000000e+01,   1.00000000e+02,\n",
       "         1.00000000e+03])"
      ]
     },
     "execution_count": 670,
     "metadata": {},
     "output_type": "execute_result"
    }
   ],
   "source": [
    "lamb_range = np.geomspace(1e-6, 1e4, 10, endpoint=False)\n",
    "lamb_range"
   ]
  },
  {
   "cell_type": "code",
   "execution_count": 671,
   "metadata": {},
   "outputs": [
    {
     "data": {
      "text/plain": [
       "[6165.1977840431437,\n",
       " 6106.9792582824512,\n",
       " 5572.8957138809246,\n",
       " 2823.1119130962711,\n",
       " 435.989958262394,\n",
       " 75.493993236452013,\n",
       " 2.2905174737627618,\n",
       " 8.6488904041042289,\n",
       " 16.555684177445496,\n",
       " 15.019319482896421]"
      ]
     },
     "execution_count": 671,
     "metadata": {},
     "output_type": "execute_result"
    }
   ],
   "source": [
    "loss_score = []\n",
    "for lamb in lamb_range:\n",
    "    loss = get_total_loss(X, y, lamb, 6)\n",
    "    loss_score.append(loss)\n",
    "loss_score"
   ]
  },
  {
   "cell_type": "code",
   "execution_count": 672,
   "metadata": {},
   "outputs": [
    {
     "data": {
      "text/plain": [
       "6"
      ]
     },
     "execution_count": 672,
     "metadata": {},
     "output_type": "execute_result"
    }
   ],
   "source": [
    "np.argmin(np.array(loss_score))"
   ]
  },
  {
   "cell_type": "markdown",
   "metadata": {},
   "source": [
    "#### 精选"
   ]
  },
  {
   "cell_type": "code",
   "execution_count": 690,
   "metadata": {},
   "outputs": [
    {
     "data": {
      "text/plain": [
       "array([ 1.  ,  1.05,  1.1 ,  1.15,  1.2 ,  1.25,  1.3 ,  1.35,  1.4 ,\n",
       "        1.45,  1.5 ,  1.55,  1.6 ,  1.65,  1.7 ,  1.75,  1.8 ,  1.85,\n",
       "        1.9 ,  1.95])"
      ]
     },
     "execution_count": 690,
     "metadata": {},
     "output_type": "execute_result"
    }
   ],
   "source": [
    "lamb_range = np.linspace(1, 2, 20, endpoint=False)\n",
    "lamb_range"
   ]
  },
  {
   "cell_type": "code",
   "execution_count": 691,
   "metadata": {},
   "outputs": [
    {
     "data": {
      "text/plain": [
       "[2.2905174737627618,\n",
       " 1.934283047610694,\n",
       " 1.6304663747425003,\n",
       " 1.3718151129634721,\n",
       " 1.1522541593829139,\n",
       " 0.9666635430804954,\n",
       " 0.81070395425828501,\n",
       " 0.68067850765112392,\n",
       " 0.57342234048114071,\n",
       " 0.48621378764122547,\n",
       " 0.41670242492888532,\n",
       " 0.36285040236193611,\n",
       " 0.32288432524091998,\n",
       " 0.29525556373908429,\n",
       " 0.27860734080268107,\n",
       " 0.27174730412942932,\n",
       " 0.27362456030731847,\n",
       " 0.28331035911669888,\n",
       " 0.29998177891211963,\n",
       " 0.32290789129722297]"
      ]
     },
     "execution_count": 691,
     "metadata": {},
     "output_type": "execute_result"
    }
   ],
   "source": [
    "loss_score = []\n",
    "for lamb in lamb_range:\n",
    "    loss = get_total_loss(X, y, lamb, 6)\n",
    "    loss_score.append(loss)\n",
    "loss_score"
   ]
  },
  {
   "cell_type": "markdown",
   "metadata": {},
   "source": [
    "#### 4.2 挑选L1的参数"
   ]
  },
  {
   "cell_type": "code",
   "execution_count": 694,
   "metadata": {},
   "outputs": [],
   "source": [
    "def get_total_loss_l1(X, y, lamb, degree):\n",
    "    loo = LeaveOneOut()\n",
    "    loss = []\n",
    "    poly_features = PolynomialFeatures(degree=degree, include_bias=False)\n",
    "    train_poly = poly_features.fit_transform(X)\n",
    "    for train, test in loo.split(X):  # 利用LOO拆分训练样本和测试样本\n",
    "#         print(\"%s %s\" % (train, test))\n",
    "        lasso_reg = Lasso(alpha=lamb)\n",
    "        lasso_reg.fit(train_poly[train], y[train])  # ridge regression training\n",
    "        loss.append(lasso_reg.predict(train_poly[test]) - y[test])  # save all loss for each test\n",
    "    return 1/(len(loss)) * np.sum(np.square(np.array(loss)))  # use MSE function to return the total loss"
   ]
  },
  {
   "cell_type": "code",
   "execution_count": 696,
   "metadata": {},
   "outputs": [
    {
     "data": {
      "text/plain": [
       "array([  1.00000000e-06,   1.00000000e-05,   1.00000000e-04,\n",
       "         1.00000000e-03,   1.00000000e-02,   1.00000000e-01,\n",
       "         1.00000000e+00,   1.00000000e+01,   1.00000000e+02,\n",
       "         1.00000000e+03])"
      ]
     },
     "execution_count": 696,
     "metadata": {},
     "output_type": "execute_result"
    }
   ],
   "source": [
    "lamb_range = np.geomspace(1e-6, 1e4, 10, endpoint=False)\n",
    "lamb_range"
   ]
  },
  {
   "cell_type": "code",
   "execution_count": 697,
   "metadata": {},
   "outputs": [
    {
     "name": "stderr",
     "output_type": "stream",
     "text": [
      "/opt/conda/lib/python3.6/site-packages/sklearn/linear_model/coordinate_descent.py:491: ConvergenceWarning: Objective did not converge. You might want to increase the number of iterations. Fitting data with very small alpha may cause precision problems.\n",
      "  ConvergenceWarning)\n"
     ]
    },
    {
     "data": {
      "text/plain": [
       "[13.413478163094277,\n",
       " 13.421595669512136,\n",
       " 13.50168413473677,\n",
       " 14.175100973357434,\n",
       " 11.212735136541628,\n",
       " 2.6315153336564099,\n",
       " 19.291006121691286,\n",
       " 14.20434357849936,\n",
       " 6.2803410039781653,\n",
       " 7.7536847070217121]"
      ]
     },
     "execution_count": 697,
     "metadata": {},
     "output_type": "execute_result"
    }
   ],
   "source": [
    "loss_score = []\n",
    "for lamb in lamb_range:\n",
    "    loss = get_total_loss_l1(X, y, lamb, 6)\n",
    "    loss_score.append(loss)\n",
    "loss_score"
   ]
  },
  {
   "cell_type": "code",
   "execution_count": 699,
   "metadata": {},
   "outputs": [
    {
     "data": {
      "text/plain": [
       "array([ 0.01      ,  0.01258925,  0.01584893,  0.01995262,  0.02511886,\n",
       "        0.03162278,  0.03981072,  0.05011872,  0.06309573,  0.07943282,\n",
       "        0.1       ,  0.12589254,  0.15848932,  0.19952623,  0.25118864,\n",
       "        0.31622777,  0.39810717,  0.50118723,  0.63095734,  0.79432823])"
      ]
     },
     "execution_count": 699,
     "metadata": {},
     "output_type": "execute_result"
    }
   ],
   "source": [
    "lamb_range = np.geomspace(1e-2, 1, 20, endpoint=False)\n",
    "lamb_range"
   ]
  },
  {
   "cell_type": "code",
   "execution_count": 700,
   "metadata": {},
   "outputs": [
    {
     "name": "stderr",
     "output_type": "stream",
     "text": [
      "/opt/conda/lib/python3.6/site-packages/sklearn/linear_model/coordinate_descent.py:491: ConvergenceWarning: Objective did not converge. You might want to increase the number of iterations. Fitting data with very small alpha may cause precision problems.\n",
      "  ConvergenceWarning)\n"
     ]
    },
    {
     "data": {
      "text/plain": [
       "[11.212735136541628,\n",
       " 8.0142388008260692,\n",
       " 4.7993103447494105,\n",
       " 3.7711627687692331,\n",
       " 2.8260383275820047,\n",
       " 1.9415039118674546,\n",
       " 0.91536773983497666,\n",
       " 0.35163756430489723,\n",
       " 0.43676266887321091,\n",
       " 1.4471856052743488,\n",
       " 2.6315153336564099,\n",
       " 2.6775674363856599,\n",
       " 1.510492366344435,\n",
       " 4.6128639934993032,\n",
       " 19.149903017828965,\n",
       " 19.412001602416332,\n",
       " 19.687860081862084,\n",
       " 19.616452902183351,\n",
       " 19.528473213236072,\n",
       " 19.421106984010173]"
      ]
     },
     "execution_count": 700,
     "metadata": {},
     "output_type": "execute_result"
    }
   ],
   "source": [
    "loss_score = []\n",
    "for lamb in lamb_range:\n",
    "    loss = get_total_loss_l1(X, y, lamb, 6)\n",
    "    loss_score.append(loss)\n",
    "loss_score"
   ]
  },
  {
   "cell_type": "code",
   "execution_count": 701,
   "metadata": {},
   "outputs": [
    {
     "data": {
      "text/plain": [
       "7"
      ]
     },
     "execution_count": 701,
     "metadata": {},
     "output_type": "execute_result"
    }
   ],
   "source": [
    "np.argmin(loss_score)"
   ]
  },
  {
   "cell_type": "markdown",
   "metadata": {},
   "source": [
    "### Reference"
   ]
  },
  {
   "cell_type": "markdown",
   "metadata": {},
   "source": [
    "- http://enhancedatascience.com/2017/07/04/machine-learning-explained-regularization/\n",
    "- https://www.youtube.com/watch?v=TmzzQoO8mr4 (cost函数的作用，L1与L2的解，L1的解不稳定)"
   ]
  },
  {
   "cell_type": "code",
   "execution_count": null,
   "metadata": {},
   "outputs": [],
   "source": []
  }
 ],
 "metadata": {
  "kernelspec": {
   "display_name": "Python 3",
   "language": "python",
   "name": "python3"
  },
  "language_info": {
   "codemirror_mode": {
    "name": "ipython",
    "version": 3
   },
   "file_extension": ".py",
   "mimetype": "text/x-python",
   "name": "python",
   "nbconvert_exporter": "python",
   "pygments_lexer": "ipython3",
   "version": "3.6.3"
  }
 },
 "nbformat": 4,
 "nbformat_minor": 2
}
