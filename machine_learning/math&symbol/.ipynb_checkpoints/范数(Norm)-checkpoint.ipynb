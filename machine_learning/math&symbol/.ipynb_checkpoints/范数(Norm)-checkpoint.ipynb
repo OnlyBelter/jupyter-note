{
 "cells": [
  {
   "cell_type": "markdown",
   "metadata": {},
   "source": [
    "## n维空间中的距离\n",
    "- 向量的长度\n",
    "- 两点之间距离的度量 - 范数距离\n",
    "\n",
    "20180303"
   ]
  },
  {
   "cell_type": "markdown",
   "metadata": {},
   "source": [
    "### 1. 简介"
   ]
  },
  {
   "cell_type": "markdown",
   "metadata": {},
   "source": [
    "- wiki\n",
    "\n",
    "In linear algebra, functional analysis, and related areas of mathematics, a **norm** is a function that assigns a strictly positive length or size to each vector in a vector space(向量空间)—save for the zero vector, which is assigned a length of zero. A **seminorm(半范数)**, on the other hand, is allowed to assign zero length to some non-zero vectors (in addition to the zero vector).\n",
    "\n",
    "A norm must also satisfy certain properties pertaining to scalability and additivity which are given in the formal definition below.\n",
    "\n",
    "A simple example is two dimensional Euclidean space $R^2$ equipped with the \"Euclidean norm\" (see below) Elements in this vector space (e.g., (3, 7)) are usually drawn as arrows in a 2-dimensional cartesian coordinate(笛卡尔坐标系) system starting at the origin (0, 0). The Euclidean norm assigns to each vector the length of its arrow. Because of this, the Euclidean norm is often known as the magnitude.\n",
    "\n",
    "A vector space on which a norm is defined is called a normed vector space(赋范线性空间). Similarly, a vector space with a seminorm is called a seminormed vector space. It is often possible to supply a norm for a given vector space in more than one way.\n",
    "\n",
    "- 补充\n",
    "\n",
    "我们知道距离的定义是一个宽泛的概念，只要满足非负、自反、三角不等式就可以称之为距离。范数是一种强化了的距离概念，它在定义上比距离多了一条数乘的运算法则。有时候为了便于理解，我们可以把范数当作距离来理解。\n",
    "\n",
    "在数学上，范数包括向量范数和矩阵范数，向量范数表征向量空间中向量的大小，矩阵范数表征矩阵引起变化的大小。一种非严密的解释就是，对应向量范数，向量空间中的向量都是有大小的，这个大小如何度量，就是用范数来度量的，不同的范数都可以来度量这个大小，就好比米和尺都可以来度量远近一样；对于矩阵范数，学过线性代数，我们知道，通过运算AX=B，可以将向量X变化为B，矩阵范数就是来度量这个变化大小的。"
   ]
  },
  {
   "cell_type": "markdown",
   "metadata": {},
   "source": [
    "### 2. 定义"
   ]
  },
  {
   "cell_type": "markdown",
   "metadata": {},
   "source": [
    "Given a vector space $V$ over a subfield $F$ of the complex numbers, a norm on V is a function $p: V \\to \\mathbb{ R }$(该向量空间中所有向量到实数的映射) with the following properties:\n",
    "\n",
    "For all a ∈ F and all u, v ∈ V,\n",
    "\n",
    "1. p(av) = |a| p(v) (being absolutely homogeneous(绝对均匀) or absolutely scalable).\n",
    "2. p(u + v) ≤ p(u) + p(v) (being subadditive or satisfying the triangle inequality(三角不等式)).\n",
    "3. p(v) ≥ 0 (being positive or more precisely non-negative(非负性)).\n",
    "4. If p(v) = 0 then v=0 is the zero vector (being definite or being point-separating).\n"
   ]
  },
  {
   "cell_type": "markdown",
   "metadata": {},
   "source": [
    "### 3. Lp 范数"
   ]
  },
  {
   "cell_type": "markdown",
   "metadata": {},
   "source": [
    "- 在$n$维空间中的所有分量的p次方求和，再开p次方根\n",
    "\n",
    "${\\displaystyle \\left\\|x\\right\\|_{p}=\\left(|x_{1}|^{p}+|x_{2}|^{p}+\\dotsb +|x_{n}|^{p}\\right)^{\\frac {1}{p}}.} $\n"
   ]
  },
  {
   "cell_type": "markdown",
   "metadata": {},
   "source": [
    "### 4. L2范数(欧几里得范数)"
   ]
  },
  {
   "cell_type": "markdown",
   "metadata": {},
   "source": [
    "这是我们在机器学习中使用的最多的范数，就是我们常说的欧氏距离，n维空间中的L2范数计算方法如下：\n",
    "\n",
    "${\\displaystyle \\left\\|x\\right\\|_{2}=\\left({x_{1}}^{2}+{x_{2}}^{2}+\\dotsb +{x_{n}}^{2}\\right)^{\\frac {1}{2}} = \\sqrt{\\sum_{i=1}^{n}{x_i^2}}} $\n",
    "\n",
    "根据L2范数的定义，常见的代价函数均方误差函数(MSE)也可以写成下面的形式：\n",
    "\n",
    "$L(\\theta) = MSE(\\theta) = \\frac{1}{m}\\sum_{i=1}^{m}{(\\hat{y}^{(i)} - y^{(i)})^2} = \\frac{1}{m} \\sum_{i=1}^{m} {(\\theta^T \\cdot x^{(i)} - y^{(i)})^2} = \\frac{1}{m} ||X \\cdot \\theta - y||_2^2$\n",
    "\n",
    "- m表示训练集中样本的数量"
   ]
  },
  {
   "cell_type": "markdown",
   "metadata": {},
   "source": [
    "上面的式子不仅仅是简化了MSE函数的表示形式，也是从另一个不同的角度来看待预测值与实际值之间的误差的方式。如果训练集中有m个样本点，那么等式中最右边的式子表示整个预测值(可以看做m维向量)与全部真实观察值(也就是训练集中的标签，同样是一个m维的向量)之间的L2范数的平方，再除以m。这样就**把全部预测值和全部观察值当做了m维向量空间中的两个点**了。\n",
    "\n",
    "- 太有意思了，这是2018年以来的最大发现了！三维空间中的1个点可以用二维平面上的三个点来表示；二维平面上的m个点，可以用m维空间中的一个点来表示！"
   ]
  },
  {
   "cell_type": "markdown",
   "metadata": {},
   "source": [
    "### 5. 二维空间下的不同范数单位圆"
   ]
  },
  {
   "cell_type": "markdown",
   "metadata": {},
   "source": [
    "- 可以在这里自己画：https://www.geogebra.org/graphing\n",
    "  - $l_{2/3}-norm$ 单位圆: `nroot(x^(2 / 3) + y^(2 / 3),2 / 3) = 1` \n",
    "\n",
    "- from wiki\n",
    "\n",
    "![](https://upload.wikimedia.org/wikipedia/commons/d/d4/Vector-p-Norms_qtl1.svg)"
   ]
  },
  {
   "cell_type": "markdown",
   "metadata": {},
   "source": [
    "### Reference\n",
    "\n",
    "https://zh.wikipedia.org/wiki/%E8%8C%83%E6%95%B0\n",
    "\n",
    "https://en.wikipedia.org/wiki/Norm_(mathematics)\n",
    "\n",
    "http://blog.csdn.net/shijing_0214/article/details/51757564\n"
   ]
  },
  {
   "cell_type": "markdown",
   "metadata": {},
   "source": [
    "### 6. 范数的计算"
   ]
  },
  {
   "cell_type": "markdown",
   "metadata": {},
   "source": [
    "#### 6.1 myself "
   ]
  },
  {
   "cell_type": "code",
   "execution_count": 1,
   "metadata": {},
   "outputs": [],
   "source": [
    "import numpy as np"
   ]
  },
  {
   "cell_type": "code",
   "execution_count": 2,
   "metadata": {},
   "outputs": [],
   "source": [
    "a = np.array([3, 4])\n",
    "b = np.array([5, 6])"
   ]
  },
  {
   "cell_type": "code",
   "execution_count": 3,
   "metadata": {},
   "outputs": [
    {
     "data": {
      "text/plain": [
       "2.8284271247461903"
      ]
     },
     "execution_count": 3,
     "metadata": {},
     "output_type": "execute_result"
    }
   ],
   "source": [
    "np.sqrt(np.sum(np.square(a - b)))"
   ]
  },
  {
   "cell_type": "markdown",
   "metadata": {},
   "source": [
    "#### 6.2 sk-learn\n",
    "- http://scikit-learn.org/stable/modules/generated/sklearn.metrics.pairwise.euclidean_distances.html"
   ]
  },
  {
   "cell_type": "code",
   "execution_count": 4,
   "metadata": {},
   "outputs": [],
   "source": [
    "from sklearn.metrics.pairwise import euclidean_distances"
   ]
  },
  {
   "cell_type": "code",
   "execution_count": 5,
   "metadata": {},
   "outputs": [
    {
     "data": {
      "text/plain": [
       "array([[ 2.82842712]])"
      ]
     },
     "execution_count": 5,
     "metadata": {},
     "output_type": "execute_result"
    }
   ],
   "source": [
    "euclidean_distances(a.reshape(1,-1), b.reshape(1,-1))"
   ]
  },
  {
   "cell_type": "code",
   "execution_count": 6,
   "metadata": {},
   "outputs": [
    {
     "data": {
      "text/plain": [
       "\u001b[0;31mDocstring:\u001b[0m\n",
       "randint(low, high=None, size=None, dtype='l')\n",
       "\n",
       "Return random integers from `low` (inclusive) to `high` (exclusive).\n",
       "\n",
       "Return random integers from the \"discrete uniform\" distribution of\n",
       "the specified dtype in the \"half-open\" interval [`low`, `high`). If\n",
       "`high` is None (the default), then results are from [0, `low`).\n",
       "\n",
       "Parameters\n",
       "----------\n",
       "low : int\n",
       "    Lowest (signed) integer to be drawn from the distribution (unless\n",
       "    ``high=None``, in which case this parameter is one above the\n",
       "    *highest* such integer).\n",
       "high : int, optional\n",
       "    If provided, one above the largest (signed) integer to be drawn\n",
       "    from the distribution (see above for behavior if ``high=None``).\n",
       "size : int or tuple of ints, optional\n",
       "    Output shape.  If the given shape is, e.g., ``(m, n, k)``, then\n",
       "    ``m * n * k`` samples are drawn.  Default is None, in which case a\n",
       "    single value is returned.\n",
       "dtype : dtype, optional\n",
       "    Desired dtype of the result. All dtypes are determined by their\n",
       "    name, i.e., 'int64', 'int', etc, so byteorder is not available\n",
       "    and a specific precision may have different C types depending\n",
       "    on the platform. The default value is 'np.int'.\n",
       "\n",
       "    .. versionadded:: 1.11.0\n",
       "\n",
       "Returns\n",
       "-------\n",
       "out : int or ndarray of ints\n",
       "    `size`-shaped array of random integers from the appropriate\n",
       "    distribution, or a single such random int if `size` not provided.\n",
       "\n",
       "See Also\n",
       "--------\n",
       "random.random_integers : similar to `randint`, only for the closed\n",
       "    interval [`low`, `high`], and 1 is the lowest value if `high` is\n",
       "    omitted. In particular, this other one is the one to use to generate\n",
       "    uniformly distributed discrete non-integers.\n",
       "\n",
       "Examples\n",
       "--------\n",
       ">>> np.random.randint(2, size=10)\n",
       "array([1, 0, 0, 0, 1, 1, 0, 0, 1, 0])\n",
       ">>> np.random.randint(1, size=10)\n",
       "array([0, 0, 0, 0, 0, 0, 0, 0, 0, 0])\n",
       "\n",
       "Generate a 2 x 4 array of ints between 0 and 4, inclusive:\n",
       "\n",
       ">>> np.random.randint(5, size=(2, 4))\n",
       "array([[4, 0, 2, 1],\n",
       "       [3, 2, 2, 0]])\n",
       "\u001b[0;31mType:\u001b[0m      builtin_function_or_method\n"
      ]
     },
     "metadata": {},
     "output_type": "display_data"
    }
   ],
   "source": [
    "np.random.randint?"
   ]
  },
  {
   "cell_type": "code",
   "execution_count": 7,
   "metadata": {},
   "outputs": [
    {
     "name": "stdout",
     "output_type": "stream",
     "text": [
      "[[0 2]\n",
      " [5 8]\n",
      " [0 2]]\n"
     ]
    }
   ],
   "source": [
    "a2 = np.random.randint(10, size=(3, 2))\n",
    "# b2 = np.random.randint(10, size=(3, 2))\n",
    "print(a2)\n",
    "a2_dis = euclidean_distances(a2, a2)"
   ]
  },
  {
   "cell_type": "code",
   "execution_count": 8,
   "metadata": {},
   "outputs": [],
   "source": [
    "import pandas as pd"
   ]
  },
  {
   "cell_type": "code",
   "execution_count": 9,
   "metadata": {},
   "outputs": [
    {
     "data": {
      "text/html": [
       "<div>\n",
       "<style scoped>\n",
       "    .dataframe tbody tr th:only-of-type {\n",
       "        vertical-align: middle;\n",
       "    }\n",
       "\n",
       "    .dataframe tbody tr th {\n",
       "        vertical-align: top;\n",
       "    }\n",
       "\n",
       "    .dataframe thead th {\n",
       "        text-align: right;\n",
       "    }\n",
       "</style>\n",
       "<table border=\"1\" class=\"dataframe\">\n",
       "  <thead>\n",
       "    <tr style=\"text-align: right;\">\n",
       "      <th></th>\n",
       "      <th>a</th>\n",
       "      <th>b</th>\n",
       "      <th>c</th>\n",
       "    </tr>\n",
       "  </thead>\n",
       "  <tbody>\n",
       "    <tr>\n",
       "      <th>a</th>\n",
       "      <td>0.00000</td>\n",
       "      <td>7.81025</td>\n",
       "      <td>0.00000</td>\n",
       "    </tr>\n",
       "    <tr>\n",
       "      <th>b</th>\n",
       "      <td>7.81025</td>\n",
       "      <td>0.00000</td>\n",
       "      <td>7.81025</td>\n",
       "    </tr>\n",
       "    <tr>\n",
       "      <th>c</th>\n",
       "      <td>0.00000</td>\n",
       "      <td>7.81025</td>\n",
       "      <td>0.00000</td>\n",
       "    </tr>\n",
       "  </tbody>\n",
       "</table>\n",
       "</div>"
      ],
      "text/plain": [
       "         a        b        c\n",
       "a  0.00000  7.81025  0.00000\n",
       "b  7.81025  0.00000  7.81025\n",
       "c  0.00000  7.81025  0.00000"
      ]
     },
     "execution_count": 9,
     "metadata": {},
     "output_type": "execute_result"
    }
   ],
   "source": [
    "pd.DataFrame(data=a2_dis, columns=['a', 'b', 'c'], index=['a', 'b', 'c'])"
   ]
  },
  {
   "cell_type": "markdown",
   "metadata": {},
   "source": [
    "#### 6.3 scipy\n",
    "- https://docs.scipy.org/doc/scipy/reference/generated/scipy.spatial.distance.euclidean.html"
   ]
  },
  {
   "cell_type": "code",
   "execution_count": 10,
   "metadata": {},
   "outputs": [],
   "source": [
    "from scipy.spatial import distance"
   ]
  },
  {
   "cell_type": "code",
   "execution_count": 11,
   "metadata": {},
   "outputs": [
    {
     "data": {
      "text/plain": [
       "2.8284271247461903"
      ]
     },
     "execution_count": 11,
     "metadata": {},
     "output_type": "execute_result"
    }
   ],
   "source": [
    "distance.euclidean(a.reshape(1,-1), b.reshape(1,-1))"
   ]
  },
  {
   "cell_type": "markdown",
   "metadata": {},
   "source": [
    "#### 6.4 numpy\n",
    "- https://docs.scipy.org/doc/numpy/reference/generated/numpy.linalg.norm.html"
   ]
  },
  {
   "cell_type": "code",
   "execution_count": 12,
   "metadata": {},
   "outputs": [],
   "source": [
    "from numpy import linalg as LA"
   ]
  },
  {
   "cell_type": "code",
   "execution_count": 13,
   "metadata": {},
   "outputs": [
    {
     "data": {
      "text/plain": [
       "2.8284271247461903"
      ]
     },
     "execution_count": 13,
     "metadata": {},
     "output_type": "execute_result"
    }
   ],
   "source": [
    "LA.norm(a-b, 2)"
   ]
  },
  {
   "cell_type": "code",
   "execution_count": 14,
   "metadata": {},
   "outputs": [
    {
     "data": {
      "text/plain": [
       "0.095768534619104062"
      ]
     },
     "execution_count": 14,
     "metadata": {},
     "output_type": "execute_result"
    }
   ],
   "source": [
    "LA.norm(np.array([1, 0.805750223149824]) - np.array([1, 0.70998168853072]), 2)"
   ]
  },
  {
   "cell_type": "markdown",
   "metadata": {},
   "source": [
    "#### 6.5 计算两两点之间的距离"
   ]
  },
  {
   "cell_type": "code",
   "execution_count": 15,
   "metadata": {},
   "outputs": [],
   "source": [
    "def get_cluster_distance(X):\n",
    "    \"\"\"\n",
    "    return mean, min and max distance of a matrix\n",
    "    \"\"\"\n",
    "    m,n = X.shape\n",
    "    dis = (0, 0, 0)\n",
    "    if m>=2:\n",
    "        iu1 = np.triu_indices(m, 1)\n",
    "        each_node_distance = euclidean_distances(X)[iu1]\n",
    "        mean_dis = each_node_distance.mean()\n",
    "        max_dis = each_node_distance.max()\n",
    "        min_dis = each_node_distance.min()\n",
    "        dis = (mean_dis, min_dis, max_dis)\n",
    "    return dis"
   ]
  },
  {
   "cell_type": "code",
   "execution_count": 16,
   "metadata": {},
   "outputs": [
    {
     "data": {
      "text/plain": [
       "array([[0, 1],\n",
       "       [2, 3],\n",
       "       [4, 5],\n",
       "       [6, 7],\n",
       "       [8, 9]])"
      ]
     },
     "execution_count": 16,
     "metadata": {},
     "output_type": "execute_result"
    }
   ],
   "source": [
    "X = np.arange(10).reshape(5,2)\n",
    "X"
   ]
  },
  {
   "cell_type": "code",
   "execution_count": 17,
   "metadata": {},
   "outputs": [
    {
     "data": {
      "text/plain": [
       "(5.6568542494923815, 2.8284271247461903, 11.313708498984761)"
      ]
     },
     "execution_count": 17,
     "metadata": {},
     "output_type": "execute_result"
    }
   ],
   "source": [
    "get_cluster_distance(X)  # 每行为一个单独的样本"
   ]
  },
  {
   "cell_type": "code",
   "execution_count": 18,
   "metadata": {},
   "outputs": [
    {
     "data": {
      "text/plain": [
       "array([[  0.        ,   2.82842712,   5.65685425,   8.48528137,  11.3137085 ],\n",
       "       [  2.82842712,   0.        ,   2.82842712,   5.65685425,\n",
       "          8.48528137],\n",
       "       [  5.65685425,   2.82842712,   0.        ,   2.82842712,\n",
       "          5.65685425],\n",
       "       [  8.48528137,   5.65685425,   2.82842712,   0.        ,\n",
       "          2.82842712],\n",
       "       [ 11.3137085 ,   8.48528137,   5.65685425,   2.82842712,   0.        ]])"
      ]
     },
     "execution_count": 18,
     "metadata": {},
     "output_type": "execute_result"
    }
   ],
   "source": [
    "euclidean_distances(X)"
   ]
  },
  {
   "cell_type": "code",
   "execution_count": null,
   "metadata": {},
   "outputs": [],
   "source": []
  }
 ],
 "metadata": {
  "kernelspec": {
   "display_name": "Python 3",
   "language": "python",
   "name": "python3"
  },
  "language_info": {
   "codemirror_mode": {
    "name": "ipython",
    "version": 3
   },
   "file_extension": ".py",
   "mimetype": "text/x-python",
   "name": "python",
   "nbconvert_exporter": "python",
   "pygments_lexer": "ipython3",
   "version": "3.6.5"
  }
 },
 "nbformat": 4,
 "nbformat_minor": 2
}
