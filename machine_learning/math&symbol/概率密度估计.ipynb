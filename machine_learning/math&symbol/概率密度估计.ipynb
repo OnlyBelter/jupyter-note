{
 "cells": [
  {
   "cell_type": "markdown",
   "metadata": {},
   "source": [
    "### Simple 1D Kernel Density Estimation(一维数据)\n",
    "- http://scikit-learn.org/stable/auto_examples/neighbors/plot_kde_1d.html\n",
    "\n",
    "This example uses the `sklearn.neighbors.KernelDensity` class to demonstrate the principles of Kernel Density Estimation in one dimension.\n",
    "\n",
    "The first plot shows one of the problems with using histograms to visualize the density of points in 1D. Intuitively, a histogram can be thought of as a scheme in which a unit “block” is stacked above each point on a regular grid. As the top two panels show, however, the choice of gridding for these blocks can lead to wildly divergent ideas about the underlying shape of the density distribution. If we instead center each block on the point it represents, we get the estimate shown in the bottom left panel. This is a kernel density estimation with a “top hat” kernel. This idea can be generalized to other kernel shapes: the bottom-right panel of the first figure shows a Gaussian kernel density estimate over the same distribution.\n",
    "\n",
    "Scikit-learn implements efficient kernel density estimation using either a Ball Tree or KD Tree structure, through the `sklearn.neighbors.KernelDensity` estimator. The available kernels are shown in the second figure of this example.\n",
    "\n",
    "The third figure compares kernel density estimates for a distribution of 100 samples in 1 dimension. Though this example uses 1D distributions, kernel density estimation is easily and efficiently extensible to higher dimensions as well."
   ]
  },
  {
   "cell_type": "code",
   "execution_count": 1,
   "metadata": {},
   "outputs": [],
   "source": [
    "import numpy as np\n",
    "import matplotlib.pyplot as plt\n",
    "from scipy.stats import norm\n",
    "from sklearn.neighbors import KernelDensity"
   ]
  },
  {
   "cell_type": "code",
   "execution_count": 7,
   "metadata": {},
   "outputs": [],
   "source": [
    "#----------------------------------------------------------------------\n",
    "# Plot the progression of histograms to kernels\n",
    "np.random.seed(1)\n",
    "N = 20\n",
    "X = np.concatenate((np.random.normal(0, 1, int(0.3 * N)),\n",
    "                    np.random.normal(5, 1, int(0.7 * N))))[:, np.newaxis]  # 从array变成了matrix, 形状从(20, )变成了(20, 1)\n",
    "X_plot = np.linspace(-5, 10, 1000)[:, np.newaxis]\n",
    "bins = np.linspace(-5, 10, 10)"
   ]
  },
  {
   "cell_type": "code",
   "execution_count": 13,
   "metadata": {},
   "outputs": [
    {
     "data": {
      "text/plain": [
       "(20, 1)"
      ]
     },
     "execution_count": 13,
     "metadata": {},
     "output_type": "execute_result"
    }
   ],
   "source": [
    "X.shape"
   ]
  },
  {
   "cell_type": "code",
   "execution_count": 14,
   "metadata": {},
   "outputs": [
    {
     "data": {
      "text/plain": [
       "array([ -5.        ,  -3.33333333,  -1.66666667,   0.        ,\n",
       "         1.66666667,   3.33333333,   5.        ,   6.66666667,\n",
       "         8.33333333,  10.        ])"
      ]
     },
     "execution_count": 14,
     "metadata": {},
     "output_type": "execute_result"
    }
   ],
   "source": [
    "bins"
   ]
  },
  {
   "cell_type": "code",
   "execution_count": 11,
   "metadata": {},
   "outputs": [
    {
     "data": {
      "image/png": "[encoded data removed]",
      "text/plain": [
       "<Figure size 1008x504 with 4 Axes>"
      ]
     },
     "metadata": {},
     "output_type": "display_data"
    }
   ],
   "source": [
    "fig, ax = plt.subplots(2, 2, sharex=True, sharey=True, figsize=(14, 7))\n",
    "fig.subplots_adjust(hspace=0.05, wspace=0.05)\n",
    "\n",
    "# histogram 1\n",
    "ax[0, 0].hist(X[:, 0], bins=bins, fc='#AAAAFF', density=True)\n",
    "ax[0, 0].text(-3.5, 0.31, \"Histogram\")  # 每个子图都有自己的坐标系\n",
    "\n",
    "# histogram 2\n",
    "ax[0, 1].hist(X[:, 0], bins=bins + 0.75, fc='#AAAAFF', density=True)\n",
    "ax[0, 1].text(-3.5, 0.31, \"Histogram, bins shifted\")  \n",
    "\n",
    "# tophat KDE\n",
    "kde = KernelDensity(kernel='tophat', bandwidth=0.75).fit(X)\n",
    "log_dens = kde.score_samples(X_plot)\n",
    "ax[1, 0].fill(X_plot[:, 0], np.exp(log_dens), fc='#AAAAFF')\n",
    "ax[1, 0].text(-3.5, 0.31, \"Tophat Kernel Density\")\n",
    "\n",
    "# Gaussian KDE\n",
    "kde = KernelDensity(kernel='gaussian', bandwidth=0.75).fit(X)\n",
    "log_dens = kde.score_samples(X_plot)\n",
    "ax[1, 1].fill(X_plot[:, 0], np.exp(log_dens), fc='#AAAAFF')\n",
    "ax[1, 1].text(-3.5, 0.31, \"Gaussian Kernel Density\")\n",
    "\n",
    "for axi in ax.ravel():\n",
    "    axi.plot(X[:, 0], np.zeros(X.shape[0]) - 0.01, '+k')\n",
    "    axi.set_xlim(-4, 9)\n",
    "    axi.set_ylim(-0.02, 0.34)\n",
    "\n",
    "for axi in ax[:, 0]:\n",
    "    axi.set_ylabel('Normalized Density')\n",
    "\n",
    "for axi in ax[1, :]:\n",
    "    axi.set_xlabel('x')"
   ]
  },
  {
   "cell_type": "code",
   "execution_count": 15,
   "metadata": {},
   "outputs": [
    {
     "data": {
      "text/plain": [
       "\u001b[0;31mType:\u001b[0m        KernelDensity\n",
       "\u001b[0;31mString form:\u001b[0m\n",
       "KernelDensity(algorithm='auto', atol=0, bandwidth=0.75, breadth_first=True,\n",
       "       kernel='gaussian', leaf_size=40, metric='euclidean',\n",
       "       metric_params=None, rtol=0)\n",
       "\u001b[0;31mFile:\u001b[0m        /opt/conda/lib/python3.6/site-packages/sklearn/neighbors/kde.py\n",
       "\u001b[0;31mDocstring:\u001b[0m  \n",
       "Kernel Density Estimation\n",
       "\n",
       "Read more in the :ref:`User Guide <kernel_density>`.\n",
       "\n",
       "Parameters\n",
       "----------\n",
       "bandwidth : float\n",
       "    The bandwidth of the kernel.\n",
       "\n",
       "algorithm : string\n",
       "    The tree algorithm to use.  Valid options are\n",
       "    ['kd_tree'|'ball_tree'|'auto'].  Default is 'auto'.\n",
       "\n",
       "kernel : string\n",
       "    The kernel to use.  Valid kernels are\n",
       "    ['gaussian'|'tophat'|'epanechnikov'|'exponential'|'linear'|'cosine']\n",
       "    Default is 'gaussian'.\n",
       "\n",
       "metric : string\n",
       "    The distance metric to use.  Note that not all metrics are\n",
       "    valid with all algorithms.  Refer to the documentation of\n",
       "    :class:`BallTree` and :class:`KDTree` for a description of\n",
       "    available algorithms.  Note that the normalization of the density\n",
       "    output is correct only for the Euclidean distance metric. Default\n",
       "    is 'euclidean'.\n",
       "\n",
       "atol : float\n",
       "    The desired absolute tolerance of the result.  A larger tolerance will\n",
       "    generally lead to faster execution. Default is 0.\n",
       "\n",
       "rtol : float\n",
       "    The desired relative tolerance of the result.  A larger tolerance will\n",
       "    generally lead to faster execution.  Default is 1E-8.\n",
       "\n",
       "breadth_first : boolean\n",
       "    If true (default), use a breadth-first approach to the problem.\n",
       "    Otherwise use a depth-first approach.\n",
       "\n",
       "leaf_size : int\n",
       "    Specify the leaf size of the underlying tree.  See :class:`BallTree`\n",
       "    or :class:`KDTree` for details.  Default is 40.\n",
       "\n",
       "metric_params : dict\n",
       "    Additional parameters to be passed to the tree for use with the\n",
       "    metric.  For more information, see the documentation of\n",
       "    :class:`BallTree` or :class:`KDTree`.\n"
      ]
     },
     "metadata": {},
     "output_type": "display_data"
    }
   ],
   "source": [
    "kde."
   ]
  },
  {
   "cell_type": "code",
   "execution_count": null,
   "metadata": {},
   "outputs": [],
   "source": []
  }
 ],
 "metadata": {
  "kernelspec": {
   "display_name": "Python 3",
   "language": "python",
   "name": "python3"
  },
  "language_info": {
   "codemirror_mode": {
    "name": "ipython",
    "version": 3
   },
   "file_extension": ".py",
   "mimetype": "text/x-python",
   "name": "python",
   "nbconvert_exporter": "python",
   "pygments_lexer": "ipython3",
   "version": "3.6.5"
  }
 },
 "nbformat": 4,
 "nbformat_minor": 2
}
