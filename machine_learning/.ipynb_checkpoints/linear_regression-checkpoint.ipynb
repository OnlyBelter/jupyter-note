{
 "cells": [
  {
   "cell_type": "markdown",
   "metadata": {},
   "source": [
    "### 生成一些类似线性模型的数据\n",
    "- 添加了随机误差"
   ]
  },
  {
   "cell_type": "code",
   "execution_count": 12,
   "metadata": {},
   "outputs": [
    {
     "data": {
      "image/png": "[encoded data removed]",
      "text/plain": [
       "<matplotlib.figure.Figure at 0x7fee546f6438>"
      ]
     },
     "metadata": {},
     "output_type": "display_data"
    }
   ],
   "source": [
    "import numpy as np\n",
    "import matplotlib.pyplot as plt\n",
    "m = 100\n",
    "X = 2 * np.random.rand(m, 1)  # 取大小在区间(0, 1)上的随机数，构成一个100*1的矩阵\n",
    "y = 5 + 2 * X + np.random.rand(m, 1)\n",
    "plt.plot(X, y, \"b.\")\n",
    "plt.show()\n",
    "# plt.savefig(\"abc.png\")"
   ]
  },
  {
   "cell_type": "code",
   "execution_count": 39,
   "metadata": {},
   "outputs": [],
   "source": [
    "def L_theta(theta, X_x0, y):\n",
    "    delta = np.dot(X_x0, theta) - y  # np.dot 表示矩阵乘法\n",
    "    L_theta = np.sum(np.multiply(delta, delta))\n",
    "    return L_theta"
   ]
  },
  {
   "cell_type": "code",
   "execution_count": 55,
   "metadata": {},
   "outputs": [
    {
     "name": "stdout",
     "output_type": "stream",
     "text": [
      "2344.85640579\n",
      "25.9273227439\n",
      "11.1400172139\n",
      "8.75776042366\n",
      "8.37397533126\n",
      "8.31214698523\n",
      "8.30218634724\n",
      "8.30058167373\n",
      "8.30032315845\n",
      "8.30028151126\n",
      "[[ 5.5446914 ]\n",
      " [ 1.96864555]]\n"
     ]
    }
   ],
   "source": [
    "T = 1000  # 迭代次数\n",
    "theta = np.ones((2, 1))  # 参数的初始化\n",
    "alpha = 0.06  # 学习率\n",
    "X_x0 = np.c_[np.ones((100, 1)), X]  # ADD X0 = 1 to each instance\n",
    "\n",
    "# print(np.multiply(delta, delta))\n",
    "\n",
    "# print(L_theta)\n",
    "for i in range(T):\n",
    "    theta_0 = theta[0, 0]\n",
    "    theta_1 = theta[1, 0]\n",
    "    theta_0 -= alpha*(1/m * np.sum(np.dot(X_x0, theta) - y))\n",
    "    theta_1 -= alpha*(1/m * np.sum(np.dot(np.transpose(X), np.dot(X_x0, theta) - y)))\n",
    "    theta[0, 0] = theta_0\n",
    "    theta[1, 0] = theta_1\n",
    "    if i%100==0:\n",
    "        print(L_theta(theta, X_x0, y))\n",
    "print(theta)\n"
   ]
  },
  {
   "cell_type": "code",
   "execution_count": 43,
   "metadata": {},
   "outputs": [
    {
     "data": {
      "text/plain": [
       "(2, 1)"
      ]
     },
     "execution_count": 43,
     "metadata": {},
     "output_type": "execute_result"
    }
   ],
   "source": [
    "np.zeros((2, 1)).shape"
   ]
  },
  {
   "cell_type": "code",
   "execution_count": 34,
   "metadata": {},
   "outputs": [],
   "source": [
    "test = np.array(np.arange(9)).reshape(3, 3)"
   ]
  },
  {
   "cell_type": "code",
   "execution_count": 35,
   "metadata": {},
   "outputs": [
    {
     "data": {
      "text/plain": [
       "array([[0, 1, 2],\n",
       "       [3, 4, 5],\n",
       "       [6, 7, 8]])"
      ]
     },
     "execution_count": 35,
     "metadata": {},
     "output_type": "execute_result"
    }
   ],
   "source": [
    "test"
   ]
  },
  {
   "cell_type": "code",
   "execution_count": 36,
   "metadata": {},
   "outputs": [
    {
     "data": {
      "text/plain": [
       "2"
      ]
     },
     "execution_count": 36,
     "metadata": {},
     "output_type": "execute_result"
    }
   ],
   "source": [
    "test[0, 2]"
   ]
  },
  {
   "cell_type": "code",
   "execution_count": 37,
   "metadata": {},
   "outputs": [],
   "source": [
    "test[1, 1] = 55"
   ]
  },
  {
   "cell_type": "code",
   "execution_count": 38,
   "metadata": {},
   "outputs": [
    {
     "data": {
      "text/plain": [
       "array([[ 0,  1,  2],\n",
       "       [ 3, 55,  5],\n",
       "       [ 6,  7,  8]])"
      ]
     },
     "execution_count": 38,
     "metadata": {},
     "output_type": "execute_result"
    }
   ],
   "source": [
    "test"
   ]
  },
  {
   "cell_type": "code",
   "execution_count": null,
   "metadata": {},
   "outputs": [],
   "source": []
  }
 ],
 "metadata": {
  "kernelspec": {
   "display_name": "Python 3",
   "language": "python",
   "name": "python3"
  },
  "language_info": {
   "codemirror_mode": {
    "name": "ipython",
    "version": 3
   },
   "file_extension": ".py",
   "mimetype": "text/x-python",
   "name": "python",
   "nbconvert_exporter": "python",
   "pygments_lexer": "ipython3",
   "version": "3.6.3"
  }
 },
 "nbformat": 4,
 "nbformat_minor": 2
}
