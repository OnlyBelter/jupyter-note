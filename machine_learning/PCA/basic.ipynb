{
 "cells": [
  {
   "cell_type": "code",
   "execution_count": 1,
   "id": "577f5b98-0bb9-41ff-93c8-d6a43aed7455",
   "metadata": {},
   "outputs": [],
   "source": [
    "import numpy  as np\n",
    "import pandas as pd\n",
    "from numpy import linalg as LA\n",
    "from sklearn.decomposition import PCA\n",
    "from sklearn.datasets import load_iris\n",
    "import matplotlib.pyplot as plt\n",
    "import seaborn as sns\n",
    "sns.set(palette='muted', font_scale=1.5)"
   ]
  },
  {
   "cell_type": "markdown",
   "id": "31b01b5c-5882-4432-8d5c-e98736b3047f",
   "metadata": {},
   "source": [
    "### 1. Read dataset"
   ]
  },
  {
   "cell_type": "code",
   "execution_count": 2,
   "id": "c4d6d1fb-ec0b-4058-bdc3-debf159370c2",
   "metadata": {},
   "outputs": [
    {
     "name": "stdout",
     "output_type": "stream",
     "text": [
      "['DESCR', 'data', 'feature_names', 'filename', 'frame', 'target', 'target_names']\n",
      ".. _iris_dataset:\n",
      "\n",
      "Iris plants dataset\n",
      "--------------------\n",
      "\n",
      "**Data Set Characteristics:**\n",
      "\n",
      "    :Number of Instances: 150 (50 in each of three classes)\n",
      "    :Number of Attributes: 4 numeric, predictive attributes and the class\n",
      "    :Attribute Information:\n",
      "        - sepal length in cm\n",
      "        - sepal width in cm\n",
      "        - petal length in cm\n",
      "        - petal width in cm\n",
      "        - class:\n",
      "                - Iris-Setosa\n",
      "                - Iris-Versicolour\n",
      "                - Iris-Virginica\n",
      "                \n",
      "    :Summary Statistics:\n",
      "\n",
      "    ============== ==== ==== ======= ===== ====================\n",
      "                    Min  Max   Mean    SD   Class Correlation\n",
      "    ============== ==== ==== ======= ===== ====================\n",
      "    sepal length:   4.3  7.9   5.84   0.83    0.7826\n",
      "    sepal width:    2.0  4.4   3.05   0.43   -0.4194\n",
      "    petal length:   1.0  6.9   3.76   1.76    0.9490  (high!)\n",
      "    petal width:    0.1  2.5   1.20   0.76    0.9565  (high!)\n",
      "    ============== ==== ==== ======= ===== ====================\n",
      "\n",
      "    :Missing Attribute Values: None\n",
      "    :Class Distribution: 33.3% for each of 3 classes.\n",
      "    :Creator: R.A. Fisher\n",
      "    :Donor: Michael Marshall (MARSHALL%PLU@io.arc.nasa.gov)\n",
      "    :Date: July, 1988\n",
      "\n",
      "The famous Iris database, first used by Sir R.A. Fisher. The dataset is taken\n",
      "from Fisher's paper. Note that it's the same as in R, but not as in the UCI\n",
      "Machine Learning Repository, which has two wrong data points.\n",
      "\n",
      "This is perhaps the best known database to be found in the\n",
      "pattern recognition literature.  Fisher's paper is a classic in the field and\n",
      "is referenced frequently to this day.  (See Duda & Hart, for example.)  The\n",
      "data set contains 3 classes of 50 instances each, where each class refers to a\n",
      "type of iris plant.  One class is linearly separable from the other 2; the\n",
      "latter are NOT linearly separable from each other.\n",
      "\n",
      ".. topic:: References\n",
      "\n",
      "   - Fisher, R.A. \"The use of multiple measurements in taxonomic problems\"\n",
      "     Annual Eugenics, 7, Part II, 179-188 (1936); also in \"Contributions to\n",
      "     Mathematical Statistics\" (John Wiley, NY, 1950).\n",
      "   - Duda, R.O., & Hart, P.E. (1973) Pattern Classification and Scene Analysis.\n",
      "     (Q327.D83) John Wiley & Sons.  ISBN 0-471-22361-1.  See page 218.\n",
      "   - Dasarathy, B.V. (1980) \"Nosing Around the Neighborhood: A New System\n",
      "     Structure and Classification Rule for Recognition in Partially Exposed\n",
      "     Environments\".  IEEE Transactions on Pattern Analysis and Machine\n",
      "     Intelligence, Vol. PAMI-2, No. 1, 67-71.\n",
      "   - Gates, G.W. (1972) \"The Reduced Nearest Neighbor Rule\".  IEEE Transactions\n",
      "     on Information Theory, May 1972, 431-433.\n",
      "   - See also: 1988 MLC Proceedings, 54-64.  Cheeseman et al\"s AUTOCLASS II\n",
      "     conceptual clustering system finds 3 classes in the data.\n",
      "   - Many, many more ...\n"
     ]
    }
   ],
   "source": [
    "data = load_iris()\n",
    "print(dir(data))  # 查看data所具有的属性或方法\n",
    "print(data.DESCR)  # 查看数据集的简介"
   ]
  },
  {
   "cell_type": "code",
   "execution_count": 3,
   "id": "01bd237d-3d97-4d91-8918-8d3a71de0d17",
   "metadata": {},
   "outputs": [
    {
     "data": {
      "text/html": [
       "<div>\n",
       "<style scoped>\n",
       "    .dataframe tbody tr th:only-of-type {\n",
       "        vertical-align: middle;\n",
       "    }\n",
       "\n",
       "    .dataframe tbody tr th {\n",
       "        vertical-align: top;\n",
       "    }\n",
       "\n",
       "    .dataframe thead th {\n",
       "        text-align: right;\n",
       "    }\n",
       "</style>\n",
       "<table border=\"1\" class=\"dataframe\">\n",
       "  <thead>\n",
       "    <tr style=\"text-align: right;\">\n",
       "      <th></th>\n",
       "      <th>sepal length (cm)</th>\n",
       "      <th>sepal width (cm)</th>\n",
       "      <th>petal length (cm)</th>\n",
       "      <th>petal width (cm)</th>\n",
       "    </tr>\n",
       "  </thead>\n",
       "  <tbody>\n",
       "    <tr>\n",
       "      <th>0</th>\n",
       "      <td>5.1</td>\n",
       "      <td>3.5</td>\n",
       "      <td>1.4</td>\n",
       "      <td>0.2</td>\n",
       "    </tr>\n",
       "    <tr>\n",
       "      <th>1</th>\n",
       "      <td>4.9</td>\n",
       "      <td>3.0</td>\n",
       "      <td>1.4</td>\n",
       "      <td>0.2</td>\n",
       "    </tr>\n",
       "  </tbody>\n",
       "</table>\n",
       "</div>"
      ],
      "text/plain": [
       "   sepal length (cm)  sepal width (cm)  petal length (cm)  petal width (cm)\n",
       "0                5.1               3.5                1.4               0.2\n",
       "1                4.9               3.0                1.4               0.2"
      ]
     },
     "execution_count": 3,
     "metadata": {},
     "output_type": "execute_result"
    }
   ],
   "source": [
    "#直接读到pandas的数据框中\n",
    "iris_dataset = pd.DataFrame(data=data.data, columns=data.feature_names)\n",
    "iris_dataset.head(2)"
   ]
  },
  {
   "cell_type": "markdown",
   "id": "823a1faf-b35c-4bb8-ab74-38ad8beb0aee",
   "metadata": {},
   "source": [
    "#### Plot 2 features"
   ]
  },
  {
   "cell_type": "code",
   "execution_count": 4,
   "id": "581d6809-ae24-410a-8e27-50979c114669",
   "metadata": {},
   "outputs": [
    {
     "data": {
      "image/png": "[encoded data removed]",
      "text/plain": [
       "<Figure size 576x432 with 1 Axes>"
      ]
     },
     "metadata": {},
     "output_type": "display_data"
    }
   ],
   "source": [
    "plt.figure(figsize=(8, 6))\n",
    "# List of RGB triplets\n",
    "rgb_values = sns.color_palette(\"Set2\", len(data.target_names))\n",
    "color_map = dict(zip(np.unique(data.target), rgb_values))\n",
    "for i, name in enumerate(data.target_names):\n",
    "    plt.scatter(iris_dataset.loc[data.target==i, 'sepal length (cm)'], iris_dataset.loc[data.target==i, 'petal length (cm)'], color=color_map[i], label=name)\n",
    "plt.xlabel('sepal length (cm)')\n",
    "plt.ylabel('petal length (cm)')\n",
    "plt.legend()\n",
    "plt.show()"
   ]
  },
  {
   "cell_type": "markdown",
   "id": "b1494ea1-1541-436c-a14c-75a79334ed42",
   "metadata": {},
   "source": [
    "### 2. PCA"
   ]
  },
  {
   "cell_type": "code",
   "execution_count": 5,
   "id": "878ec8b5-6303-4452-aad9-28c2832e41d8",
   "metadata": {},
   "outputs": [
    {
     "data": {
      "text/plain": [
       "PCA(n_components=2)"
      ]
     },
     "execution_count": 5,
     "metadata": {},
     "output_type": "execute_result"
    }
   ],
   "source": [
    "pca = PCA(n_components=2)\n",
    "pca.fit(iris_dataset.values)"
   ]
  },
  {
   "cell_type": "code",
   "execution_count": 6,
   "id": "21d1f623-8103-49ae-bf80-eea992ba7c50",
   "metadata": {},
   "outputs": [
    {
     "data": {
      "text/plain": [
       "array([0.92461872, 0.05306648])"
      ]
     },
     "execution_count": 6,
     "metadata": {},
     "output_type": "execute_result"
    }
   ],
   "source": [
    "pca.explained_variance_ratio_"
   ]
  },
  {
   "cell_type": "code",
   "execution_count": 7,
   "id": "111ecdc0-6b9a-4dbd-a7e6-599ae8b67813",
   "metadata": {},
   "outputs": [],
   "source": [
    "X_pca = pca.transform(iris_dataset.values)"
   ]
  },
  {
   "cell_type": "code",
   "execution_count": 8,
   "id": "a600e7dd-21fa-4a32-a16f-f37ab8455687",
   "metadata": {},
   "outputs": [
    {
     "data": {
      "image/png": "[encoded data removed]",
      "text/plain": [
       "<Figure size 576x432 with 1 Axes>"
      ]
     },
     "metadata": {},
     "output_type": "display_data"
    }
   ],
   "source": [
    "plt.figure(figsize=(8, 6))\n",
    "# List of RGB triplets\n",
    "rgb_values = sns.color_palette(\"Set2\", len(data.target_names))\n",
    "color_map = dict(zip(np.unique(data.target), rgb_values))\n",
    "for i, name in enumerate(data.target_names):\n",
    "    plt.scatter(X_pca[data.target==i, 0], X_pca[data.target==i, 1], color=color_map[i], label=name)\n",
    "plt.xlabel('PC1')\n",
    "plt.ylabel('PC2')\n",
    "plt.legend()\n",
    "plt.show()"
   ]
  },
  {
   "cell_type": "markdown",
   "id": "46507dcc-95f5-4148-9ab3-f1998eb80d59",
   "metadata": {
    "tags": []
   },
   "source": [
    "### 3. Calculate PCs from scratch"
   ]
  },
  {
   "cell_type": "markdown",
   "id": "b60cea8c-f104-4f3b-86c1-651d7f3f3618",
   "metadata": {},
   "source": [
    "When $X$ is centered, covariance matrix $C = X^TX / (n-1)$, see: https://stats.stackexchange.com/a/285358/134555\n",
    "\n"
   ]
  },
  {
   "cell_type": "code",
   "execution_count": 9,
   "id": "e0c5e232-d217-442e-bdb0-6069152889d0",
   "metadata": {},
   "outputs": [],
   "source": [
    "iris_dataset_centered = iris_dataset - iris_dataset.mean(axis=0)"
   ]
  },
  {
   "cell_type": "code",
   "execution_count": 10,
   "id": "76f34aad-958c-41e4-9bfa-a425e467e99a",
   "metadata": {},
   "outputs": [
    {
     "data": {
      "text/plain": [
       "array([[ 0.68569351, -0.042434  ,  1.27431544,  0.51627069],\n",
       "       [-0.042434  ,  0.18997942, -0.32965638, -0.12163937],\n",
       "       [ 1.27431544, -0.32965638,  3.11627785,  1.2956094 ],\n",
       "       [ 0.51627069, -0.12163937,  1.2956094 ,  0.58100626]])"
      ]
     },
     "execution_count": 10,
     "metadata": {},
     "output_type": "execute_result"
    }
   ],
   "source": [
    "COV1 = iris_dataset_centered.values.T @ iris_dataset_centered.values / (iris_dataset.shape[0] - 1)\n",
    "COV1"
   ]
  },
  {
   "cell_type": "code",
   "execution_count": 11,
   "id": "3d3f5ccc-29e9-4b22-86d1-eec027a7ccf4",
   "metadata": {},
   "outputs": [
    {
     "data": {
      "text/plain": [
       "array([[ 0.68569351, -0.042434  ,  1.27431544,  0.51627069],\n",
       "       [-0.042434  ,  0.18997942, -0.32965638, -0.12163937],\n",
       "       [ 1.27431544, -0.32965638,  3.11627785,  1.2956094 ],\n",
       "       [ 0.51627069, -0.12163937,  1.2956094 ,  0.58100626]])"
      ]
     },
     "execution_count": 11,
     "metadata": {},
     "output_type": "execute_result"
    }
   ],
   "source": [
    "COV2 = np.cov(iris_dataset.values.T)\n",
    "COV2"
   ]
  },
  {
   "cell_type": "markdown",
   "id": "f600e100-ca53-4cf4-9f4f-0ce5b6f479a1",
   "metadata": {},
   "source": [
    "#### 3.1 method1: Eigendecomposition of covariance matrix (C)\n",
    "- `linalg.eig(C)`: Compute the eigenvalues and right eigenvectors of a square array.\n",
    "- https://numpy.org/doc/stable/reference/generated/numpy.linalg.eig.html\n",
    "- https://stackoverflow.com/a/50489172/2803344\n",
    "\n",
    "$eig(C) = v w v^T$, where $w$ is the eigen values and $v$ is the normalized (unit “length”) eigenvectors of $C$ and $X^TX$.\n",
    "\n",
    "- Principal components are given by $X_{PCA} = (X - \\bar{X})v$\n",
    "- https://stats.stackexchange.com/a/134283/134555"
   ]
  },
  {
   "cell_type": "code",
   "execution_count": 12,
   "id": "5c22f53e-ad25-402f-a3d1-6e24870740bd",
   "metadata": {},
   "outputs": [
    {
     "name": "stdout",
     "output_type": "stream",
     "text": [
      "[4.22824171 0.24267075 0.0782095  0.02383509]\n",
      "[[ 0.36138659 -0.65658877 -0.58202985  0.31548719]\n",
      " [-0.08452251 -0.73016143  0.59791083 -0.3197231 ]\n",
      " [ 0.85667061  0.17337266  0.07623608 -0.47983899]\n",
      " [ 0.3582892   0.07548102  0.54583143  0.75365743]]\n"
     ]
    }
   ],
   "source": [
    "w, v = LA.eig(COV1)\n",
    "print(w)\n",
    "print(v)"
   ]
  },
  {
   "cell_type": "code",
   "execution_count": 13,
   "id": "0de5b88b-5a7d-4d66-8548-6bfbb1fac946",
   "metadata": {},
   "outputs": [
    {
     "data": {
      "text/plain": [
       "array([[ 0.36138659, -0.08452251,  0.85667061,  0.3582892 ],\n",
       "       [ 0.65658877,  0.73016143, -0.17337266, -0.07548102]])"
      ]
     },
     "execution_count": 13,
     "metadata": {},
     "output_type": "execute_result"
    }
   ],
   "source": [
    "pca.components_  # same as the normalized eigenvectors of first 2 PCs"
   ]
  },
  {
   "cell_type": "code",
   "execution_count": 14,
   "id": "3c5fe1fc-b443-4e81-9730-a567391582ee",
   "metadata": {},
   "outputs": [
    {
     "data": {
      "text/plain": [
       "array([4.22824171, 0.24267075])"
      ]
     },
     "execution_count": 14,
     "metadata": {},
     "output_type": "execute_result"
    }
   ],
   "source": [
    "pca.explained_variance_  # same as the eigen values calculated from eig(C)"
   ]
  },
  {
   "cell_type": "code",
   "execution_count": 15,
   "id": "e5207080-ab43-4a71-b085-c805745fca4e",
   "metadata": {},
   "outputs": [
    {
     "data": {
      "text/plain": [
       "array([[ 0.68569351, -0.042434  ,  1.27431544,  0.51627069],\n",
       "       [-0.042434  ,  0.18997942, -0.32965638, -0.12163937],\n",
       "       [ 1.27431544, -0.32965638,  3.11627785,  1.2956094 ],\n",
       "       [ 0.51627069, -0.12163937,  1.2956094 ,  0.58100626]])"
      ]
     },
     "execution_count": 15,
     "metadata": {},
     "output_type": "execute_result"
    }
   ],
   "source": [
    "v @ np.diag(w) @ LA.inv(v)"
   ]
  },
  {
   "cell_type": "code",
   "execution_count": 16,
   "id": "8e76ca4d-2c1a-40e1-96c0-d125737848c5",
   "metadata": {
    "tags": []
   },
   "outputs": [
    {
     "data": {
      "text/plain": [
       "array([[-2.68412563e+00, -3.19397247e-01, -2.79148276e-02,\n",
       "         2.26243707e-03],\n",
       "       [-2.71414169e+00,  1.77001225e-01, -2.10464272e-01,\n",
       "         9.90265503e-02],\n",
       "       [-2.88899057e+00,  1.44949426e-01,  1.79002563e-02,\n",
       "         1.99683897e-02],\n",
       "       [-2.74534286e+00,  3.18298979e-01,  3.15593736e-02,\n",
       "        -7.55758166e-02],\n",
       "       [-2.72871654e+00, -3.26754513e-01,  9.00792406e-02,\n",
       "        -6.12585926e-02]])"
      ]
     },
     "execution_count": 16,
     "metadata": {},
     "output_type": "execute_result"
    }
   ],
   "source": [
    "X_pca2 = iris_dataset_centered.values @ v\n",
    "X_pca2[0:5, :]  # PC1 -> PC4"
   ]
  },
  {
   "cell_type": "code",
   "execution_count": 17,
   "id": "9cecd097-9b4b-4e5d-99c3-36ebe06736f2",
   "metadata": {},
   "outputs": [
    {
     "data": {
      "text/plain": [
       "array([[-2.68412563,  0.31939725],\n",
       "       [-2.71414169, -0.17700123],\n",
       "       [-2.88899057, -0.14494943],\n",
       "       [-2.74534286, -0.31829898],\n",
       "       [-2.72871654,  0.32675451]])"
      ]
     },
     "execution_count": 17,
     "metadata": {},
     "output_type": "execute_result"
    }
   ],
   "source": [
    "X_pca[0:5, :]  # PC1, PC2；与上面的结果方向相反"
   ]
  },
  {
   "cell_type": "markdown",
   "id": "cf3bb2a8-d2b8-4f09-8ba1-886e59de7e97",
   "metadata": {},
   "source": [
    "#### 3.2 method2: SVD of X\n",
    "- $X = USV^{T}$, and principle components are given by $US$\n",
    "- https://numpy.org/doc/stable/reference/generated/numpy.linalg.svd.html\n",
    "\n",
    "`u @ np.diag(s) @ vh` will recover X"
   ]
  },
  {
   "cell_type": "code",
   "execution_count": 18,
   "id": "49934329-9668-4337-b8f0-9e62ff5b7ec0",
   "metadata": {},
   "outputs": [],
   "source": [
    "u, s, vh = LA.svd(iris_dataset_centered.values, full_matrices=False)"
   ]
  },
  {
   "cell_type": "code",
   "execution_count": 19,
   "id": "87a690b1-2747-4a4c-826d-b7e3e9111b5e",
   "metadata": {},
   "outputs": [
    {
     "name": "stdout",
     "output_type": "stream",
     "text": [
      "(150, 4) (4,) (4, 4)\n"
     ]
    }
   ],
   "source": [
    "print(u.shape, s.shape, vh.shape)"
   ]
  },
  {
   "cell_type": "code",
   "execution_count": 20,
   "id": "7a11d573-d181-4928-b1c0-da3279ae29d0",
   "metadata": {},
   "outputs": [
    {
     "data": {
      "text/plain": [
       "array([[-0.74333333,  0.44266667, -2.358     , -0.99933333],\n",
       "       [-0.94333333, -0.05733333, -2.358     , -0.99933333],\n",
       "       [-1.14333333,  0.14266667, -2.458     , -0.99933333],\n",
       "       [-1.24333333,  0.04266667, -2.258     , -0.99933333],\n",
       "       [-0.84333333,  0.54266667, -2.358     , -0.99933333]])"
      ]
     },
     "execution_count": 20,
     "metadata": {},
     "output_type": "execute_result"
    }
   ],
   "source": [
    "X_recovered = u @ np.diag(s) @ vh\n",
    "X_recovered[0:5, :]"
   ]
  },
  {
   "cell_type": "code",
   "execution_count": 21,
   "id": "ca6a9b63-da67-4c31-9a04-86c6df8dfe1e",
   "metadata": {},
   "outputs": [
    {
     "data": {
      "text/plain": [
       "array([[-2.68412563e+00, -3.19397247e-01,  2.79148276e-02,\n",
       "         2.26243707e-03],\n",
       "       [-2.71414169e+00,  1.77001225e-01,  2.10464272e-01,\n",
       "         9.90265503e-02],\n",
       "       [-2.88899057e+00,  1.44949426e-01, -1.79002563e-02,\n",
       "         1.99683897e-02],\n",
       "       [-2.74534286e+00,  3.18298979e-01, -3.15593736e-02,\n",
       "        -7.55758166e-02],\n",
       "       [-2.72871654e+00, -3.26754513e-01, -9.00792406e-02,\n",
       "        -6.12585926e-02]])"
      ]
     },
     "execution_count": 21,
     "metadata": {},
     "output_type": "execute_result"
    }
   ],
   "source": [
    "X_pca3 = u @ np.diag(s)\n",
    "X_pca3[0:5, :]  # PC1 -> PC4"
   ]
  },
  {
   "cell_type": "code",
   "execution_count": 22,
   "id": "274a45ab-7635-4d60-ba88-eebcd0182aa1",
   "metadata": {},
   "outputs": [
    {
     "data": {
      "text/plain": [
       "array([25.09996044,  6.01314738,  3.41368064,  1.88452351])"
      ]
     },
     "execution_count": 22,
     "metadata": {},
     "output_type": "execute_result"
    }
   ],
   "source": [
    "s"
   ]
  },
  {
   "cell_type": "code",
   "execution_count": 23,
   "id": "a2990897-a539-436d-97c8-c349fc63bc94",
   "metadata": {},
   "outputs": [
    {
     "data": {
      "text/plain": [
       "array([[25.09996044,  0.        ,  0.        ,  0.        ],\n",
       "       [ 0.        ,  6.01314738,  0.        ,  0.        ],\n",
       "       [ 0.        ,  0.        ,  3.41368064,  0.        ],\n",
       "       [ 0.        ,  0.        ,  0.        ,  1.88452351]])"
      ]
     },
     "execution_count": 23,
     "metadata": {},
     "output_type": "execute_result"
    }
   ],
   "source": [
    "np.diag(s).T"
   ]
  },
  {
   "cell_type": "markdown",
   "id": "175362c9-9c69-407a-93a9-ab322f946d88",
   "metadata": {
    "tags": []
   },
   "source": [
    "### 4. Understanding How Features Contribute to PCs\n",
    "- Loading of each features: columns of $v$ multiplied by the square root of corresponding eigenvalues, that is, eigenvectors scaled up by the variances, are called `loadings` in PCA or in Factor analysis [wiki](https://en.wikipedia.org/wiki/Principal_component_analysis).\n",
    "- Loadings are the **covariances/correlations** between the original variables and the unit-scaled components.\n",
    "- https://scentellegher.github.io/machine-learning/2020/01/27/pca-loadings-sklearn.html\n",
    "\n",
    "$\\text{Loadings} = \\text{Eigenvectors} \\cdot \\sqrt{\\text{Eigenvalues}}$\n",
    "- https://stats.stackexchange.com/q/143905/134555\n",
    "\n",
    "\n",
    "Eigenvalues ($w$) are also the sum of squared component loadings across all items for each component, which represent the amount of variance in each item that can be explained by the principal component.\n",
    "Eigenvectors represent a weight for each eigenvalue. The eigenvector times the square root of the eigenvalue gives the **component loadings** which can be interpreted as the correlation of each item with the principal component. \n",
    "- https://stats.oarc.ucla.edu/spss/seminars/efa-spss/"
   ]
  },
  {
   "cell_type": "code",
   "execution_count": 24,
   "id": "6cfe944d-82d6-44da-9630-ecf983349513",
   "metadata": {},
   "outputs": [
    {
     "data": {
      "text/plain": [
       "array([[ 0.743108  ,  0.32344628],\n",
       "       [-0.17380102,  0.35968937],\n",
       "       [ 1.76154511, -0.08540619],\n",
       "       [ 0.73673893, -0.03718318]])"
      ]
     },
     "execution_count": 24,
     "metadata": {},
     "output_type": "execute_result"
    }
   ],
   "source": [
    "loadings = pca.components_.T * np.sqrt(pca.explained_variance_)\n",
    "loadings"
   ]
  },
  {
   "cell_type": "code",
   "execution_count": 25,
   "id": "7957622e-22db-4582-9ab5-3c5521f7a947",
   "metadata": {},
   "outputs": [
    {
     "data": {
      "text/plain": [
       "array([4.22824171, 0.24267075])"
      ]
     },
     "execution_count": 25,
     "metadata": {},
     "output_type": "execute_result"
    }
   ],
   "source": [
    "np.square(loadings).sum(axis=0)  # the sum of squared component loadings across all features for PC1 and PC2"
   ]
  },
  {
   "cell_type": "code",
   "execution_count": 26,
   "id": "a351ae58-a4d8-4995-a69e-39a554c970e1",
   "metadata": {},
   "outputs": [
    {
     "data": {
      "text/html": [
       "<div>\n",
       "<style scoped>\n",
       "    .dataframe tbody tr th:only-of-type {\n",
       "        vertical-align: middle;\n",
       "    }\n",
       "\n",
       "    .dataframe tbody tr th {\n",
       "        vertical-align: top;\n",
       "    }\n",
       "\n",
       "    .dataframe thead th {\n",
       "        text-align: right;\n",
       "    }\n",
       "</style>\n",
       "<table border=\"1\" class=\"dataframe\">\n",
       "  <thead>\n",
       "    <tr style=\"text-align: right;\">\n",
       "      <th></th>\n",
       "      <th>PC1</th>\n",
       "      <th>PC2</th>\n",
       "    </tr>\n",
       "  </thead>\n",
       "  <tbody>\n",
       "    <tr>\n",
       "      <th>sepal length (cm)</th>\n",
       "      <td>0.743108</td>\n",
       "      <td>0.323446</td>\n",
       "    </tr>\n",
       "    <tr>\n",
       "      <th>sepal width (cm)</th>\n",
       "      <td>-0.173801</td>\n",
       "      <td>0.359689</td>\n",
       "    </tr>\n",
       "    <tr>\n",
       "      <th>petal length (cm)</th>\n",
       "      <td>1.761545</td>\n",
       "      <td>-0.085406</td>\n",
       "    </tr>\n",
       "    <tr>\n",
       "      <th>petal width (cm)</th>\n",
       "      <td>0.736739</td>\n",
       "      <td>-0.037183</td>\n",
       "    </tr>\n",
       "  </tbody>\n",
       "</table>\n",
       "</div>"
      ],
      "text/plain": [
       "                        PC1       PC2\n",
       "sepal length (cm)  0.743108  0.323446\n",
       "sepal width (cm)  -0.173801  0.359689\n",
       "petal length (cm)  1.761545 -0.085406\n",
       "petal width (cm)   0.736739 -0.037183"
      ]
     },
     "execution_count": 26,
     "metadata": {},
     "output_type": "execute_result"
    }
   ],
   "source": [
    "# Component Matrix\n",
    "com_matrix = pd.DataFrame(data=loadings, index=iris_dataset.columns, columns=['PC1', 'PC2'])\n",
    "com_matrix"
   ]
  },
  {
   "cell_type": "code",
   "execution_count": null,
   "id": "890184e6-ebb6-4e55-9bab-dfd62447f16e",
   "metadata": {},
   "outputs": [],
   "source": []
  }
 ],
 "metadata": {
  "kernelspec": {
   "display_name": "Python 3 (ipykernel)",
   "language": "python",
   "name": "python3"
  },
  "language_info": {
   "codemirror_mode": {
    "name": "ipython",
    "version": 3
   },
   "file_extension": ".py",
   "mimetype": "text/x-python",
   "name": "python",
   "nbconvert_exporter": "python",
   "pygments_lexer": "ipython3",
   "version": "3.8.12"
  }
 },
 "nbformat": 4,
 "nbformat_minor": 5
}
