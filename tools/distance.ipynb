{
 "cells": [
  {
   "cell_type": "code",
   "execution_count": 1,
   "metadata": {},
   "outputs": [],
   "source": [
    "from sklearn.metrics import mean_squared_error, r2_score"
   ]
  },
  {
   "cell_type": "code",
   "execution_count": 2,
   "metadata": {},
   "outputs": [
    {
     "data": {
      "text/plain": [
       "\u001b[0;31mSignature:\u001b[0m \u001b[0mmean_squared_error\u001b[0m\u001b[0;34m(\u001b[0m\u001b[0my_true\u001b[0m\u001b[0;34m,\u001b[0m \u001b[0my_pred\u001b[0m\u001b[0;34m,\u001b[0m \u001b[0msample_weight\u001b[0m\u001b[0;34m=\u001b[0m\u001b[0;32mNone\u001b[0m\u001b[0;34m,\u001b[0m \u001b[0mmultioutput\u001b[0m\u001b[0;34m=\u001b[0m\u001b[0;34m'uniform_average'\u001b[0m\u001b[0;34m)\u001b[0m\u001b[0;34m\u001b[0m\u001b[0m\n",
       "\u001b[0;31mDocstring:\u001b[0m\n",
       "Mean squared error regression loss\n",
       "\n",
       "Read more in the :ref:`User Guide <mean_squared_error>`.\n",
       "\n",
       "Parameters\n",
       "----------\n",
       "y_true : array-like of shape = (n_samples) or (n_samples, n_outputs)\n",
       "    Ground truth (correct) target values.\n",
       "\n",
       "y_pred : array-like of shape = (n_samples) or (n_samples, n_outputs)\n",
       "    Estimated target values.\n",
       "\n",
       "sample_weight : array-like of shape = (n_samples), optional\n",
       "    Sample weights.\n",
       "\n",
       "multioutput : string in ['raw_values', 'uniform_average']\n",
       "    or array-like of shape (n_outputs)\n",
       "    Defines aggregating of multiple output values.\n",
       "    Array-like value defines weights used to average errors.\n",
       "\n",
       "    'raw_values' :\n",
       "        Returns a full set of errors in case of multioutput input.\n",
       "\n",
       "    'uniform_average' :\n",
       "        Errors of all outputs are averaged with uniform weight.\n",
       "\n",
       "Returns\n",
       "-------\n",
       "loss : float or ndarray of floats\n",
       "    A non-negative floating point value (the best value is 0.0), or an\n",
       "    array of floating point values, one for each individual target.\n",
       "\n",
       "Examples\n",
       "--------\n",
       ">>> from sklearn.metrics import mean_squared_error\n",
       ">>> y_true = [3, -0.5, 2, 7]\n",
       ">>> y_pred = [2.5, 0.0, 2, 8]\n",
       ">>> mean_squared_error(y_true, y_pred)\n",
       "0.375\n",
       ">>> y_true = [[0.5, 1],[-1, 1],[7, -6]]\n",
       ">>> y_pred = [[0, 2],[-1, 2],[8, -5]]\n",
       ">>> mean_squared_error(y_true, y_pred)  # doctest: +ELLIPSIS\n",
       "0.708...\n",
       ">>> mean_squared_error(y_true, y_pred, multioutput='raw_values')\n",
       "... # doctest: +ELLIPSIS\n",
       "array([ 0.416...,  1.        ])\n",
       ">>> mean_squared_error(y_true, y_pred, multioutput=[0.3, 0.7])\n",
       "... # doctest: +ELLIPSIS\n",
       "0.824...\n",
       "\u001b[0;31mFile:\u001b[0m      /opt/conda/lib/python3.6/site-packages/sklearn/metrics/regression.py\n",
       "\u001b[0;31mType:\u001b[0m      function\n"
      ]
     },
     "metadata": {},
     "output_type": "display_data"
    }
   ],
   "source": [
    "mean_squared_error?"
   ]
  },
  {
   "cell_type": "code",
   "execution_count": 3,
   "metadata": {},
   "outputs": [
    {
     "data": {
      "text/plain": [
       "\u001b[0;31mSignature:\u001b[0m \u001b[0mr2_score\u001b[0m\u001b[0;34m(\u001b[0m\u001b[0my_true\u001b[0m\u001b[0;34m,\u001b[0m \u001b[0my_pred\u001b[0m\u001b[0;34m,\u001b[0m \u001b[0msample_weight\u001b[0m\u001b[0;34m=\u001b[0m\u001b[0;32mNone\u001b[0m\u001b[0;34m,\u001b[0m \u001b[0mmultioutput\u001b[0m\u001b[0;34m=\u001b[0m\u001b[0;34m'uniform_average'\u001b[0m\u001b[0;34m)\u001b[0m\u001b[0;34m\u001b[0m\u001b[0m\n",
       "\u001b[0;31mDocstring:\u001b[0m\n",
       "R^2 (coefficient of determination) regression score function.\n",
       "\n",
       "Best possible score is 1.0 and it can be negative (because the\n",
       "model can be arbitrarily worse). A constant model that always\n",
       "predicts the expected value of y, disregarding the input features,\n",
       "would get a R^2 score of 0.0.\n",
       "\n",
       "Read more in the :ref:`User Guide <r2_score>`.\n",
       "\n",
       "Parameters\n",
       "----------\n",
       "y_true : array-like of shape = (n_samples) or (n_samples, n_outputs)\n",
       "    Ground truth (correct) target values.\n",
       "\n",
       "y_pred : array-like of shape = (n_samples) or (n_samples, n_outputs)\n",
       "    Estimated target values.\n",
       "\n",
       "sample_weight : array-like of shape = (n_samples), optional\n",
       "    Sample weights.\n",
       "\n",
       "multioutput : string in ['raw_values', 'uniform_average', 'variance_weighted'] or None or array-like of shape (n_outputs)\n",
       "\n",
       "    Defines aggregating of multiple output scores.\n",
       "    Array-like value defines weights used to average scores.\n",
       "    Default is \"uniform_average\".\n",
       "\n",
       "    'raw_values' :\n",
       "        Returns a full set of scores in case of multioutput input.\n",
       "\n",
       "    'uniform_average' :\n",
       "        Scores of all outputs are averaged with uniform weight.\n",
       "\n",
       "    'variance_weighted' :\n",
       "        Scores of all outputs are averaged, weighted by the variances\n",
       "        of each individual output.\n",
       "\n",
       "    .. versionchanged:: 0.19\n",
       "        Default value of multioutput is 'uniform_average'.\n",
       "\n",
       "Returns\n",
       "-------\n",
       "z : float or ndarray of floats\n",
       "    The R^2 score or ndarray of scores if 'multioutput' is\n",
       "    'raw_values'.\n",
       "\n",
       "Notes\n",
       "-----\n",
       "This is not a symmetric function.\n",
       "\n",
       "Unlike most other scores, R^2 score may be negative (it need not actually\n",
       "be the square of a quantity R).\n",
       "\n",
       "References\n",
       "----------\n",
       ".. [1] `Wikipedia entry on the Coefficient of determination\n",
       "        <https://en.wikipedia.org/wiki/Coefficient_of_determination>`_\n",
       "\n",
       "Examples\n",
       "--------\n",
       ">>> from sklearn.metrics import r2_score\n",
       ">>> y_true = [3, -0.5, 2, 7]\n",
       ">>> y_pred = [2.5, 0.0, 2, 8]\n",
       ">>> r2_score(y_true, y_pred)  # doctest: +ELLIPSIS\n",
       "0.948...\n",
       ">>> y_true = [[0.5, 1], [-1, 1], [7, -6]]\n",
       ">>> y_pred = [[0, 2], [-1, 2], [8, -5]]\n",
       ">>> r2_score(y_true, y_pred, multioutput='variance_weighted')\n",
       "... # doctest: +ELLIPSIS\n",
       "0.938...\n",
       ">>> y_true = [1,2,3]\n",
       ">>> y_pred = [1,2,3]\n",
       ">>> r2_score(y_true, y_pred)\n",
       "1.0\n",
       ">>> y_true = [1,2,3]\n",
       ">>> y_pred = [2,2,2]\n",
       ">>> r2_score(y_true, y_pred)\n",
       "0.0\n",
       ">>> y_true = [1,2,3]\n",
       ">>> y_pred = [3,2,1]\n",
       ">>> r2_score(y_true, y_pred)\n",
       "-3.0\n",
       "\u001b[0;31mFile:\u001b[0m      /opt/conda/lib/python3.6/site-packages/sklearn/metrics/regression.py\n",
       "\u001b[0;31mType:\u001b[0m      function\n"
      ]
     },
     "metadata": {},
     "output_type": "display_data"
    }
   ],
   "source": [
    "r2_score?"
   ]
  },
  {
   "cell_type": "code",
   "execution_count": null,
   "metadata": {},
   "outputs": [],
   "source": []
  }
 ],
 "metadata": {
  "kernelspec": {
   "display_name": "Python 3",
   "language": "python",
   "name": "python3"
  },
  "language_info": {
   "codemirror_mode": {
    "name": "ipython",
    "version": 3
   },
   "file_extension": ".py",
   "mimetype": "text/x-python",
   "name": "python",
   "nbconvert_exporter": "python",
   "pygments_lexer": "ipython3",
   "version": "3.6.5"
  }
 },
 "nbformat": 4,
 "nbformat_minor": 2
}
