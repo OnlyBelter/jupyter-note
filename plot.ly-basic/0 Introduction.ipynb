{
 "cells": [
  {
   "cell_type": "markdown",
   "metadata": {},
   "source": [
    "### plot.ly\n",
    "- https://plot.ly/python/\n",
    "- https://plot.ly/python/getting-started/#jupyter-setup\n",
    "- https://plot.ly/python/getting-started/#initialization-for-offline-plotting\n",
    "- https://plot.ly/python/offline/\n",
    "\n",
    "Use `plotly.offline.plot()` to create and standalone HTML that is saved locally and opened inside your web browser.\n",
    "\n",
    "Use `plotly.offline.iplot()` when working offline in a Jupyter Notebook to display the plot in the notebook."
   ]
  },
  {
   "cell_type": "code",
   "execution_count": 1,
   "metadata": {},
   "outputs": [
    {
     "data": {
      "text/plain": [
       "'3.7.1'"
      ]
     },
     "execution_count": 1,
     "metadata": {},
     "output_type": "execute_result"
    }
   ],
   "source": [
    "import plotly\n",
    "plotly.__version__"
   ]
  },
  {
   "cell_type": "code",
   "execution_count": null,
   "metadata": {},
   "outputs": [],
   "source": []
  }
 ],
 "metadata": {
  "kernelspec": {
   "display_name": "Python 3",
   "language": "python",
   "name": "python3"
  },
  "language_info": {
   "codemirror_mode": {
    "name": "ipython",
    "version": 3
   },
   "file_extension": ".py",
   "mimetype": "text/x-python",
   "name": "python",
   "nbconvert_exporter": "python",
   "pygments_lexer": "ipython3",
   "version": "3.6.7"
  }
 },
 "nbformat": 4,
 "nbformat_minor": 2
}
